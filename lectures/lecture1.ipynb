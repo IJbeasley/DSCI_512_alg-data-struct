{
 "cells": [
  {
   "cell_type": "markdown",
   "metadata": {},
   "source": [
    "# DSCI 512 Lecture 1\n",
    "\n",
    "Outline:\n",
    "\n",
    "- High level course intro (5 min)\n",
    "- Code demos (10 min)\n",
    "- Time complexity (10 min)\n",
    "- Big O notation (10 min)\n",
    "- Break (5 min)\n",
    "- Example Big O analysis (10 min)\n",
    "- Visualizing time complexities (5 min)\n",
    "- Space complexity (10 min)\n",
    "- True/False questions (15 min)\n"
   ]
  },
  {
   "cell_type": "code",
   "execution_count": 1,
   "metadata": {},
   "outputs": [],
   "source": [
    "import numpy as np\n",
    "import pandas as pd\n",
    "\n",
    "import altair as alt"
   ]
  },
  {
   "cell_type": "markdown",
   "metadata": {},
   "source": [
    "## High-level course intro (5 min)\n",
    "\n",
    "Course goals:\n",
    "\n",
    "- \"Classic\" undergraduate algorithms and data structures\n",
    "  - Extremely compressed, a subset of topics\n",
    "  - No time to go in depth\n",
    "- What to do if your code is too slow\n",
    "  - Python-specific\n",
    "\n",
    "A lot of students struggled with this course in past years:\n",
    "\n",
    "- Difficulty/pace\n",
    "- Some topics did not seem relevant to Data Science\n",
    "- Python coding\n",
    "\n",
    "Changes for this year:\n",
    "\n",
    "- Lectures completely re-written to be more applied, show more code and examples.\n",
    "  - Last year's lecture slides are available in the course repo.\n",
    "- New high-level course goal about dealing with slow code - so far just a bit of content.\n",
    "- \"From scratch\" implementation questions made optional in lab.\n",
    "- The Python content in DSCI 511 has been beefed up, this will hopefully help."
   ]
  },
  {
   "cell_type": "markdown",
   "metadata": {},
   "source": [
    "Note: this lecture is meant to be run in Jupyter - part of the experience is that some cells take longer to run than others. Simply reading the notebook will not make sense."
   ]
  },
  {
   "cell_type": "markdown",
   "metadata": {},
   "source": [
    "## Code demos (15 min)"
   ]
  },
  {
   "cell_type": "markdown",
   "metadata": {},
   "source": [
    "#### Demo 1: searching (list vs. set)\n",
    "\n",
    "- Common problem: is a certain value present in a collection of items?"
   ]
  },
  {
   "cell_type": "code",
   "execution_count": 1,
   "metadata": {},
   "outputs": [],
   "source": [
    "n = 10_000_000 #can put _ for readiblity doesn't change the code\n",
    "x = list(range(n))"
   ]
  },
  {
   "cell_type": "code",
   "execution_count": 2,
   "metadata": {},
   "outputs": [
    {
     "data": {
      "text/plain": [
       "False"
      ]
     },
     "execution_count": 2,
     "metadata": {},
     "output_type": "execute_result"
    }
   ],
   "source": [
    "-1 in x"
   ]
  },
  {
   "cell_type": "code",
   "execution_count": 3,
   "metadata": {},
   "outputs": [
    {
     "name": "stdout",
     "output_type": "stream",
     "text": [
      "82 ms ± 768 µs per loop (mean ± std. dev. of 7 runs, 10 loops each)\n"
     ]
    }
   ],
   "source": [
    "%timeit (-1 in x) #ipython not python term so works in jupyter"
   ]
  },
  {
   "cell_type": "code",
   "execution_count": 4,
   "metadata": {},
   "outputs": [],
   "source": [
    "x = set(range(n))"
   ]
  },
  {
   "cell_type": "code",
   "execution_count": 6,
   "metadata": {},
   "outputs": [
    {
     "data": {
      "text/plain": [
       "False"
      ]
     },
     "execution_count": 6,
     "metadata": {},
     "output_type": "execute_result"
    }
   ],
   "source": [
    "-1 in x"
   ]
  },
  {
   "cell_type": "code",
   "execution_count": 5,
   "metadata": {},
   "outputs": [
    {
     "name": "stdout",
     "output_type": "stream",
     "text": [
      "42.6 ns ± 1.28 ns per loop (mean ± std. dev. of 7 runs, 10000000 loops each)\n"
     ]
    }
   ],
   "source": [
    "%timeit (-1 in x) #nano vs - million\n",
    "# why is it faster for just set vs list?\n",
    "# timeit keeps doing it number of time)"
   ]
  },
  {
   "cell_type": "markdown",
   "metadata": {},
   "source": [
    "Questions we'll answer in this course:\n",
    "\n",
    "- How could I have predicted this outcome?\n",
    "- What if I double the size of $n$: how much slower will the code be in each case? (Quantitative analysis)\n",
    "- Why did this happen? (not in detail)"
   ]
  },
  {
   "cell_type": "markdown",
   "metadata": {},
   "source": [
    "Note: we were cheating a little bit, because _creating_ the set takes longer than creating the list. However, as we can see, it's still fast."
   ]
  },
  {
   "cell_type": "markdown",
   "metadata": {},
   "source": [
    "#### Demo 2: sorting (insertion vs. quick)"
   ]
  },
  {
   "cell_type": "markdown",
   "metadata": {},
   "source": [
    "Aside: min vs. argmin"
   ]
  },
  {
   "cell_type": "code",
   "execution_count": 6,
   "metadata": {},
   "outputs": [],
   "source": [
    "x = [4.2, 98.2, 9.0, 0.1, 30, 2.5, 2.6]"
   ]
  },
  {
   "cell_type": "code",
   "execution_count": 7,
   "metadata": {},
   "outputs": [
    {
     "data": {
      "text/plain": [
       "0.1"
      ]
     },
     "execution_count": 7,
     "metadata": {},
     "output_type": "execute_result"
    }
   ],
   "source": [
    "min(x)  # Python min"
   ]
  },
  {
   "cell_type": "code",
   "execution_count": 9,
   "metadata": {},
   "outputs": [
    {
     "data": {
      "text/plain": [
       "0.1"
      ]
     },
     "execution_count": 9,
     "metadata": {},
     "output_type": "execute_result"
    }
   ],
   "source": [
    "import numpy as np\n",
    "np.min(x)  # Numpy min: generally better if working with Numpy arays"
   ]
  },
  {
   "cell_type": "code",
   "execution_count": 10,
   "metadata": {},
   "outputs": [
    {
     "data": {
      "text/plain": [
       "3"
      ]
     },
     "execution_count": 10,
     "metadata": {},
     "output_type": "execute_result"
    }
   ],
   "source": [
    "np.argmin(x) #the index of the minimum"
   ]
  },
  {
   "cell_type": "code",
   "execution_count": 11,
   "metadata": {},
   "outputs": [
    {
     "data": {
      "text/plain": [
       "0.1"
      ]
     },
     "execution_count": 11,
     "metadata": {},
     "output_type": "execute_result"
    }
   ],
   "source": [
    "x[3]"
   ]
  },
  {
   "cell_type": "markdown",
   "metadata": {},
   "source": [
    "Above: `np.argmin` gives us the _index of_ the smallest value.\n",
    "\n",
    "Now, back to the demo."
   ]
  },
  {
   "cell_type": "code",
   "execution_count": 12,
   "metadata": {},
   "outputs": [],
   "source": [
    "n = 20_000\n",
    "x = list(range(n))"
   ]
  },
  {
   "cell_type": "code",
   "execution_count": 13,
   "metadata": {},
   "outputs": [],
   "source": [
    "np.random.shuffle(x)"
   ]
  },
  {
   "cell_type": "code",
   "execution_count": 14,
   "metadata": {},
   "outputs": [
    {
     "data": {
      "text/plain": [
       "[4255, 7979, 8941, 6666, 17800, 10187, 5788, 13475, 1676, 7753]"
      ]
     },
     "execution_count": 14,
     "metadata": {},
     "output_type": "execute_result"
    }
   ],
   "source": [
    "x[:10]"
   ]
  },
  {
   "cell_type": "code",
   "execution_count": 15,
   "metadata": {},
   "outputs": [],
   "source": [
    "# sorting order\n",
    "# loop through x its finding the smallest thing\n",
    "for i in range(n):\n",
    "    min_ind = np.argmin(x[i:]) + i\n",
    "    x[i], x[min_ind] = x[min_ind], x[i]\n",
    "    \n",
    "# often for loops are linear time - \n",
    "# but in this case step min_ind is also o(n)\n",
    "# so n*o(n) is o(n^2)"
   ]
  },
  {
   "cell_type": "code",
   "execution_count": 17,
   "metadata": {},
   "outputs": [
    {
     "data": {
      "text/plain": [
       "[0, 1, 2, 3, 4, 5, 6, 7, 8, 9]"
      ]
     },
     "execution_count": 17,
     "metadata": {},
     "output_type": "execute_result"
    }
   ],
   "source": [
    "x[:10]"
   ]
  },
  {
   "cell_type": "code",
   "execution_count": 16,
   "metadata": {},
   "outputs": [],
   "source": [
    "np.random.shuffle(x)"
   ]
  },
  {
   "cell_type": "code",
   "execution_count": 19,
   "metadata": {},
   "outputs": [
    {
     "data": {
      "text/plain": [
       "[17206, 1917, 10960, 18442, 9370, 13829, 6076, 11835, 783, 18349]"
      ]
     },
     "execution_count": 19,
     "metadata": {},
     "output_type": "execute_result"
    }
   ],
   "source": [
    "x[:10]"
   ]
  },
  {
   "cell_type": "code",
   "execution_count": 17,
   "metadata": {},
   "outputs": [],
   "source": [
    "x.sort() #much much faster"
   ]
  },
  {
   "cell_type": "code",
   "execution_count": 21,
   "metadata": {},
   "outputs": [
    {
     "data": {
      "text/plain": [
       "[0, 1, 2, 3, 4, 5, 6, 7, 8, 9]"
      ]
     },
     "execution_count": 21,
     "metadata": {},
     "output_type": "execute_result"
    }
   ],
   "source": [
    "x[:10]"
   ]
  },
  {
   "cell_type": "markdown",
   "metadata": {},
   "source": [
    "Questions we'll answer in this course:\n",
    "\n",
    "- How could I have predicted this outcome?\n",
    "- What if I double the size of $n$ - how much slower will the code be in each case? (Quantitative analysis)\n",
    "- Could I make a sort as good the numpy sort?\n",
    "- Why did this happen? (not in detail)"
   ]
  },
  {
   "cell_type": "markdown",
   "metadata": {},
   "source": [
    "#### Demo 3: batch operations (loop vs. vectorized)"
   ]
  },
  {
   "cell_type": "code",
   "execution_count": 18,
   "metadata": {},
   "outputs": [],
   "source": [
    "n = 10_000_000\n",
    "x = np.random.rand(n)\n",
    "y = np.zeros(n)"
   ]
  },
  {
   "cell_type": "code",
   "execution_count": 23,
   "metadata": {},
   "outputs": [
    {
     "data": {
      "text/plain": [
       "array([0.80508117, 0.87735468, 0.88340288, 0.00538785, 0.23316456,\n",
       "       0.42268779, 0.16282136, 0.98059338, 0.89237438, 0.86073482])"
      ]
     },
     "execution_count": 23,
     "metadata": {},
     "output_type": "execute_result"
    }
   ],
   "source": [
    "x[:10]"
   ]
  },
  {
   "cell_type": "code",
   "execution_count": 24,
   "metadata": {},
   "outputs": [
    {
     "data": {
      "text/plain": [
       "array([0., 0., 0., 0., 0., 0., 0., 0., 0., 0.])"
      ]
     },
     "execution_count": 24,
     "metadata": {},
     "output_type": "execute_result"
    }
   ],
   "source": [
    "y[:10]"
   ]
  },
  {
   "cell_type": "code",
   "execution_count": 25,
   "metadata": {},
   "outputs": [],
   "source": [
    "for i in range(n):\n",
    "    y[i] = x[i] * 2"
   ]
  },
  {
   "cell_type": "code",
   "execution_count": 26,
   "metadata": {},
   "outputs": [],
   "source": [
    "x = np.random.rand(n)\n",
    "y = np.zeros(n)"
   ]
  },
  {
   "cell_type": "code",
   "execution_count": 27,
   "metadata": {},
   "outputs": [],
   "source": [
    "y = x * 2"
   ]
  },
  {
   "cell_type": "markdown",
   "metadata": {},
   "source": [
    "Questions we'll answer in this course:\n",
    "\n",
    "- How could I have predicted this outcome?\n",
    "- What if I double the size of $n$: how much slower will the code be in each case? (Quantitative analysis)\n",
    "- Why did this happen? (not in detail)\n",
    "\n",
    "Sometimes faster because data structure (set vs list), sometimes because algorithm, sometimes because of better implementation."
   ]
  },
  {
   "cell_type": "markdown",
   "metadata": {},
   "source": [
    "## Time complexity (10 min)"
   ]
  },
  {
   "cell_type": "markdown",
   "metadata": {},
   "source": [
    "- We'll focus on the 2nd question about: how does the runtime change as a function of $n$?\n",
    "- For now, let's ask ourselves: \"if we double $n$, what happens to the number of steps?\""
   ]
  },
  {
   "cell_type": "markdown",
   "metadata": {},
   "source": [
    "#### Examples from the above demos\n",
    "\n",
    "For each of the following, what happens to the runtime if we double $n$?\n",
    "\n",
    "**Operation:** Finding whether a number is in a list.\n",
    "<br><br><br><br><br><br>\n",
    "**Answer:** it doubles.\n",
    "<br>\n"
   ]
  },
  {
   "cell_type": "markdown",
   "metadata": {},
   "source": [
    "**Operation:** Finding whether a number is in a set.\n",
    "<br><br><br><br><br><br>\n",
    "**Answer:** it stays roughly the same.\n",
    "<br>"
   ]
  },
  {
   "cell_type": "markdown",
   "metadata": {},
   "source": [
    "**Operation:** Sorting with my code.\n",
    "<br><br><br><br><br><br>\n",
    "**Answer:** it quadruples (4x)\n",
    "<br><br>"
   ]
  },
  {
   "cell_type": "markdown",
   "metadata": {},
   "source": [
    "**Operation:** Sorting with `sort`.\n",
    "<br><br><br><br><br><br>\n",
    "**Answer:** it slightly more than doubles\n",
    "<br><br>"
   ]
  },
  {
   "cell_type": "markdown",
   "metadata": {},
   "source": [
    "**Operation:** Doubling an array with a loop.\n",
    "<br><br><br><br><br><br>\n",
    "**Answer:** it doubles\n",
    "<br><br>  \n",
    "  "
   ]
  },
  {
   "cell_type": "markdown",
   "metadata": {},
   "source": [
    "**Operation:** Doubling an array with numpy.\n",
    "<br><br><br><br><br><br>\n",
    "**Answer:** it doubles (but is much faster than with a loop!)\n",
    "<br><br>  \n",
    "\n",
    "  \n"
   ]
  },
  {
   "cell_type": "markdown",
   "metadata": {},
   "source": [
    "These scenarios form part of the roadmap of the course - by the end we'll hopefully have explored most of them.\n",
    "\n",
    "Implementation - sometimes more unpredictable without trial - trends in long term are easier to predict. "
   ]
  },
  {
   "cell_type": "markdown",
   "metadata": {},
   "source": [
    "## Big O notation - intro (10 min)\n",
    "\n",
    "- We will formalize tiem complexity using _Big O notation_. \n",
    "  - In addition to $O$, there is also $o$, $\\omega$, $\\Omega$, $\\theta$, $\\Theta$, and more. But Big O is the most common and we'll only discuss Big O.\n",
    "  - We will not go into the mathematical details but if you're interested, you can read about it online (e.g. the [Wikipedia article](https://en.wikipedia.org/wiki/Big_O_notation)).\n",
    "- The Big O tells us the **approximate number of steps** an algorithm performs **as a function of the input size** (i.e. $n$ above).\n",
    "- Upper bound\n",
    "- Proxy for how fast\n"
   ]
  },
  {
   "cell_type": "markdown",
   "metadata": {},
   "source": [
    "#### Common runtimes\n",
    "\n",
    "- For example, if doubling $n$ causing the runtime to change 4x, then we say the complexity is $O(n^2)$\n",
    "  - The function $f(n)=n^2$ has the property that $f(2n)=4f(n)$\n",
    "\n",
    "\n",
    "| Big O  &nbsp; &nbsp; &nbsp; &nbsp; &nbsp; &nbsp; &nbsp; &nbsp; &nbsp; &nbsp;&nbsp; &nbsp; &nbsp; &nbsp; &nbsp; &nbsp; &nbsp;  &nbsp; &nbsp; &nbsp;&nbsp; &nbsp; &nbsp; &nbsp; &nbsp; &nbsp; |  name  | change in runtime if I double $n$? |\n",
    "|-------|--------|-------|\n",
    "| $O(1)$ | constant | same |\n",
    "| $O(\\log n)$ | logarithmic | increased by a constant |\n",
    "| $O(n)$ | linear | 2x | \n",
    "| $O(n \\log n)$ | linearithmic | roughly 2x | \n",
    "| $O(n^2)$ | quadratic | 4x |\n",
    "| $O(n^3)$ | cubic | 8x |\n",
    "| $O(n^k)$ | polynomial | increase by a factor of $2^k$ | \n",
    "| $O(2^n)$ | exponential | squared |\n",
    "\n",
    "- The exponential case is so bad that we just use the same name, \"exponential\" for a lot of cases, like $O(3^n),O(k^n),O(n!)$, etc\n",
    "- For $O(2^n)$, increasing $n$ by 1 causes the runtime to double!"
   ]
  },
  {
   "cell_type": "markdown",
   "metadata": {},
   "source": [
    "#### Back to the examples from earlier \n",
    "\n",
    "For each of the following, what is the time complexity in Big O notation?\n",
    "\n",
    "- Finding whether a number is in a list.\n",
    "  - Answer: $O(n)$\n",
    "- Finding whether a number is in a set.\n",
    "  - Answer: $O(1)$ (more on this next week)\n",
    "- Sorting with my code.\n",
    "  - Answer: $O(n^2)$\n",
    "- Sorting with `sort`.\n",
    "  - Answer: $O(n \\log n)$ (more on this next week)\n",
    "- Doubling with a loop.\n",
    "  - Answer: $O(n)$\n",
    "- Doubling with numpy.\n",
    "  - Answer: $O(n)$"
   ]
  },
  {
   "cell_type": "markdown",
   "metadata": {},
   "source": [
    "#### Constant factors are not important\n",
    "\n",
    "- In Big O notation, we ignore constants.\n",
    "  - If an algorithm takes $2n$ steps, we write $O(n)$, not $O(2n$).\n",
    "  - We're interested in the big picture, not the details.\n",
    "- In Big O notation, we ignore \"lower order\" terms.\n",
    "  - If the number of steps is $n+\\log n$, we write $O(n)$ not $O(n+\\log n)$\n",
    "  - We're interested in the growth when $n$ is large.\n",
    "  - The lower order terms stop being important when $n$ is large. \n",
    "  - But they might be important when $n$ is small!\n",
    "- As such, Big O complexities can be misleading at times.\n",
    "  - Is code that runs in $O(\\log n)$ time faster than code that runs in $O(n)$ time?\n",
    "  - Not always! It depends on the details.\n",
    "  - $10000\\log n$ is more than $0.001n$ for small values of $n$.\n",
    "  - You will see an example of this phenomenon in lab 2."
   ]
  },
  {
   "cell_type": "markdown",
   "metadata": {},
   "source": [
    "## Break (5 min)"
   ]
  },
  {
   "cell_type": "markdown",
   "metadata": {},
   "source": [
    "## Example Big O analysis (10 min)\n",
    "\n",
    "Create an array `x` of length `n`:"
   ]
  },
  {
   "cell_type": "code",
   "execution_count": null,
   "metadata": {},
   "outputs": [],
   "source": [
    "n = 20_000\n",
    "x = list(range(n))\n",
    "np.random.shuffle(x)"
   ]
  },
  {
   "cell_type": "markdown",
   "metadata": {},
   "source": [
    "Sort `x` inplace:"
   ]
  },
  {
   "cell_type": "code",
   "execution_count": null,
   "metadata": {},
   "outputs": [],
   "source": [
    "for i in range(n):\n",
    "    min_ind = np.argmin(x[i:]) + i\n",
    "    x[i], x[min_ind] = x[min_ind], x[i]"
   ]
  },
  {
   "cell_type": "markdown",
   "metadata": {},
   "source": [
    "- How does the above code work?\n",
    "  - For the remaining part of the array `x[i:]`, find the smallest element.\n",
    "  - Swap this with the current element.\n",
    "  - Repeat until reaching the end of the array.\n",
    "- We will revisit this code next class"
   ]
  },
  {
   "cell_type": "markdown",
   "metadata": {},
   "source": [
    "How long does the code take?\n",
    "\n",
    "- The swapping takes constant time.\n",
    "- The call to `np.argmin` needs to look through the array.\n",
    "  - This takes time proportional to the length of the array.\n",
    "  - The first time, the length is $n$. Then $n-1$, then $n-2$, etc.\n",
    "- The number of steps in the above code is\n",
    "\n",
    "$n+(n-1)+(n-2)+\\ldots+3+2+1$\n",
    "\n",
    "This is an arithmetic series; the sum is $\\frac{n(n+1)}{2}=\\frac12 n^2 + \\frac{n}{2}$"
   ]
  },
  {
   "cell_type": "markdown",
   "metadata": {},
   "source": [
    "- We ignore the $\\frac{n}{2}$ because it is very small compared to $\\frac12 n^2$ when $n$ is large.\n",
    "- E.g. for $n=1000$ we have $\\frac{1}{2}n^2= 500000$ vs. $\\frac{n}{2}=500$.\n",
    "- We ignore the $\\frac12$ because we're only interested in the growth, not the scaling factor.\n",
    "- Result: we say the above code is $O(n^2)$.\n",
    "\n",
    "Put another way, for our purposes this is the same as code that performs $n$ steps inside the loop. The fact that it actually decreases each time is not important enough to show up in the Big O."
   ]
  },
  {
   "cell_type": "markdown",
   "metadata": {},
   "source": [
    "#### How to determine the complexity?\n",
    "\n",
    "- With raw Python/numpy code, we can often \"count the number of loops\"\n",
    "  - A loop $n$ times gives $O(n)$\n",
    "  - A nested loop gives $O(n^2$)\n",
    "  - etc\n",
    "- However, we have to think about the functions we're using. "
   ]
  },
  {
   "cell_type": "markdown",
   "metadata": {},
   "source": [
    "#### What factors affect the runtime?\n",
    "\n",
    "- What affects the Big O?\n",
    "  - Typically, just the algorithm.\n",
    "- What affects the constant?\n",
    "  - The algorithm.\n",
    "    - Does it take $n$ steps or $2n$ steps or $100000n$ steps?\n",
    "    - How complicated is each step?\n",
    "  - The _implementation_.\n",
    "    - How fast is your programming language?\n",
    "    - How fast are your libraries (e.g. Numpy)?\n",
    "    - How fast is your laptop?\n",
    "    - Is there an opportunity for parallel computation?\n",
    "- The implementation issues are quite complicated. \n",
    "  - This relates to the new course-level goal.\n",
    "  - Well cover this in lecture 8."
   ]
  },
  {
   "cell_type": "markdown",
   "metadata": {},
   "source": [
    "## Visualizing time complexities (5 min)"
   ]
  },
  {
   "cell_type": "code",
   "execution_count": 28,
   "metadata": {},
   "outputs": [
    {
     "data": {
      "application/vnd.vegalite.v3+json": {
       "$schema": "https://vega.github.io/schema/vega-lite/v3.4.0.json",
       "config": {
        "axis": {
         "grid": false
        },
        "mark": {
         "tooltip": null
        },
        "view": {
         "height": 300,
         "width": 400
        }
       },
       "data": {
        "name": "data-c86b725f760b7dc3d73ed1d963cb7469"
       },
       "datasets": {
        "data-c86b725f760b7dc3d73ed1d963cb7469": [
         {
          "Complexity": "O(1)",
          "f(n)": 1,
          "n": 1
         },
         {
          "Complexity": "O(1)",
          "f(n)": 1,
          "n": 1.1
         },
         {
          "Complexity": "O(1)",
          "f(n)": 1,
          "n": 1.2000000000000002
         },
         {
          "Complexity": "O(1)",
          "f(n)": 1,
          "n": 1.3000000000000003
         },
         {
          "Complexity": "O(1)",
          "f(n)": 1,
          "n": 1.4000000000000004
         },
         {
          "Complexity": "O(1)",
          "f(n)": 1,
          "n": 1.5000000000000004
         },
         {
          "Complexity": "O(1)",
          "f(n)": 1,
          "n": 1.6000000000000005
         },
         {
          "Complexity": "O(1)",
          "f(n)": 1,
          "n": 1.7000000000000006
         },
         {
          "Complexity": "O(1)",
          "f(n)": 1,
          "n": 1.8000000000000007
         },
         {
          "Complexity": "O(1)",
          "f(n)": 1,
          "n": 1.9000000000000008
         },
         {
          "Complexity": "O(1)",
          "f(n)": 1,
          "n": 2.000000000000001
         },
         {
          "Complexity": "O(1)",
          "f(n)": 1,
          "n": 2.100000000000001
         },
         {
          "Complexity": "O(1)",
          "f(n)": 1,
          "n": 2.200000000000001
         },
         {
          "Complexity": "O(1)",
          "f(n)": 1,
          "n": 2.300000000000001
         },
         {
          "Complexity": "O(1)",
          "f(n)": 1,
          "n": 2.4000000000000012
         },
         {
          "Complexity": "O(1)",
          "f(n)": 1,
          "n": 2.5000000000000013
         },
         {
          "Complexity": "O(1)",
          "f(n)": 1,
          "n": 2.6000000000000014
         },
         {
          "Complexity": "O(1)",
          "f(n)": 1,
          "n": 2.7000000000000015
         },
         {
          "Complexity": "O(1)",
          "f(n)": 1,
          "n": 2.8000000000000016
         },
         {
          "Complexity": "O(1)",
          "f(n)": 1,
          "n": 2.9000000000000017
         },
         {
          "Complexity": "O(1)",
          "f(n)": 1,
          "n": 3.0000000000000018
         },
         {
          "Complexity": "O(1)",
          "f(n)": 1,
          "n": 3.100000000000002
         },
         {
          "Complexity": "O(1)",
          "f(n)": 1,
          "n": 3.200000000000002
         },
         {
          "Complexity": "O(1)",
          "f(n)": 1,
          "n": 3.300000000000002
         },
         {
          "Complexity": "O(1)",
          "f(n)": 1,
          "n": 3.400000000000002
         },
         {
          "Complexity": "O(1)",
          "f(n)": 1,
          "n": 3.500000000000002
         },
         {
          "Complexity": "O(1)",
          "f(n)": 1,
          "n": 3.6000000000000023
         },
         {
          "Complexity": "O(1)",
          "f(n)": 1,
          "n": 3.7000000000000024
         },
         {
          "Complexity": "O(1)",
          "f(n)": 1,
          "n": 3.8000000000000025
         },
         {
          "Complexity": "O(1)",
          "f(n)": 1,
          "n": 3.9000000000000026
         },
         {
          "Complexity": "O(1)",
          "f(n)": 1,
          "n": 4.000000000000003
         },
         {
          "Complexity": "O(1)",
          "f(n)": 1,
          "n": 4.100000000000003
         },
         {
          "Complexity": "O(1)",
          "f(n)": 1,
          "n": 4.200000000000003
         },
         {
          "Complexity": "O(1)",
          "f(n)": 1,
          "n": 4.3000000000000025
         },
         {
          "Complexity": "O(1)",
          "f(n)": 1,
          "n": 4.400000000000003
         },
         {
          "Complexity": "O(1)",
          "f(n)": 1,
          "n": 4.5000000000000036
         },
         {
          "Complexity": "O(1)",
          "f(n)": 1,
          "n": 4.600000000000003
         },
         {
          "Complexity": "O(1)",
          "f(n)": 1,
          "n": 4.700000000000003
         },
         {
          "Complexity": "O(1)",
          "f(n)": 1,
          "n": 4.800000000000003
         },
         {
          "Complexity": "O(1)",
          "f(n)": 1,
          "n": 4.900000000000004
         },
         {
          "Complexity": "O(1)",
          "f(n)": 1,
          "n": 5.0000000000000036
         },
         {
          "Complexity": "O(1)",
          "f(n)": 1,
          "n": 5.100000000000003
         },
         {
          "Complexity": "O(1)",
          "f(n)": 1,
          "n": 5.200000000000004
         },
         {
          "Complexity": "O(1)",
          "f(n)": 1,
          "n": 5.300000000000004
         },
         {
          "Complexity": "O(1)",
          "f(n)": 1,
          "n": 5.400000000000004
         },
         {
          "Complexity": "O(1)",
          "f(n)": 1,
          "n": 5.5000000000000036
         },
         {
          "Complexity": "O(1)",
          "f(n)": 1,
          "n": 5.600000000000004
         },
         {
          "Complexity": "O(1)",
          "f(n)": 1,
          "n": 5.700000000000005
         },
         {
          "Complexity": "O(1)",
          "f(n)": 1,
          "n": 5.800000000000004
         },
         {
          "Complexity": "O(1)",
          "f(n)": 1,
          "n": 5.900000000000004
         },
         {
          "Complexity": "O(1)",
          "f(n)": 1,
          "n": 6.000000000000004
         },
         {
          "Complexity": "O(1)",
          "f(n)": 1,
          "n": 6.100000000000005
         },
         {
          "Complexity": "O(1)",
          "f(n)": 1,
          "n": 6.200000000000005
         },
         {
          "Complexity": "O(1)",
          "f(n)": 1,
          "n": 6.300000000000004
         },
         {
          "Complexity": "O(1)",
          "f(n)": 1,
          "n": 6.400000000000005
         },
         {
          "Complexity": "O(1)",
          "f(n)": 1,
          "n": 6.500000000000005
         },
         {
          "Complexity": "O(1)",
          "f(n)": 1,
          "n": 6.600000000000005
         },
         {
          "Complexity": "O(1)",
          "f(n)": 1,
          "n": 6.700000000000005
         },
         {
          "Complexity": "O(1)",
          "f(n)": 1,
          "n": 6.800000000000005
         },
         {
          "Complexity": "O(1)",
          "f(n)": 1,
          "n": 6.900000000000006
         },
         {
          "Complexity": "O(1)",
          "f(n)": 1,
          "n": 7.000000000000005
         },
         {
          "Complexity": "O(1)",
          "f(n)": 1,
          "n": 7.100000000000005
         },
         {
          "Complexity": "O(1)",
          "f(n)": 1,
          "n": 7.2000000000000055
         },
         {
          "Complexity": "O(1)",
          "f(n)": 1,
          "n": 7.300000000000006
         },
         {
          "Complexity": "O(1)",
          "f(n)": 1,
          "n": 7.400000000000006
         },
         {
          "Complexity": "O(1)",
          "f(n)": 1,
          "n": 7.500000000000005
         },
         {
          "Complexity": "O(1)",
          "f(n)": 1,
          "n": 7.600000000000006
         },
         {
          "Complexity": "O(1)",
          "f(n)": 1,
          "n": 7.700000000000006
         },
         {
          "Complexity": "O(1)",
          "f(n)": 1,
          "n": 7.800000000000006
         },
         {
          "Complexity": "O(1)",
          "f(n)": 1,
          "n": 7.900000000000006
         },
         {
          "Complexity": "O(1)",
          "f(n)": 1,
          "n": 8.000000000000007
         },
         {
          "Complexity": "O(1)",
          "f(n)": 1,
          "n": 8.100000000000007
         },
         {
          "Complexity": "O(1)",
          "f(n)": 1,
          "n": 8.200000000000006
         },
         {
          "Complexity": "O(1)",
          "f(n)": 1,
          "n": 8.300000000000006
         },
         {
          "Complexity": "O(1)",
          "f(n)": 1,
          "n": 8.400000000000006
         },
         {
          "Complexity": "O(1)",
          "f(n)": 1,
          "n": 8.500000000000007
         },
         {
          "Complexity": "O(1)",
          "f(n)": 1,
          "n": 8.600000000000007
         },
         {
          "Complexity": "O(1)",
          "f(n)": 1,
          "n": 8.700000000000006
         },
         {
          "Complexity": "O(1)",
          "f(n)": 1,
          "n": 8.800000000000008
         },
         {
          "Complexity": "O(1)",
          "f(n)": 1,
          "n": 8.900000000000007
         },
         {
          "Complexity": "O(1)",
          "f(n)": 1,
          "n": 9.000000000000007
         },
         {
          "Complexity": "O(1)",
          "f(n)": 1,
          "n": 9.100000000000007
         },
         {
          "Complexity": "O(1)",
          "f(n)": 1,
          "n": 9.200000000000006
         },
         {
          "Complexity": "O(1)",
          "f(n)": 1,
          "n": 9.300000000000008
         },
         {
          "Complexity": "O(1)",
          "f(n)": 1,
          "n": 9.400000000000007
         },
         {
          "Complexity": "O(1)",
          "f(n)": 1,
          "n": 9.500000000000007
         },
         {
          "Complexity": "O(1)",
          "f(n)": 1,
          "n": 9.600000000000009
         },
         {
          "Complexity": "O(1)",
          "f(n)": 1,
          "n": 9.700000000000008
         },
         {
          "Complexity": "O(1)",
          "f(n)": 1,
          "n": 9.800000000000008
         },
         {
          "Complexity": "O(1)",
          "f(n)": 1,
          "n": 9.900000000000007
         },
         {
          "Complexity": "O(1)",
          "f(n)": 1,
          "n": 10.000000000000007
         },
         {
          "Complexity": "O(1)",
          "f(n)": 1,
          "n": 10.100000000000009
         },
         {
          "Complexity": "O(1)",
          "f(n)": 1,
          "n": 10.200000000000008
         },
         {
          "Complexity": "O(1)",
          "f(n)": 1,
          "n": 10.300000000000008
         },
         {
          "Complexity": "O(1)",
          "f(n)": 1,
          "n": 10.40000000000001
         },
         {
          "Complexity": "O(1)",
          "f(n)": 1,
          "n": 10.500000000000009
         },
         {
          "Complexity": "O(1)",
          "f(n)": 1,
          "n": 10.600000000000009
         },
         {
          "Complexity": "O(1)",
          "f(n)": 1,
          "n": 10.700000000000008
         },
         {
          "Complexity": "O(1)",
          "f(n)": 1,
          "n": 10.800000000000008
         },
         {
          "Complexity": "O(1)",
          "f(n)": 1,
          "n": 10.90000000000001
         },
         {
          "Complexity": "O(1)",
          "f(n)": 1,
          "n": 11.000000000000009
         },
         {
          "Complexity": "O(1)",
          "f(n)": 1,
          "n": 11.100000000000009
         },
         {
          "Complexity": "O(1)",
          "f(n)": 1,
          "n": 11.20000000000001
         },
         {
          "Complexity": "O(1)",
          "f(n)": 1,
          "n": 11.30000000000001
         },
         {
          "Complexity": "O(1)",
          "f(n)": 1,
          "n": 11.40000000000001
         },
         {
          "Complexity": "O(1)",
          "f(n)": 1,
          "n": 11.500000000000009
         },
         {
          "Complexity": "O(1)",
          "f(n)": 1,
          "n": 11.600000000000009
         },
         {
          "Complexity": "O(1)",
          "f(n)": 1,
          "n": 11.70000000000001
         },
         {
          "Complexity": "O(1)",
          "f(n)": 1,
          "n": 11.80000000000001
         },
         {
          "Complexity": "O(1)",
          "f(n)": 1,
          "n": 11.90000000000001
         },
         {
          "Complexity": "O(1)",
          "f(n)": 1,
          "n": 12.00000000000001
         },
         {
          "Complexity": "O(1)",
          "f(n)": 1,
          "n": 12.10000000000001
         },
         {
          "Complexity": "O(1)",
          "f(n)": 1,
          "n": 12.20000000000001
         },
         {
          "Complexity": "O(1)",
          "f(n)": 1,
          "n": 12.30000000000001
         },
         {
          "Complexity": "O(1)",
          "f(n)": 1,
          "n": 12.40000000000001
         },
         {
          "Complexity": "O(1)",
          "f(n)": 1,
          "n": 12.50000000000001
         },
         {
          "Complexity": "O(1)",
          "f(n)": 1,
          "n": 12.60000000000001
         },
         {
          "Complexity": "O(1)",
          "f(n)": 1,
          "n": 12.70000000000001
         },
         {
          "Complexity": "O(1)",
          "f(n)": 1,
          "n": 12.800000000000011
         },
         {
          "Complexity": "O(1)",
          "f(n)": 1,
          "n": 12.900000000000011
         },
         {
          "Complexity": "O(1)",
          "f(n)": 1,
          "n": 13.00000000000001
         },
         {
          "Complexity": "O(1)",
          "f(n)": 1,
          "n": 13.10000000000001
         },
         {
          "Complexity": "O(1)",
          "f(n)": 1,
          "n": 13.20000000000001
         },
         {
          "Complexity": "O(1)",
          "f(n)": 1,
          "n": 13.300000000000011
         },
         {
          "Complexity": "O(1)",
          "f(n)": 1,
          "n": 13.400000000000011
         },
         {
          "Complexity": "O(1)",
          "f(n)": 1,
          "n": 13.50000000000001
         },
         {
          "Complexity": "O(1)",
          "f(n)": 1,
          "n": 13.600000000000012
         },
         {
          "Complexity": "O(1)",
          "f(n)": 1,
          "n": 13.700000000000012
         },
         {
          "Complexity": "O(1)",
          "f(n)": 1,
          "n": 13.800000000000011
         },
         {
          "Complexity": "O(1)",
          "f(n)": 1,
          "n": 13.900000000000011
         },
         {
          "Complexity": "O(1)",
          "f(n)": 1,
          "n": 14.00000000000001
         },
         {
          "Complexity": "O(1)",
          "f(n)": 1,
          "n": 14.100000000000012
         },
         {
          "Complexity": "O(1)",
          "f(n)": 1,
          "n": 14.200000000000012
         },
         {
          "Complexity": "O(1)",
          "f(n)": 1,
          "n": 14.300000000000011
         },
         {
          "Complexity": "O(1)",
          "f(n)": 1,
          "n": 14.400000000000013
         },
         {
          "Complexity": "O(1)",
          "f(n)": 1,
          "n": 14.500000000000012
         },
         {
          "Complexity": "O(1)",
          "f(n)": 1,
          "n": 14.600000000000012
         },
         {
          "Complexity": "O(1)",
          "f(n)": 1,
          "n": 14.700000000000012
         },
         {
          "Complexity": "O(1)",
          "f(n)": 1,
          "n": 14.800000000000011
         },
         {
          "Complexity": "O(1)",
          "f(n)": 1,
          "n": 14.900000000000013
         },
         {
          "Complexity": "O(1)",
          "f(n)": 1,
          "n": 15.000000000000012
         },
         {
          "Complexity": "O(1)",
          "f(n)": 1,
          "n": 15.100000000000012
         },
         {
          "Complexity": "O(1)",
          "f(n)": 1,
          "n": 15.200000000000014
         },
         {
          "Complexity": "O(1)",
          "f(n)": 1,
          "n": 15.300000000000013
         },
         {
          "Complexity": "O(1)",
          "f(n)": 1,
          "n": 15.400000000000013
         },
         {
          "Complexity": "O(1)",
          "f(n)": 1,
          "n": 15.500000000000012
         },
         {
          "Complexity": "O(1)",
          "f(n)": 1,
          "n": 15.600000000000012
         },
         {
          "Complexity": "O(1)",
          "f(n)": 1,
          "n": 15.700000000000014
         },
         {
          "Complexity": "O(1)",
          "f(n)": 1,
          "n": 15.800000000000013
         },
         {
          "Complexity": "O(1)",
          "f(n)": 1,
          "n": 15.900000000000013
         },
         {
          "Complexity": "O(1)",
          "f(n)": 1,
          "n": 16.000000000000014
         },
         {
          "Complexity": "O(1)",
          "f(n)": 1,
          "n": 16.100000000000016
         },
         {
          "Complexity": "O(1)",
          "f(n)": 1,
          "n": 16.200000000000014
         },
         {
          "Complexity": "O(1)",
          "f(n)": 1,
          "n": 16.30000000000001
         },
         {
          "Complexity": "O(1)",
          "f(n)": 1,
          "n": 16.400000000000013
         },
         {
          "Complexity": "O(1)",
          "f(n)": 1,
          "n": 16.500000000000014
         },
         {
          "Complexity": "O(1)",
          "f(n)": 1,
          "n": 16.600000000000016
         },
         {
          "Complexity": "O(1)",
          "f(n)": 1,
          "n": 16.700000000000014
         },
         {
          "Complexity": "O(1)",
          "f(n)": 1,
          "n": 16.800000000000015
         },
         {
          "Complexity": "O(1)",
          "f(n)": 1,
          "n": 16.900000000000013
         },
         {
          "Complexity": "O(1)",
          "f(n)": 1,
          "n": 17.000000000000014
         },
         {
          "Complexity": "O(1)",
          "f(n)": 1,
          "n": 17.100000000000016
         },
         {
          "Complexity": "O(1)",
          "f(n)": 1,
          "n": 17.200000000000014
         },
         {
          "Complexity": "O(1)",
          "f(n)": 1,
          "n": 17.300000000000015
         },
         {
          "Complexity": "O(1)",
          "f(n)": 1,
          "n": 17.400000000000013
         },
         {
          "Complexity": "O(1)",
          "f(n)": 1,
          "n": 17.500000000000014
         },
         {
          "Complexity": "O(1)",
          "f(n)": 1,
          "n": 17.600000000000016
         },
         {
          "Complexity": "O(1)",
          "f(n)": 1,
          "n": 17.700000000000014
         },
         {
          "Complexity": "O(1)",
          "f(n)": 1,
          "n": 17.800000000000015
         },
         {
          "Complexity": "O(1)",
          "f(n)": 1,
          "n": 17.900000000000016
         },
         {
          "Complexity": "O(1)",
          "f(n)": 1,
          "n": 18.000000000000014
         },
         {
          "Complexity": "O(1)",
          "f(n)": 1,
          "n": 18.100000000000016
         },
         {
          "Complexity": "O(1)",
          "f(n)": 1,
          "n": 18.200000000000017
         },
         {
          "Complexity": "O(1)",
          "f(n)": 1,
          "n": 18.300000000000015
         },
         {
          "Complexity": "O(1)",
          "f(n)": 1,
          "n": 18.400000000000016
         },
         {
          "Complexity": "O(1)",
          "f(n)": 1,
          "n": 18.500000000000014
         },
         {
          "Complexity": "O(1)",
          "f(n)": 1,
          "n": 18.600000000000016
         },
         {
          "Complexity": "O(1)",
          "f(n)": 1,
          "n": 18.700000000000017
         },
         {
          "Complexity": "O(1)",
          "f(n)": 1,
          "n": 18.800000000000015
         },
         {
          "Complexity": "O(1)",
          "f(n)": 1,
          "n": 18.900000000000016
         },
         {
          "Complexity": "O(1)",
          "f(n)": 1,
          "n": 19.000000000000014
         },
         {
          "Complexity": "O(1)",
          "f(n)": 1,
          "n": 19.100000000000016
         },
         {
          "Complexity": "O(1)",
          "f(n)": 1,
          "n": 19.200000000000017
         },
         {
          "Complexity": "O(1)",
          "f(n)": 1,
          "n": 19.300000000000015
         },
         {
          "Complexity": "O(1)",
          "f(n)": 1,
          "n": 19.400000000000016
         },
         {
          "Complexity": "O(1)",
          "f(n)": 1,
          "n": 19.500000000000018
         },
         {
          "Complexity": "O(1)",
          "f(n)": 1,
          "n": 19.600000000000016
         },
         {
          "Complexity": "O(1)",
          "f(n)": 1,
          "n": 19.700000000000017
         },
         {
          "Complexity": "O(1)",
          "f(n)": 1,
          "n": 19.80000000000002
         },
         {
          "Complexity": "O(1)",
          "f(n)": 1,
          "n": 19.900000000000016
         },
         {
          "Complexity": "O(1)",
          "f(n)": 1,
          "n": 20.000000000000018
         },
         {
          "Complexity": "O(1)",
          "f(n)": 1,
          "n": 20.100000000000016
         },
         {
          "Complexity": "O(1)",
          "f(n)": 1,
          "n": 20.200000000000017
         },
         {
          "Complexity": "O(1)",
          "f(n)": 1,
          "n": 20.30000000000002
         },
         {
          "Complexity": "O(1)",
          "f(n)": 1,
          "n": 20.400000000000016
         },
         {
          "Complexity": "O(1)",
          "f(n)": 1,
          "n": 20.500000000000018
         },
         {
          "Complexity": "O(1)",
          "f(n)": 1,
          "n": 20.600000000000016
         },
         {
          "Complexity": "O(1)",
          "f(n)": 1,
          "n": 20.700000000000017
         },
         {
          "Complexity": "O(1)",
          "f(n)": 1,
          "n": 20.80000000000002
         },
         {
          "Complexity": "O(1)",
          "f(n)": 1,
          "n": 20.900000000000016
         },
         {
          "Complexity": "O(1)",
          "f(n)": 1,
          "n": 21.000000000000018
         },
         {
          "Complexity": "O(1)",
          "f(n)": 1,
          "n": 21.10000000000002
         },
         {
          "Complexity": "O(1)",
          "f(n)": 1,
          "n": 21.200000000000017
         },
         {
          "Complexity": "O(1)",
          "f(n)": 1,
          "n": 21.30000000000002
         },
         {
          "Complexity": "O(1)",
          "f(n)": 1,
          "n": 21.40000000000002
         },
         {
          "Complexity": "O(1)",
          "f(n)": 1,
          "n": 21.500000000000018
         },
         {
          "Complexity": "O(1)",
          "f(n)": 1,
          "n": 21.60000000000002
         },
         {
          "Complexity": "O(1)",
          "f(n)": 1,
          "n": 21.700000000000017
         },
         {
          "Complexity": "O(1)",
          "f(n)": 1,
          "n": 21.80000000000002
         },
         {
          "Complexity": "O(1)",
          "f(n)": 1,
          "n": 21.90000000000002
         },
         {
          "Complexity": "O(1)",
          "f(n)": 1,
          "n": 22.000000000000018
         },
         {
          "Complexity": "O(1)",
          "f(n)": 1,
          "n": 22.10000000000002
         },
         {
          "Complexity": "O(1)",
          "f(n)": 1,
          "n": 22.200000000000017
         },
         {
          "Complexity": "O(1)",
          "f(n)": 1,
          "n": 22.30000000000002
         },
         {
          "Complexity": "O(1)",
          "f(n)": 1,
          "n": 22.40000000000002
         },
         {
          "Complexity": "O(1)",
          "f(n)": 1,
          "n": 22.500000000000018
         },
         {
          "Complexity": "O(1)",
          "f(n)": 1,
          "n": 22.60000000000002
         },
         {
          "Complexity": "O(1)",
          "f(n)": 1,
          "n": 22.70000000000002
         },
         {
          "Complexity": "O(1)",
          "f(n)": 1,
          "n": 22.80000000000002
         },
         {
          "Complexity": "O(1)",
          "f(n)": 1,
          "n": 22.90000000000002
         },
         {
          "Complexity": "O(1)",
          "f(n)": 1,
          "n": 23.00000000000002
         },
         {
          "Complexity": "O(1)",
          "f(n)": 1,
          "n": 23.10000000000002
         },
         {
          "Complexity": "O(1)",
          "f(n)": 1,
          "n": 23.20000000000002
         },
         {
          "Complexity": "O(1)",
          "f(n)": 1,
          "n": 23.30000000000002
         },
         {
          "Complexity": "O(1)",
          "f(n)": 1,
          "n": 23.40000000000002
         },
         {
          "Complexity": "O(1)",
          "f(n)": 1,
          "n": 23.50000000000002
         },
         {
          "Complexity": "O(1)",
          "f(n)": 1,
          "n": 23.60000000000002
         },
         {
          "Complexity": "O(1)",
          "f(n)": 1,
          "n": 23.70000000000002
         },
         {
          "Complexity": "O(1)",
          "f(n)": 1,
          "n": 23.80000000000002
         },
         {
          "Complexity": "O(1)",
          "f(n)": 1,
          "n": 23.90000000000002
         },
         {
          "Complexity": "O(1)",
          "f(n)": 1,
          "n": 24.00000000000002
         },
         {
          "Complexity": "O(1)",
          "f(n)": 1,
          "n": 24.10000000000002
         },
         {
          "Complexity": "O(1)",
          "f(n)": 1,
          "n": 24.20000000000002
         },
         {
          "Complexity": "O(1)",
          "f(n)": 1,
          "n": 24.300000000000022
         },
         {
          "Complexity": "O(1)",
          "f(n)": 1,
          "n": 24.40000000000002
         },
         {
          "Complexity": "O(1)",
          "f(n)": 1,
          "n": 24.50000000000002
         },
         {
          "Complexity": "O(1)",
          "f(n)": 1,
          "n": 24.600000000000023
         },
         {
          "Complexity": "O(1)",
          "f(n)": 1,
          "n": 24.70000000000002
         },
         {
          "Complexity": "O(1)",
          "f(n)": 1,
          "n": 24.800000000000022
         },
         {
          "Complexity": "O(1)",
          "f(n)": 1,
          "n": 24.90000000000002
         },
         {
          "Complexity": "O(1)",
          "f(n)": 1,
          "n": 25.00000000000002
         },
         {
          "Complexity": "O(1)",
          "f(n)": 1,
          "n": 25.100000000000023
         },
         {
          "Complexity": "O(1)",
          "f(n)": 1,
          "n": 25.20000000000002
         },
         {
          "Complexity": "O(1)",
          "f(n)": 1,
          "n": 25.300000000000022
         },
         {
          "Complexity": "O(1)",
          "f(n)": 1,
          "n": 25.40000000000002
         },
         {
          "Complexity": "O(1)",
          "f(n)": 1,
          "n": 25.50000000000002
         },
         {
          "Complexity": "O(1)",
          "f(n)": 1,
          "n": 25.600000000000023
         },
         {
          "Complexity": "O(1)",
          "f(n)": 1,
          "n": 25.70000000000002
         },
         {
          "Complexity": "O(1)",
          "f(n)": 1,
          "n": 25.800000000000022
         },
         {
          "Complexity": "O(1)",
          "f(n)": 1,
          "n": 25.900000000000023
         },
         {
          "Complexity": "O(1)",
          "f(n)": 1,
          "n": 26.00000000000002
         },
         {
          "Complexity": "O(1)",
          "f(n)": 1,
          "n": 26.100000000000023
         },
         {
          "Complexity": "O(1)",
          "f(n)": 1,
          "n": 26.200000000000024
         },
         {
          "Complexity": "O(1)",
          "f(n)": 1,
          "n": 26.300000000000022
         },
         {
          "Complexity": "O(1)",
          "f(n)": 1,
          "n": 26.400000000000023
         },
         {
          "Complexity": "O(1)",
          "f(n)": 1,
          "n": 26.50000000000002
         },
         {
          "Complexity": "O(1)",
          "f(n)": 1,
          "n": 26.600000000000023
         },
         {
          "Complexity": "O(1)",
          "f(n)": 1,
          "n": 26.700000000000024
         },
         {
          "Complexity": "O(1)",
          "f(n)": 1,
          "n": 26.800000000000022
         },
         {
          "Complexity": "O(1)",
          "f(n)": 1,
          "n": 26.900000000000023
         },
         {
          "Complexity": "O(1)",
          "f(n)": 1,
          "n": 27.00000000000002
         },
         {
          "Complexity": "O(1)",
          "f(n)": 1,
          "n": 27.100000000000023
         },
         {
          "Complexity": "O(1)",
          "f(n)": 1,
          "n": 27.200000000000024
         },
         {
          "Complexity": "O(1)",
          "f(n)": 1,
          "n": 27.300000000000022
         },
         {
          "Complexity": "O(1)",
          "f(n)": 1,
          "n": 27.400000000000023
         },
         {
          "Complexity": "O(1)",
          "f(n)": 1,
          "n": 27.500000000000025
         },
         {
          "Complexity": "O(1)",
          "f(n)": 1,
          "n": 27.600000000000023
         },
         {
          "Complexity": "O(1)",
          "f(n)": 1,
          "n": 27.700000000000024
         },
         {
          "Complexity": "O(1)",
          "f(n)": 1,
          "n": 27.800000000000026
         },
         {
          "Complexity": "O(1)",
          "f(n)": 1,
          "n": 27.900000000000023
         },
         {
          "Complexity": "O(1)",
          "f(n)": 1,
          "n": 28.000000000000025
         },
         {
          "Complexity": "O(1)",
          "f(n)": 1,
          "n": 28.100000000000023
         },
         {
          "Complexity": "O(1)",
          "f(n)": 1,
          "n": 28.200000000000024
         },
         {
          "Complexity": "O(1)",
          "f(n)": 1,
          "n": 28.300000000000026
         },
         {
          "Complexity": "O(1)",
          "f(n)": 1,
          "n": 28.400000000000023
         },
         {
          "Complexity": "O(1)",
          "f(n)": 1,
          "n": 28.500000000000025
         },
         {
          "Complexity": "O(1)",
          "f(n)": 1,
          "n": 28.600000000000023
         },
         {
          "Complexity": "O(1)",
          "f(n)": 1,
          "n": 28.700000000000024
         },
         {
          "Complexity": "O(1)",
          "f(n)": 1,
          "n": 28.800000000000026
         },
         {
          "Complexity": "O(1)",
          "f(n)": 1,
          "n": 28.900000000000023
         },
         {
          "Complexity": "O(1)",
          "f(n)": 1,
          "n": 29.000000000000025
         },
         {
          "Complexity": "O(1)",
          "f(n)": 1,
          "n": 29.100000000000026
         },
         {
          "Complexity": "O(1)",
          "f(n)": 1,
          "n": 29.200000000000024
         },
         {
          "Complexity": "O(1)",
          "f(n)": 1,
          "n": 29.300000000000026
         },
         {
          "Complexity": "O(1)",
          "f(n)": 1,
          "n": 29.400000000000027
         },
         {
          "Complexity": "O(1)",
          "f(n)": 1,
          "n": 29.500000000000025
         },
         {
          "Complexity": "O(1)",
          "f(n)": 1,
          "n": 29.600000000000026
         },
         {
          "Complexity": "O(1)",
          "f(n)": 1,
          "n": 29.700000000000024
         },
         {
          "Complexity": "O(1)",
          "f(n)": 1,
          "n": 29.800000000000026
         },
         {
          "Complexity": "O(1)",
          "f(n)": 1,
          "n": 29.900000000000027
         },
         {
          "Complexity": "O(log n)",
          "f(n)": 0,
          "n": 1
         },
         {
          "Complexity": "O(log n)",
          "f(n)": 0.09531017980432493,
          "n": 1.1
         },
         {
          "Complexity": "O(log n)",
          "f(n)": 0.1823215567939548,
          "n": 1.2000000000000002
         },
         {
          "Complexity": "O(log n)",
          "f(n)": 0.2623642644674913,
          "n": 1.3000000000000003
         },
         {
          "Complexity": "O(log n)",
          "f(n)": 0.33647223662121317,
          "n": 1.4000000000000004
         },
         {
          "Complexity": "O(log n)",
          "f(n)": 0.40546510810816466,
          "n": 1.5000000000000004
         },
         {
          "Complexity": "O(log n)",
          "f(n)": 0.4700036292457359,
          "n": 1.6000000000000005
         },
         {
          "Complexity": "O(log n)",
          "f(n)": 0.5306282510621707,
          "n": 1.7000000000000006
         },
         {
          "Complexity": "O(log n)",
          "f(n)": 0.5877866649021194,
          "n": 1.8000000000000007
         },
         {
          "Complexity": "O(log n)",
          "f(n)": 0.6418538861723952,
          "n": 1.9000000000000008
         },
         {
          "Complexity": "O(log n)",
          "f(n)": 0.6931471805599457,
          "n": 2.000000000000001
         },
         {
          "Complexity": "O(log n)",
          "f(n)": 0.7419373447293778,
          "n": 2.100000000000001
         },
         {
          "Complexity": "O(log n)",
          "f(n)": 0.7884573603642706,
          "n": 2.200000000000001
         },
         {
          "Complexity": "O(log n)",
          "f(n)": 0.8329091229351046,
          "n": 2.300000000000001
         },
         {
          "Complexity": "O(log n)",
          "f(n)": 0.8754687373539004,
          "n": 2.4000000000000012
         },
         {
          "Complexity": "O(log n)",
          "f(n)": 0.9162907318741556,
          "n": 2.5000000000000013
         },
         {
          "Complexity": "O(log n)",
          "f(n)": 0.9555114450274369,
          "n": 2.6000000000000014
         },
         {
          "Complexity": "O(log n)",
          "f(n)": 0.993251773010284,
          "n": 2.7000000000000015
         },
         {
          "Complexity": "O(log n)",
          "f(n)": 1.0296194171811588,
          "n": 2.8000000000000016
         },
         {
          "Complexity": "O(log n)",
          "f(n)": 1.064710736992429,
          "n": 2.9000000000000017
         },
         {
          "Complexity": "O(log n)",
          "f(n)": 1.0986122886681102,
          "n": 3.0000000000000018
         },
         {
          "Complexity": "O(log n)",
          "f(n)": 1.1314021114911013,
          "n": 3.100000000000002
         },
         {
          "Complexity": "O(log n)",
          "f(n)": 1.1631508098056815,
          "n": 3.200000000000002
         },
         {
          "Complexity": "O(log n)",
          "f(n)": 1.1939224684724352,
          "n": 3.300000000000002
         },
         {
          "Complexity": "O(log n)",
          "f(n)": 1.2237754316221163,
          "n": 3.400000000000002
         },
         {
          "Complexity": "O(log n)",
          "f(n)": 1.2527629684953687,
          "n": 3.500000000000002
         },
         {
          "Complexity": "O(log n)",
          "f(n)": 1.280933845462065,
          "n": 3.6000000000000023
         },
         {
          "Complexity": "O(log n)",
          "f(n)": 1.3083328196501793,
          "n": 3.7000000000000024
         },
         {
          "Complexity": "O(log n)",
          "f(n)": 1.3350010667323406,
          "n": 3.8000000000000025
         },
         {
          "Complexity": "O(log n)",
          "f(n)": 1.3609765531356015,
          "n": 3.9000000000000026
         },
         {
          "Complexity": "O(log n)",
          "f(n)": 1.3862943611198912,
          "n": 4.000000000000003
         },
         {
          "Complexity": "O(log n)",
          "f(n)": 1.410986973710263,
          "n": 4.100000000000003
         },
         {
          "Complexity": "O(log n)",
          "f(n)": 1.4350845252893234,
          "n": 4.200000000000003
         },
         {
          "Complexity": "O(log n)",
          "f(n)": 1.4586150226995174,
          "n": 4.3000000000000025
         },
         {
          "Complexity": "O(log n)",
          "f(n)": 1.4816045409242162,
          "n": 4.400000000000003
         },
         {
          "Complexity": "O(log n)",
          "f(n)": 1.5040773967762748,
          "n": 4.5000000000000036
         },
         {
          "Complexity": "O(log n)",
          "f(n)": 1.52605630349505,
          "n": 4.600000000000003
         },
         {
          "Complexity": "O(log n)",
          "f(n)": 1.5475625087160134,
          "n": 4.700000000000003
         },
         {
          "Complexity": "O(log n)",
          "f(n)": 1.568615917913846,
          "n": 4.800000000000003
         },
         {
          "Complexity": "O(log n)",
          "f(n)": 1.5892352051165817,
          "n": 4.900000000000004
         },
         {
          "Complexity": "O(log n)",
          "f(n)": 1.6094379124341012,
          "n": 5.0000000000000036
         },
         {
          "Complexity": "O(log n)",
          "f(n)": 1.6292405397302807,
          "n": 5.100000000000003
         },
         {
          "Complexity": "O(log n)",
          "f(n)": 1.6486586255873823,
          "n": 5.200000000000004
         },
         {
          "Complexity": "O(log n)",
          "f(n)": 1.667706820558077,
          "n": 5.300000000000004
         },
         {
          "Complexity": "O(log n)",
          "f(n)": 1.6863989535702295,
          "n": 5.400000000000004
         },
         {
          "Complexity": "O(log n)",
          "f(n)": 1.704748092238426,
          "n": 5.5000000000000036
         },
         {
          "Complexity": "O(log n)",
          "f(n)": 1.7227665977411042,
          "n": 5.600000000000004
         },
         {
          "Complexity": "O(log n)",
          "f(n)": 1.7404661748405053,
          "n": 5.700000000000005
         },
         {
          "Complexity": "O(log n)",
          "f(n)": 1.7578579175523743,
          "n": 5.800000000000004
         },
         {
          "Complexity": "O(log n)",
          "f(n)": 1.7749523509116745,
          "n": 5.900000000000004
         },
         {
          "Complexity": "O(log n)",
          "f(n)": 1.7917594692280558,
          "n": 6.000000000000004
         },
         {
          "Complexity": "O(log n)",
          "f(n)": 1.8082887711792663,
          "n": 6.100000000000005
         },
         {
          "Complexity": "O(log n)",
          "f(n)": 1.8245492920510467,
          "n": 6.200000000000005
         },
         {
          "Complexity": "O(log n)",
          "f(n)": 1.8405496333974878,
          "n": 6.300000000000004
         },
         {
          "Complexity": "O(log n)",
          "f(n)": 1.856297990365627,
          "n": 6.400000000000005
         },
         {
          "Complexity": "O(log n)",
          "f(n)": 1.8718021769015922,
          "n": 6.500000000000005
         },
         {
          "Complexity": "O(log n)",
          "f(n)": 1.8870696490323806,
          "n": 6.600000000000005
         },
         {
          "Complexity": "O(log n)",
          "f(n)": 1.9021075263969212,
          "n": 6.700000000000005
         },
         {
          "Complexity": "O(log n)",
          "f(n)": 1.9169226121820617,
          "n": 6.800000000000005
         },
         {
          "Complexity": "O(log n)",
          "f(n)": 1.9315214116032144,
          "n": 6.900000000000006
         },
         {
          "Complexity": "O(log n)",
          "f(n)": 1.9459101490553141,
          "n": 7.000000000000005
         },
         {
          "Complexity": "O(log n)",
          "f(n)": 1.9600947840472704,
          "n": 7.100000000000005
         },
         {
          "Complexity": "O(log n)",
          "f(n)": 1.9740810260220103,
          "n": 7.2000000000000055
         },
         {
          "Complexity": "O(log n)",
          "f(n)": 1.9878743481543464,
          "n": 7.300000000000006
         },
         {
          "Complexity": "O(log n)",
          "f(n)": 2.0014800002101247,
          "n": 7.400000000000006
         },
         {
          "Complexity": "O(log n)",
          "f(n)": 2.0149030205422656,
          "n": 7.500000000000005
         },
         {
          "Complexity": "O(log n)",
          "f(n)": 2.028148247292286,
          "n": 7.600000000000006
         },
         {
          "Complexity": "O(log n)",
          "f(n)": 2.041220328859639,
          "n": 7.700000000000006
         },
         {
          "Complexity": "O(log n)",
          "f(n)": 2.0541237336955467,
          "n": 7.800000000000006
         },
         {
          "Complexity": "O(log n)",
          "f(n)": 2.0668627594729765,
          "n": 7.900000000000006
         },
         {
          "Complexity": "O(log n)",
          "f(n)": 2.0794415416798366,
          "n": 8.000000000000007
         },
         {
          "Complexity": "O(log n)",
          "f(n)": 2.091864061678394,
          "n": 8.100000000000007
         },
         {
          "Complexity": "O(log n)",
          "f(n)": 2.1041341542702083,
          "n": 8.200000000000006
         },
         {
          "Complexity": "O(log n)",
          "f(n)": 2.116255514802553,
          "n": 8.300000000000006
         },
         {
          "Complexity": "O(log n)",
          "f(n)": 2.128231705849269,
          "n": 8.400000000000006
         },
         {
          "Complexity": "O(log n)",
          "f(n)": 2.1400661634962717,
          "n": 8.500000000000007
         },
         {
          "Complexity": "O(log n)",
          "f(n)": 2.1517622032594628,
          "n": 8.600000000000007
         },
         {
          "Complexity": "O(log n)",
          "f(n)": 2.1633230256605387,
          "n": 8.700000000000006
         },
         {
          "Complexity": "O(log n)",
          "f(n)": 2.174751721484162,
          "n": 8.800000000000008
         },
         {
          "Complexity": "O(log n)",
          "f(n)": 2.186051276738095,
          "n": 8.900000000000007
         },
         {
          "Complexity": "O(log n)",
          "f(n)": 2.19722457733622,
          "n": 9.000000000000007
         },
         {
          "Complexity": "O(log n)",
          "f(n)": 2.208274413522805,
          "n": 9.100000000000007
         },
         {
          "Complexity": "O(log n)",
          "f(n)": 2.2192034840549955,
          "n": 9.200000000000006
         },
         {
          "Complexity": "O(log n)",
          "f(n)": 2.2300144001592113,
          "n": 9.300000000000008
         },
         {
          "Complexity": "O(log n)",
          "f(n)": 2.240709689275959,
          "n": 9.400000000000007
         },
         {
          "Complexity": "O(log n)",
          "f(n)": 2.2512917986064958,
          "n": 9.500000000000007
         },
         {
          "Complexity": "O(log n)",
          "f(n)": 2.2617630984737915,
          "n": 9.600000000000009
         },
         {
          "Complexity": "O(log n)",
          "f(n)": 2.272125885509338,
          "n": 9.700000000000008
         },
         {
          "Complexity": "O(log n)",
          "f(n)": 2.282382385676527,
          "n": 9.800000000000008
         },
         {
          "Complexity": "O(log n)",
          "f(n)": 2.2925347571405448,
          "n": 9.900000000000007
         },
         {
          "Complexity": "O(log n)",
          "f(n)": 2.3025850929940463,
          "n": 10.000000000000007
         },
         {
          "Complexity": "O(log n)",
          "f(n)": 2.3125354238472147,
          "n": 10.100000000000009
         },
         {
          "Complexity": "O(log n)",
          "f(n)": 2.322387720290226,
          "n": 10.200000000000008
         },
         {
          "Complexity": "O(log n)",
          "f(n)": 2.332143895235591,
          "n": 10.300000000000008
         },
         {
          "Complexity": "O(log n)",
          "f(n)": 2.341805806147328,
          "n": 10.40000000000001
         },
         {
          "Complexity": "O(log n)",
          "f(n)": 2.3513752571634785,
          "n": 10.500000000000009
         },
         {
          "Complexity": "O(log n)",
          "f(n)": 2.3608540011180223,
          "n": 10.600000000000009
         },
         {
          "Complexity": "O(log n)",
          "f(n)": 2.370243741467861,
          "n": 10.700000000000008
         },
         {
          "Complexity": "O(log n)",
          "f(n)": 2.379546134130175,
          "n": 10.800000000000008
         },
         {
          "Complexity": "O(log n)",
          "f(n)": 2.388762789235099,
          "n": 10.90000000000001
         },
         {
          "Complexity": "O(log n)",
          "f(n)": 2.3978952727983716,
          "n": 11.000000000000009
         },
         {
          "Complexity": "O(log n)",
          "f(n)": 2.4069451083182893,
          "n": 11.100000000000009
         },
         {
          "Complexity": "O(log n)",
          "f(n)": 2.4159137783010496,
          "n": 11.20000000000001
         },
         {
          "Complexity": "O(log n)",
          "f(n)": 2.424802725718296,
          "n": 11.30000000000001
         },
         {
          "Complexity": "O(log n)",
          "f(n)": 2.4336133554004507,
          "n": 11.40000000000001
         },
         {
          "Complexity": "O(log n)",
          "f(n)": 2.442347035369205,
          "n": 11.500000000000009
         },
         {
          "Complexity": "O(log n)",
          "f(n)": 2.4510050981123195,
          "n": 11.600000000000009
         },
         {
          "Complexity": "O(log n)",
          "f(n)": 2.4595888418037113,
          "n": 11.70000000000001
         },
         {
          "Complexity": "O(log n)",
          "f(n)": 2.46809953147162,
          "n": 11.80000000000001
         },
         {
          "Complexity": "O(log n)",
          "f(n)": 2.4765384001174846,
          "n": 11.90000000000001
         },
         {
          "Complexity": "O(log n)",
          "f(n)": 2.4849066497880012,
          "n": 12.00000000000001
         },
         {
          "Complexity": "O(log n)",
          "f(n)": 2.4932054526026963,
          "n": 12.10000000000001
         },
         {
          "Complexity": "O(log n)",
          "f(n)": 2.5014359517392117,
          "n": 12.20000000000001
         },
         {
          "Complexity": "O(log n)",
          "f(n)": 2.5095992623783725,
          "n": 12.30000000000001
         },
         {
          "Complexity": "O(log n)",
          "f(n)": 2.517696472610992,
          "n": 12.40000000000001
         },
         {
          "Complexity": "O(log n)",
          "f(n)": 2.5257286443082565,
          "n": 12.50000000000001
         },
         {
          "Complexity": "O(log n)",
          "f(n)": 2.533696813957433,
          "n": 12.60000000000001
         },
         {
          "Complexity": "O(log n)",
          "f(n)": 2.541601993464546,
          "n": 12.70000000000001
         },
         {
          "Complexity": "O(log n)",
          "f(n)": 2.5494451709255723,
          "n": 12.800000000000011
         },
         {
          "Complexity": "O(log n)",
          "f(n)": 2.5572273113676274,
          "n": 12.900000000000011
         },
         {
          "Complexity": "O(log n)",
          "f(n)": 2.5649493574615376,
          "n": 13.00000000000001
         },
         {
          "Complexity": "O(log n)",
          "f(n)": 2.5726122302071066,
          "n": 13.10000000000001
         },
         {
          "Complexity": "O(log n)",
          "f(n)": 2.580216829592326,
          "n": 13.20000000000001
         },
         {
          "Complexity": "O(log n)",
          "f(n)": 2.587764035227709,
          "n": 13.300000000000011
         },
         {
          "Complexity": "O(log n)",
          "f(n)": 2.5952547069568666,
          "n": 13.400000000000011
         },
         {
          "Complexity": "O(log n)",
          "f(n)": 2.6026896854443846,
          "n": 13.50000000000001
         },
         {
          "Complexity": "O(log n)",
          "f(n)": 2.6100697927420073,
          "n": 13.600000000000012
         },
         {
          "Complexity": "O(log n)",
          "f(n)": 2.61739583283408,
          "n": 13.700000000000012
         },
         {
          "Complexity": "O(log n)",
          "f(n)": 2.6246685921631596,
          "n": 13.800000000000011
         },
         {
          "Complexity": "O(log n)",
          "f(n)": 2.631888840136647,
          "n": 13.900000000000011
         },
         {
          "Complexity": "O(log n)",
          "f(n)": 2.6390573296152593,
          "n": 14.00000000000001
         },
         {
          "Complexity": "O(log n)",
          "f(n)": 2.6461747973841234,
          "n": 14.100000000000012
         },
         {
          "Complexity": "O(log n)",
          "f(n)": 2.653241964607216,
          "n": 14.200000000000012
         },
         {
          "Complexity": "O(log n)",
          "f(n)": 2.6602595372658624,
          "n": 14.300000000000011
         },
         {
          "Complexity": "O(log n)",
          "f(n)": 2.6672282065819557,
          "n": 14.400000000000013
         },
         {
          "Complexity": "O(log n)",
          "f(n)": 2.6741486494265296,
          "n": 14.500000000000012
         },
         {
          "Complexity": "O(log n)",
          "f(n)": 2.681021528714292,
          "n": 14.600000000000012
         },
         {
          "Complexity": "O(log n)",
          "f(n)": 2.6878474937846915,
          "n": 14.700000000000012
         },
         {
          "Complexity": "O(log n)",
          "f(n)": 2.69462718077007,
          "n": 14.800000000000011
         },
         {
          "Complexity": "O(log n)",
          "f(n)": 2.701361212951414,
          "n": 14.900000000000013
         },
         {
          "Complexity": "O(log n)",
          "f(n)": 2.708050201102211,
          "n": 15.000000000000012
         },
         {
          "Complexity": "O(log n)",
          "f(n)": 2.7146947438208793,
          "n": 15.100000000000012
         },
         {
          "Complexity": "O(log n)",
          "f(n)": 2.7212954278522314,
          "n": 15.200000000000014
         },
         {
          "Complexity": "O(log n)",
          "f(n)": 2.7278528283983907,
          "n": 15.300000000000013
         },
         {
          "Complexity": "O(log n)",
          "f(n)": 2.7343675094195845,
          "n": 15.400000000000013
         },
         {
          "Complexity": "O(log n)",
          "f(n)": 2.7408400239252018,
          "n": 15.500000000000012
         },
         {
          "Complexity": "O(log n)",
          "f(n)": 2.747270914255492,
          "n": 15.600000000000012
         },
         {
          "Complexity": "O(log n)",
          "f(n)": 2.753660712354263,
          "n": 15.700000000000014
         },
         {
          "Complexity": "O(log n)",
          "f(n)": 2.760009940032922,
          "n": 15.800000000000013
         },
         {
          "Complexity": "O(log n)",
          "f(n)": 2.7663191092261865,
          "n": 15.900000000000013
         },
         {
          "Complexity": "O(log n)",
          "f(n)": 2.772588722239782,
          "n": 16.000000000000014
         },
         {
          "Complexity": "O(log n)",
          "f(n)": 2.778819271990418,
          "n": 16.100000000000016
         },
         {
          "Complexity": "O(log n)",
          "f(n)": 2.785011242238339,
          "n": 16.200000000000014
         },
         {
          "Complexity": "O(log n)",
          "f(n)": 2.7911651078127173,
          "n": 16.30000000000001
         },
         {
          "Complexity": "O(log n)",
          "f(n)": 2.7972813348301537,
          "n": 16.400000000000013
         },
         {
          "Complexity": "O(log n)",
          "f(n)": 2.8033603809065357,
          "n": 16.500000000000014
         },
         {
          "Complexity": "O(log n)",
          "f(n)": 2.8094026953624986,
          "n": 16.600000000000016
         },
         {
          "Complexity": "O(log n)",
          "f(n)": 2.8154087194227104,
          "n": 16.700000000000014
         },
         {
          "Complexity": "O(log n)",
          "f(n)": 2.821378886409214,
          "n": 16.800000000000015
         },
         {
          "Complexity": "O(log n)",
          "f(n)": 2.8273136219290285,
          "n": 16.900000000000013
         },
         {
          "Complexity": "O(log n)",
          "f(n)": 2.833213344056217,
          "n": 17.000000000000014
         },
         {
          "Complexity": "O(log n)",
          "f(n)": 2.8390784635086153,
          "n": 17.100000000000016
         },
         {
          "Complexity": "O(log n)",
          "f(n)": 2.844909383819408,
          "n": 17.200000000000014
         },
         {
          "Complexity": "O(log n)",
          "f(n)": 2.8507065015037343,
          "n": 17.300000000000015
         },
         {
          "Complexity": "O(log n)",
          "f(n)": 2.856470206220484,
          "n": 17.400000000000013
         },
         {
          "Complexity": "O(log n)",
          "f(n)": 2.862200880929469,
          "n": 17.500000000000014
         },
         {
          "Complexity": "O(log n)",
          "f(n)": 2.867898902044107,
          "n": 17.600000000000016
         },
         {
          "Complexity": "O(log n)",
          "f(n)": 2.8735646395797843,
          "n": 17.700000000000014
         },
         {
          "Complexity": "O(log n)",
          "f(n)": 2.8791984572980405,
          "n": 17.800000000000015
         },
         {
          "Complexity": "O(log n)",
          "f(n)": 2.8848007128467104,
          "n": 17.900000000000016
         },
         {
          "Complexity": "O(log n)",
          "f(n)": 2.8903717578961654,
          "n": 18.000000000000014
         },
         {
          "Complexity": "O(log n)",
          "f(n)": 2.895911938271781,
          "n": 18.100000000000016
         },
         {
          "Complexity": "O(log n)",
          "f(n)": 2.9014215940827506,
          "n": 18.200000000000017
         },
         {
          "Complexity": "O(log n)",
          "f(n)": 2.906901059847376,
          "n": 18.300000000000015
         },
         {
          "Complexity": "O(log n)",
          "f(n)": 2.912350664614941,
          "n": 18.400000000000016
         },
         {
          "Complexity": "O(log n)",
          "f(n)": 2.91777073208428,
          "n": 18.500000000000014
         },
         {
          "Complexity": "O(log n)",
          "f(n)": 2.923161580719156,
          "n": 18.600000000000016
         },
         {
          "Complexity": "O(log n)",
          "f(n)": 2.928523523860542,
          "n": 18.700000000000017
         },
         {
          "Complexity": "O(log n)",
          "f(n)": 2.933856869835904,
          "n": 18.800000000000015
         },
         {
          "Complexity": "O(log n)",
          "f(n)": 2.9391619220655976,
          "n": 18.900000000000016
         },
         {
          "Complexity": "O(log n)",
          "f(n)": 2.944438979166441,
          "n": 19.000000000000014
         },
         {
          "Complexity": "O(log n)",
          "f(n)": 2.949688335052585,
          "n": 19.100000000000016
         },
         {
          "Complexity": "O(log n)",
          "f(n)": 2.954910279033737,
          "n": 19.200000000000017
         },
         {
          "Complexity": "O(log n)",
          "f(n)": 2.9601050959108406,
          "n": 19.300000000000015
         },
         {
          "Complexity": "O(log n)",
          "f(n)": 2.965273066069283,
          "n": 19.400000000000016
         },
         {
          "Complexity": "O(log n)",
          "f(n)": 2.9704144655697022,
          "n": 19.500000000000018
         },
         {
          "Complexity": "O(log n)",
          "f(n)": 2.9755295662364722,
          "n": 19.600000000000016
         },
         {
          "Complexity": "O(log n)",
          "f(n)": 2.9806186357439435,
          "n": 19.700000000000017
         },
         {
          "Complexity": "O(log n)",
          "f(n)": 2.9856819377004906,
          "n": 19.80000000000002
         },
         {
          "Complexity": "O(log n)",
          "f(n)": 2.9907197317304477,
          "n": 19.900000000000016
         },
         {
          "Complexity": "O(log n)",
          "f(n)": 2.9957322735539917,
          "n": 20.000000000000018
         },
         {
          "Complexity": "O(log n)",
          "f(n)": 3.0007198150650307,
          "n": 20.100000000000016
         },
         {
          "Complexity": "O(log n)",
          "f(n)": 3.00568260440716,
          "n": 20.200000000000017
         },
         {
          "Complexity": "O(log n)",
          "f(n)": 3.0106208860477426,
          "n": 20.30000000000002
         },
         {
          "Complexity": "O(log n)",
          "f(n)": 3.0155349008501715,
          "n": 20.400000000000016
         },
         {
          "Complexity": "O(log n)",
          "f(n)": 3.0204248861443634,
          "n": 20.500000000000018
         },
         {
          "Complexity": "O(log n)",
          "f(n)": 3.0252910757955362,
          "n": 20.600000000000016
         },
         {
          "Complexity": "O(log n)",
          "f(n)": 3.0301337002713242,
          "n": 20.700000000000017
         },
         {
          "Complexity": "O(log n)",
          "f(n)": 3.0349529867072733,
          "n": 20.80000000000002
         },
         {
          "Complexity": "O(log n)",
          "f(n)": 3.039749158970766,
          "n": 20.900000000000016
         },
         {
          "Complexity": "O(log n)",
          "f(n)": 3.044522437723424,
          "n": 21.000000000000018
         },
         {
          "Complexity": "O(log n)",
          "f(n)": 3.0492730404820216,
          "n": 21.10000000000002
         },
         {
          "Complexity": "O(log n)",
          "f(n)": 3.0540011816779677,
          "n": 21.200000000000017
         },
         {
          "Complexity": "O(log n)",
          "f(n)": 3.0587070727153804,
          "n": 21.30000000000002
         },
         {
          "Complexity": "O(log n)",
          "f(n)": 3.0633909220278066,
          "n": 21.40000000000002
         },
         {
          "Complexity": "O(log n)",
          "f(n)": 3.068052935133618,
          "n": 21.500000000000018
         },
         {
          "Complexity": "O(log n)",
          "f(n)": 3.0726933146901203,
          "n": 21.60000000000002
         },
         {
          "Complexity": "O(log n)",
          "f(n)": 3.0773122605464147,
          "n": 21.700000000000017
         },
         {
          "Complexity": "O(log n)",
          "f(n)": 3.0819099697950443,
          "n": 21.80000000000002
         },
         {
          "Complexity": "O(log n)",
          "f(n)": 3.086486636822456,
          "n": 21.90000000000002
         },
         {
          "Complexity": "O(log n)",
          "f(n)": 3.0910424533583165,
          "n": 22.000000000000018
         },
         {
          "Complexity": "O(log n)",
          "f(n)": 3.095577608523708,
          "n": 22.10000000000002
         },
         {
          "Complexity": "O(log n)",
          "f(n)": 3.1000922888782347,
          "n": 22.200000000000017
         },
         {
          "Complexity": "O(log n)",
          "f(n)": 3.104586678466074,
          "n": 22.30000000000002
         },
         {
          "Complexity": "O(log n)",
          "f(n)": 3.109060958860995,
          "n": 22.40000000000002
         },
         {
          "Complexity": "O(log n)",
          "f(n)": 3.113515309210375,
          "n": 22.500000000000018
         },
         {
          "Complexity": "O(log n)",
          "f(n)": 3.117949906278241,
          "n": 22.60000000000002
         },
         {
          "Complexity": "O(log n)",
          "f(n)": 3.122364924487358,
          "n": 22.70000000000002
         },
         {
          "Complexity": "O(log n)",
          "f(n)": 3.126760535960396,
          "n": 22.80000000000002
         },
         {
          "Complexity": "O(log n)",
          "f(n)": 3.131136910560195,
          "n": 22.90000000000002
         },
         {
          "Complexity": "O(log n)",
          "f(n)": 3.1354942159291506,
          "n": 23.00000000000002
         },
         {
          "Complexity": "O(log n)",
          "f(n)": 3.1398326175277487,
          "n": 23.10000000000002
         },
         {
          "Complexity": "O(log n)",
          "f(n)": 3.1441522786722653,
          "n": 23.20000000000002
         },
         {
          "Complexity": "O(log n)",
          "f(n)": 3.1484533605716556,
          "n": 23.30000000000002
         },
         {
          "Complexity": "O(log n)",
          "f(n)": 3.1527360223636567,
          "n": 23.40000000000002
         },
         {
          "Complexity": "O(log n)",
          "f(n)": 3.1570004211501144,
          "n": 23.50000000000002
         },
         {
          "Complexity": "O(log n)",
          "f(n)": 3.161246712031565,
          "n": 23.60000000000002
         },
         {
          "Complexity": "O(log n)",
          "f(n)": 3.1654750481410865,
          "n": 23.70000000000002
         },
         {
          "Complexity": "O(log n)",
          "f(n)": 3.16968558067743,
          "n": 23.80000000000002
         },
         {
          "Complexity": "O(log n)",
          "f(n)": 3.173878458937466,
          "n": 23.90000000000002
         },
         {
          "Complexity": "O(log n)",
          "f(n)": 3.1780538303479466,
          "n": 24.00000000000002
         },
         {
          "Complexity": "O(log n)",
          "f(n)": 3.18221184049661,
          "n": 24.10000000000002
         },
         {
          "Complexity": "O(log n)",
          "f(n)": 3.1863526331626417,
          "n": 24.20000000000002
         },
         {
          "Complexity": "O(log n)",
          "f(n)": 3.1904763503465037,
          "n": 24.300000000000022
         },
         {
          "Complexity": "O(log n)",
          "f(n)": 3.194583132299157,
          "n": 24.40000000000002
         },
         {
          "Complexity": "O(log n)",
          "f(n)": 3.198673117550682,
          "n": 24.50000000000002
         },
         {
          "Complexity": "O(log n)",
          "f(n)": 3.202746442938318,
          "n": 24.600000000000023
         },
         {
          "Complexity": "O(log n)",
          "f(n)": 3.2068032436339324,
          "n": 24.70000000000002
         },
         {
          "Complexity": "O(log n)",
          "f(n)": 3.2108436531709375,
          "n": 24.800000000000022
         },
         {
          "Complexity": "O(log n)",
          "f(n)": 3.214867803470663,
          "n": 24.90000000000002
         },
         {
          "Complexity": "O(log n)",
          "f(n)": 3.2188758248682015,
          "n": 25.00000000000002
         },
         {
          "Complexity": "O(log n)",
          "f(n)": 3.222867846137739,
          "n": 25.100000000000023
         },
         {
          "Complexity": "O(log n)",
          "f(n)": 3.2268439945173784,
          "n": 25.20000000000002
         },
         {
          "Complexity": "O(log n)",
          "f(n)": 3.2308043957334753,
          "n": 25.300000000000022
         },
         {
          "Complexity": "O(log n)",
          "f(n)": 3.2347491740244916,
          "n": 25.40000000000002
         },
         {
          "Complexity": "O(log n)",
          "f(n)": 3.238678452164381,
          "n": 25.50000000000002
         },
         {
          "Complexity": "O(log n)",
          "f(n)": 3.2425923514855177,
          "n": 25.600000000000023
         },
         {
          "Complexity": "O(log n)",
          "f(n)": 3.246490991901175,
          "n": 25.70000000000002
         },
         {
          "Complexity": "O(log n)",
          "f(n)": 3.2503744919275728,
          "n": 25.800000000000022
         },
         {
          "Complexity": "O(log n)",
          "f(n)": 3.254242968705493,
          "n": 25.900000000000023
         },
         {
          "Complexity": "O(log n)",
          "f(n)": 3.258096538021483,
          "n": 26.00000000000002
         },
         {
          "Complexity": "O(log n)",
          "f(n)": 3.2619353143286487,
          "n": 26.100000000000023
         },
         {
          "Complexity": "O(log n)",
          "f(n)": 3.265759410767052,
          "n": 26.200000000000024
         },
         {
          "Complexity": "O(log n)",
          "f(n)": 3.2695689391837197,
          "n": 26.300000000000022
         },
         {
          "Complexity": "O(log n)",
          "f(n)": 3.2733640101522714,
          "n": 26.400000000000023
         },
         {
          "Complexity": "O(log n)",
          "f(n)": 3.2771447329921775,
          "n": 26.50000000000002
         },
         {
          "Complexity": "O(log n)",
          "f(n)": 3.280911215787654,
          "n": 26.600000000000023
         },
         {
          "Complexity": "O(log n)",
          "f(n)": 3.2846635654062046,
          "n": 26.700000000000024
         },
         {
          "Complexity": "O(log n)",
          "f(n)": 3.288401887516812,
          "n": 26.800000000000022
         },
         {
          "Complexity": "O(log n)",
          "f(n)": 3.2921262866077945,
          "n": 26.900000000000023
         },
         {
          "Complexity": "O(log n)",
          "f(n)": 3.29583686600433,
          "n": 27.00000000000002
         },
         {
          "Complexity": "O(log n)",
          "f(n)": 3.299533727885656,
          "n": 27.100000000000023
         },
         {
          "Complexity": "O(log n)",
          "f(n)": 3.3032169733019527,
          "n": 27.200000000000024
         },
         {
          "Complexity": "O(log n)",
          "f(n)": 3.3068867021909147,
          "n": 27.300000000000022
         },
         {
          "Complexity": "O(log n)",
          "f(n)": 3.3105430133940255,
          "n": 27.400000000000023
         },
         {
          "Complexity": "O(log n)",
          "f(n)": 3.3141860046725267,
          "n": 27.500000000000025
         },
         {
          "Complexity": "O(log n)",
          "f(n)": 3.317815772723105,
          "n": 27.600000000000023
         },
         {
          "Complexity": "O(log n)",
          "f(n)": 3.3214324131932935,
          "n": 27.700000000000024
         },
         {
          "Complexity": "O(log n)",
          "f(n)": 3.3250360206965923,
          "n": 27.800000000000026
         },
         {
          "Complexity": "O(log n)",
          "f(n)": 3.328626688827321,
          "n": 27.900000000000023
         },
         {
          "Complexity": "O(log n)",
          "f(n)": 3.3322045101752047,
          "n": 28.000000000000025
         },
         {
          "Complexity": "O(log n)",
          "f(n)": 3.335769576339701,
          "n": 28.100000000000023
         },
         {
          "Complexity": "O(log n)",
          "f(n)": 3.339321977944069,
          "n": 28.200000000000024
         },
         {
          "Complexity": "O(log n)",
          "f(n)": 3.3428618046491927,
          "n": 28.300000000000026
         },
         {
          "Complexity": "O(log n)",
          "f(n)": 3.3463891451671612,
          "n": 28.400000000000023
         },
         {
          "Complexity": "O(log n)",
          "f(n)": 3.3499040872746058,
          "n": 28.500000000000025
         },
         {
          "Complexity": "O(log n)",
          "f(n)": 3.353406717825808,
          "n": 28.600000000000023
         },
         {
          "Complexity": "O(log n)",
          "f(n)": 3.3568971227655764,
          "n": 28.700000000000024
         },
         {
          "Complexity": "O(log n)",
          "f(n)": 3.360375387141901,
          "n": 28.800000000000026
         },
         {
          "Complexity": "O(log n)",
          "f(n)": 3.3638415951183873,
          "n": 28.900000000000023
         },
         {
          "Complexity": "O(log n)",
          "f(n)": 3.367295829986475,
          "n": 29.000000000000025
         },
         {
          "Complexity": "O(log n)",
          "f(n)": 3.370738174177448,
          "n": 29.100000000000026
         },
         {
          "Complexity": "O(log n)",
          "f(n)": 3.3741687092742367,
          "n": 29.200000000000024
         },
         {
          "Complexity": "O(log n)",
          "f(n)": 3.3775875160230227,
          "n": 29.300000000000026
         },
         {
          "Complexity": "O(log n)",
          "f(n)": 3.380994674344637,
          "n": 29.400000000000027
         },
         {
          "Complexity": "O(log n)",
          "f(n)": 3.384390263345775,
          "n": 29.500000000000025
         },
         {
          "Complexity": "O(log n)",
          "f(n)": 3.3877743613300155,
          "n": 29.600000000000026
         },
         {
          "Complexity": "O(log n)",
          "f(n)": 3.391147045808655,
          "n": 29.700000000000024
         },
         {
          "Complexity": "O(log n)",
          "f(n)": 3.3945083935113596,
          "n": 29.800000000000026
         },
         {
          "Complexity": "O(log n)",
          "f(n)": 3.397858480396642,
          "n": 29.900000000000027
         },
         {
          "Complexity": "O(n)",
          "f(n)": 1,
          "n": 1
         },
         {
          "Complexity": "O(n)",
          "f(n)": 1.1,
          "n": 1.1
         },
         {
          "Complexity": "O(n)",
          "f(n)": 1.2000000000000002,
          "n": 1.2000000000000002
         },
         {
          "Complexity": "O(n)",
          "f(n)": 1.3000000000000003,
          "n": 1.3000000000000003
         },
         {
          "Complexity": "O(n)",
          "f(n)": 1.4000000000000004,
          "n": 1.4000000000000004
         },
         {
          "Complexity": "O(n)",
          "f(n)": 1.5000000000000004,
          "n": 1.5000000000000004
         },
         {
          "Complexity": "O(n)",
          "f(n)": 1.6000000000000005,
          "n": 1.6000000000000005
         },
         {
          "Complexity": "O(n)",
          "f(n)": 1.7000000000000006,
          "n": 1.7000000000000006
         },
         {
          "Complexity": "O(n)",
          "f(n)": 1.8000000000000007,
          "n": 1.8000000000000007
         },
         {
          "Complexity": "O(n)",
          "f(n)": 1.9000000000000008,
          "n": 1.9000000000000008
         },
         {
          "Complexity": "O(n)",
          "f(n)": 2.000000000000001,
          "n": 2.000000000000001
         },
         {
          "Complexity": "O(n)",
          "f(n)": 2.100000000000001,
          "n": 2.100000000000001
         },
         {
          "Complexity": "O(n)",
          "f(n)": 2.200000000000001,
          "n": 2.200000000000001
         },
         {
          "Complexity": "O(n)",
          "f(n)": 2.300000000000001,
          "n": 2.300000000000001
         },
         {
          "Complexity": "O(n)",
          "f(n)": 2.4000000000000012,
          "n": 2.4000000000000012
         },
         {
          "Complexity": "O(n)",
          "f(n)": 2.5000000000000013,
          "n": 2.5000000000000013
         },
         {
          "Complexity": "O(n)",
          "f(n)": 2.6000000000000014,
          "n": 2.6000000000000014
         },
         {
          "Complexity": "O(n)",
          "f(n)": 2.7000000000000015,
          "n": 2.7000000000000015
         },
         {
          "Complexity": "O(n)",
          "f(n)": 2.8000000000000016,
          "n": 2.8000000000000016
         },
         {
          "Complexity": "O(n)",
          "f(n)": 2.9000000000000017,
          "n": 2.9000000000000017
         },
         {
          "Complexity": "O(n)",
          "f(n)": 3.0000000000000018,
          "n": 3.0000000000000018
         },
         {
          "Complexity": "O(n)",
          "f(n)": 3.100000000000002,
          "n": 3.100000000000002
         },
         {
          "Complexity": "O(n)",
          "f(n)": 3.200000000000002,
          "n": 3.200000000000002
         },
         {
          "Complexity": "O(n)",
          "f(n)": 3.300000000000002,
          "n": 3.300000000000002
         },
         {
          "Complexity": "O(n)",
          "f(n)": 3.400000000000002,
          "n": 3.400000000000002
         },
         {
          "Complexity": "O(n)",
          "f(n)": 3.500000000000002,
          "n": 3.500000000000002
         },
         {
          "Complexity": "O(n)",
          "f(n)": 3.6000000000000023,
          "n": 3.6000000000000023
         },
         {
          "Complexity": "O(n)",
          "f(n)": 3.7000000000000024,
          "n": 3.7000000000000024
         },
         {
          "Complexity": "O(n)",
          "f(n)": 3.8000000000000025,
          "n": 3.8000000000000025
         },
         {
          "Complexity": "O(n)",
          "f(n)": 3.9000000000000026,
          "n": 3.9000000000000026
         },
         {
          "Complexity": "O(n)",
          "f(n)": 4.000000000000003,
          "n": 4.000000000000003
         },
         {
          "Complexity": "O(n)",
          "f(n)": 4.100000000000003,
          "n": 4.100000000000003
         },
         {
          "Complexity": "O(n)",
          "f(n)": 4.200000000000003,
          "n": 4.200000000000003
         },
         {
          "Complexity": "O(n)",
          "f(n)": 4.3000000000000025,
          "n": 4.3000000000000025
         },
         {
          "Complexity": "O(n)",
          "f(n)": 4.400000000000003,
          "n": 4.400000000000003
         },
         {
          "Complexity": "O(n)",
          "f(n)": 4.5000000000000036,
          "n": 4.5000000000000036
         },
         {
          "Complexity": "O(n)",
          "f(n)": 4.600000000000003,
          "n": 4.600000000000003
         },
         {
          "Complexity": "O(n)",
          "f(n)": 4.700000000000003,
          "n": 4.700000000000003
         },
         {
          "Complexity": "O(n)",
          "f(n)": 4.800000000000003,
          "n": 4.800000000000003
         },
         {
          "Complexity": "O(n)",
          "f(n)": 4.900000000000004,
          "n": 4.900000000000004
         },
         {
          "Complexity": "O(n)",
          "f(n)": 5.0000000000000036,
          "n": 5.0000000000000036
         },
         {
          "Complexity": "O(n)",
          "f(n)": 5.100000000000003,
          "n": 5.100000000000003
         },
         {
          "Complexity": "O(n)",
          "f(n)": 5.200000000000004,
          "n": 5.200000000000004
         },
         {
          "Complexity": "O(n)",
          "f(n)": 5.300000000000004,
          "n": 5.300000000000004
         },
         {
          "Complexity": "O(n)",
          "f(n)": 5.400000000000004,
          "n": 5.400000000000004
         },
         {
          "Complexity": "O(n)",
          "f(n)": 5.5000000000000036,
          "n": 5.5000000000000036
         },
         {
          "Complexity": "O(n)",
          "f(n)": 5.600000000000004,
          "n": 5.600000000000004
         },
         {
          "Complexity": "O(n)",
          "f(n)": 5.700000000000005,
          "n": 5.700000000000005
         },
         {
          "Complexity": "O(n)",
          "f(n)": 5.800000000000004,
          "n": 5.800000000000004
         },
         {
          "Complexity": "O(n)",
          "f(n)": 5.900000000000004,
          "n": 5.900000000000004
         },
         {
          "Complexity": "O(n)",
          "f(n)": 6.000000000000004,
          "n": 6.000000000000004
         },
         {
          "Complexity": "O(n)",
          "f(n)": 6.100000000000005,
          "n": 6.100000000000005
         },
         {
          "Complexity": "O(n)",
          "f(n)": 6.200000000000005,
          "n": 6.200000000000005
         },
         {
          "Complexity": "O(n)",
          "f(n)": 6.300000000000004,
          "n": 6.300000000000004
         },
         {
          "Complexity": "O(n)",
          "f(n)": 6.400000000000005,
          "n": 6.400000000000005
         },
         {
          "Complexity": "O(n)",
          "f(n)": 6.500000000000005,
          "n": 6.500000000000005
         },
         {
          "Complexity": "O(n)",
          "f(n)": 6.600000000000005,
          "n": 6.600000000000005
         },
         {
          "Complexity": "O(n)",
          "f(n)": 6.700000000000005,
          "n": 6.700000000000005
         },
         {
          "Complexity": "O(n)",
          "f(n)": 6.800000000000005,
          "n": 6.800000000000005
         },
         {
          "Complexity": "O(n)",
          "f(n)": 6.900000000000006,
          "n": 6.900000000000006
         },
         {
          "Complexity": "O(n)",
          "f(n)": 7.000000000000005,
          "n": 7.000000000000005
         },
         {
          "Complexity": "O(n)",
          "f(n)": 7.100000000000005,
          "n": 7.100000000000005
         },
         {
          "Complexity": "O(n)",
          "f(n)": 7.2000000000000055,
          "n": 7.2000000000000055
         },
         {
          "Complexity": "O(n)",
          "f(n)": 7.300000000000006,
          "n": 7.300000000000006
         },
         {
          "Complexity": "O(n)",
          "f(n)": 7.400000000000006,
          "n": 7.400000000000006
         },
         {
          "Complexity": "O(n)",
          "f(n)": 7.500000000000005,
          "n": 7.500000000000005
         },
         {
          "Complexity": "O(n)",
          "f(n)": 7.600000000000006,
          "n": 7.600000000000006
         },
         {
          "Complexity": "O(n)",
          "f(n)": 7.700000000000006,
          "n": 7.700000000000006
         },
         {
          "Complexity": "O(n)",
          "f(n)": 7.800000000000006,
          "n": 7.800000000000006
         },
         {
          "Complexity": "O(n)",
          "f(n)": 7.900000000000006,
          "n": 7.900000000000006
         },
         {
          "Complexity": "O(n)",
          "f(n)": 8.000000000000007,
          "n": 8.000000000000007
         },
         {
          "Complexity": "O(n)",
          "f(n)": 8.100000000000007,
          "n": 8.100000000000007
         },
         {
          "Complexity": "O(n)",
          "f(n)": 8.200000000000006,
          "n": 8.200000000000006
         },
         {
          "Complexity": "O(n)",
          "f(n)": 8.300000000000006,
          "n": 8.300000000000006
         },
         {
          "Complexity": "O(n)",
          "f(n)": 8.400000000000006,
          "n": 8.400000000000006
         },
         {
          "Complexity": "O(n)",
          "f(n)": 8.500000000000007,
          "n": 8.500000000000007
         },
         {
          "Complexity": "O(n)",
          "f(n)": 8.600000000000007,
          "n": 8.600000000000007
         },
         {
          "Complexity": "O(n)",
          "f(n)": 8.700000000000006,
          "n": 8.700000000000006
         },
         {
          "Complexity": "O(n)",
          "f(n)": 8.800000000000008,
          "n": 8.800000000000008
         },
         {
          "Complexity": "O(n)",
          "f(n)": 8.900000000000007,
          "n": 8.900000000000007
         },
         {
          "Complexity": "O(n)",
          "f(n)": 9.000000000000007,
          "n": 9.000000000000007
         },
         {
          "Complexity": "O(n)",
          "f(n)": 9.100000000000007,
          "n": 9.100000000000007
         },
         {
          "Complexity": "O(n)",
          "f(n)": 9.200000000000006,
          "n": 9.200000000000006
         },
         {
          "Complexity": "O(n)",
          "f(n)": 9.300000000000008,
          "n": 9.300000000000008
         },
         {
          "Complexity": "O(n)",
          "f(n)": 9.400000000000007,
          "n": 9.400000000000007
         },
         {
          "Complexity": "O(n)",
          "f(n)": 9.500000000000007,
          "n": 9.500000000000007
         },
         {
          "Complexity": "O(n)",
          "f(n)": 9.600000000000009,
          "n": 9.600000000000009
         },
         {
          "Complexity": "O(n)",
          "f(n)": 9.700000000000008,
          "n": 9.700000000000008
         },
         {
          "Complexity": "O(n)",
          "f(n)": 9.800000000000008,
          "n": 9.800000000000008
         },
         {
          "Complexity": "O(n)",
          "f(n)": 9.900000000000007,
          "n": 9.900000000000007
         },
         {
          "Complexity": "O(n)",
          "f(n)": 10.000000000000007,
          "n": 10.000000000000007
         },
         {
          "Complexity": "O(n)",
          "f(n)": 10.100000000000009,
          "n": 10.100000000000009
         },
         {
          "Complexity": "O(n)",
          "f(n)": 10.200000000000008,
          "n": 10.200000000000008
         },
         {
          "Complexity": "O(n)",
          "f(n)": 10.300000000000008,
          "n": 10.300000000000008
         },
         {
          "Complexity": "O(n)",
          "f(n)": 10.40000000000001,
          "n": 10.40000000000001
         },
         {
          "Complexity": "O(n)",
          "f(n)": 10.500000000000009,
          "n": 10.500000000000009
         },
         {
          "Complexity": "O(n)",
          "f(n)": 10.600000000000009,
          "n": 10.600000000000009
         },
         {
          "Complexity": "O(n)",
          "f(n)": 10.700000000000008,
          "n": 10.700000000000008
         },
         {
          "Complexity": "O(n)",
          "f(n)": 10.800000000000008,
          "n": 10.800000000000008
         },
         {
          "Complexity": "O(n)",
          "f(n)": 10.90000000000001,
          "n": 10.90000000000001
         },
         {
          "Complexity": "O(n)",
          "f(n)": 11.000000000000009,
          "n": 11.000000000000009
         },
         {
          "Complexity": "O(n)",
          "f(n)": 11.100000000000009,
          "n": 11.100000000000009
         },
         {
          "Complexity": "O(n)",
          "f(n)": 11.20000000000001,
          "n": 11.20000000000001
         },
         {
          "Complexity": "O(n)",
          "f(n)": 11.30000000000001,
          "n": 11.30000000000001
         },
         {
          "Complexity": "O(n)",
          "f(n)": 11.40000000000001,
          "n": 11.40000000000001
         },
         {
          "Complexity": "O(n)",
          "f(n)": 11.500000000000009,
          "n": 11.500000000000009
         },
         {
          "Complexity": "O(n)",
          "f(n)": 11.600000000000009,
          "n": 11.600000000000009
         },
         {
          "Complexity": "O(n)",
          "f(n)": 11.70000000000001,
          "n": 11.70000000000001
         },
         {
          "Complexity": "O(n)",
          "f(n)": 11.80000000000001,
          "n": 11.80000000000001
         },
         {
          "Complexity": "O(n)",
          "f(n)": 11.90000000000001,
          "n": 11.90000000000001
         },
         {
          "Complexity": "O(n)",
          "f(n)": 12.00000000000001,
          "n": 12.00000000000001
         },
         {
          "Complexity": "O(n)",
          "f(n)": 12.10000000000001,
          "n": 12.10000000000001
         },
         {
          "Complexity": "O(n)",
          "f(n)": 12.20000000000001,
          "n": 12.20000000000001
         },
         {
          "Complexity": "O(n)",
          "f(n)": 12.30000000000001,
          "n": 12.30000000000001
         },
         {
          "Complexity": "O(n)",
          "f(n)": 12.40000000000001,
          "n": 12.40000000000001
         },
         {
          "Complexity": "O(n)",
          "f(n)": 12.50000000000001,
          "n": 12.50000000000001
         },
         {
          "Complexity": "O(n)",
          "f(n)": 12.60000000000001,
          "n": 12.60000000000001
         },
         {
          "Complexity": "O(n)",
          "f(n)": 12.70000000000001,
          "n": 12.70000000000001
         },
         {
          "Complexity": "O(n)",
          "f(n)": 12.800000000000011,
          "n": 12.800000000000011
         },
         {
          "Complexity": "O(n)",
          "f(n)": 12.900000000000011,
          "n": 12.900000000000011
         },
         {
          "Complexity": "O(n)",
          "f(n)": 13.00000000000001,
          "n": 13.00000000000001
         },
         {
          "Complexity": "O(n)",
          "f(n)": 13.10000000000001,
          "n": 13.10000000000001
         },
         {
          "Complexity": "O(n)",
          "f(n)": 13.20000000000001,
          "n": 13.20000000000001
         },
         {
          "Complexity": "O(n)",
          "f(n)": 13.300000000000011,
          "n": 13.300000000000011
         },
         {
          "Complexity": "O(n)",
          "f(n)": 13.400000000000011,
          "n": 13.400000000000011
         },
         {
          "Complexity": "O(n)",
          "f(n)": 13.50000000000001,
          "n": 13.50000000000001
         },
         {
          "Complexity": "O(n)",
          "f(n)": 13.600000000000012,
          "n": 13.600000000000012
         },
         {
          "Complexity": "O(n)",
          "f(n)": 13.700000000000012,
          "n": 13.700000000000012
         },
         {
          "Complexity": "O(n)",
          "f(n)": 13.800000000000011,
          "n": 13.800000000000011
         },
         {
          "Complexity": "O(n)",
          "f(n)": 13.900000000000011,
          "n": 13.900000000000011
         },
         {
          "Complexity": "O(n)",
          "f(n)": 14.00000000000001,
          "n": 14.00000000000001
         },
         {
          "Complexity": "O(n)",
          "f(n)": 14.100000000000012,
          "n": 14.100000000000012
         },
         {
          "Complexity": "O(n)",
          "f(n)": 14.200000000000012,
          "n": 14.200000000000012
         },
         {
          "Complexity": "O(n)",
          "f(n)": 14.300000000000011,
          "n": 14.300000000000011
         },
         {
          "Complexity": "O(n)",
          "f(n)": 14.400000000000013,
          "n": 14.400000000000013
         },
         {
          "Complexity": "O(n)",
          "f(n)": 14.500000000000012,
          "n": 14.500000000000012
         },
         {
          "Complexity": "O(n)",
          "f(n)": 14.600000000000012,
          "n": 14.600000000000012
         },
         {
          "Complexity": "O(n)",
          "f(n)": 14.700000000000012,
          "n": 14.700000000000012
         },
         {
          "Complexity": "O(n)",
          "f(n)": 14.800000000000011,
          "n": 14.800000000000011
         },
         {
          "Complexity": "O(n)",
          "f(n)": 14.900000000000013,
          "n": 14.900000000000013
         },
         {
          "Complexity": "O(n)",
          "f(n)": 15.000000000000012,
          "n": 15.000000000000012
         },
         {
          "Complexity": "O(n)",
          "f(n)": 15.100000000000012,
          "n": 15.100000000000012
         },
         {
          "Complexity": "O(n)",
          "f(n)": 15.200000000000014,
          "n": 15.200000000000014
         },
         {
          "Complexity": "O(n)",
          "f(n)": 15.300000000000013,
          "n": 15.300000000000013
         },
         {
          "Complexity": "O(n)",
          "f(n)": 15.400000000000013,
          "n": 15.400000000000013
         },
         {
          "Complexity": "O(n)",
          "f(n)": 15.500000000000012,
          "n": 15.500000000000012
         },
         {
          "Complexity": "O(n)",
          "f(n)": 15.600000000000012,
          "n": 15.600000000000012
         },
         {
          "Complexity": "O(n)",
          "f(n)": 15.700000000000014,
          "n": 15.700000000000014
         },
         {
          "Complexity": "O(n)",
          "f(n)": 15.800000000000013,
          "n": 15.800000000000013
         },
         {
          "Complexity": "O(n)",
          "f(n)": 15.900000000000013,
          "n": 15.900000000000013
         },
         {
          "Complexity": "O(n)",
          "f(n)": 16.000000000000014,
          "n": 16.000000000000014
         },
         {
          "Complexity": "O(n)",
          "f(n)": 16.100000000000016,
          "n": 16.100000000000016
         },
         {
          "Complexity": "O(n)",
          "f(n)": 16.200000000000014,
          "n": 16.200000000000014
         },
         {
          "Complexity": "O(n)",
          "f(n)": 16.30000000000001,
          "n": 16.30000000000001
         },
         {
          "Complexity": "O(n)",
          "f(n)": 16.400000000000013,
          "n": 16.400000000000013
         },
         {
          "Complexity": "O(n)",
          "f(n)": 16.500000000000014,
          "n": 16.500000000000014
         },
         {
          "Complexity": "O(n)",
          "f(n)": 16.600000000000016,
          "n": 16.600000000000016
         },
         {
          "Complexity": "O(n)",
          "f(n)": 16.700000000000014,
          "n": 16.700000000000014
         },
         {
          "Complexity": "O(n)",
          "f(n)": 16.800000000000015,
          "n": 16.800000000000015
         },
         {
          "Complexity": "O(n)",
          "f(n)": 16.900000000000013,
          "n": 16.900000000000013
         },
         {
          "Complexity": "O(n)",
          "f(n)": 17.000000000000014,
          "n": 17.000000000000014
         },
         {
          "Complexity": "O(n)",
          "f(n)": 17.100000000000016,
          "n": 17.100000000000016
         },
         {
          "Complexity": "O(n)",
          "f(n)": 17.200000000000014,
          "n": 17.200000000000014
         },
         {
          "Complexity": "O(n)",
          "f(n)": 17.300000000000015,
          "n": 17.300000000000015
         },
         {
          "Complexity": "O(n)",
          "f(n)": 17.400000000000013,
          "n": 17.400000000000013
         },
         {
          "Complexity": "O(n)",
          "f(n)": 17.500000000000014,
          "n": 17.500000000000014
         },
         {
          "Complexity": "O(n)",
          "f(n)": 17.600000000000016,
          "n": 17.600000000000016
         },
         {
          "Complexity": "O(n)",
          "f(n)": 17.700000000000014,
          "n": 17.700000000000014
         },
         {
          "Complexity": "O(n)",
          "f(n)": 17.800000000000015,
          "n": 17.800000000000015
         },
         {
          "Complexity": "O(n)",
          "f(n)": 17.900000000000016,
          "n": 17.900000000000016
         },
         {
          "Complexity": "O(n)",
          "f(n)": 18.000000000000014,
          "n": 18.000000000000014
         },
         {
          "Complexity": "O(n)",
          "f(n)": 18.100000000000016,
          "n": 18.100000000000016
         },
         {
          "Complexity": "O(n)",
          "f(n)": 18.200000000000017,
          "n": 18.200000000000017
         },
         {
          "Complexity": "O(n)",
          "f(n)": 18.300000000000015,
          "n": 18.300000000000015
         },
         {
          "Complexity": "O(n)",
          "f(n)": 18.400000000000016,
          "n": 18.400000000000016
         },
         {
          "Complexity": "O(n)",
          "f(n)": 18.500000000000014,
          "n": 18.500000000000014
         },
         {
          "Complexity": "O(n)",
          "f(n)": 18.600000000000016,
          "n": 18.600000000000016
         },
         {
          "Complexity": "O(n)",
          "f(n)": 18.700000000000017,
          "n": 18.700000000000017
         },
         {
          "Complexity": "O(n)",
          "f(n)": 18.800000000000015,
          "n": 18.800000000000015
         },
         {
          "Complexity": "O(n)",
          "f(n)": 18.900000000000016,
          "n": 18.900000000000016
         },
         {
          "Complexity": "O(n)",
          "f(n)": 19.000000000000014,
          "n": 19.000000000000014
         },
         {
          "Complexity": "O(n)",
          "f(n)": 19.100000000000016,
          "n": 19.100000000000016
         },
         {
          "Complexity": "O(n)",
          "f(n)": 19.200000000000017,
          "n": 19.200000000000017
         },
         {
          "Complexity": "O(n)",
          "f(n)": 19.300000000000015,
          "n": 19.300000000000015
         },
         {
          "Complexity": "O(n)",
          "f(n)": 19.400000000000016,
          "n": 19.400000000000016
         },
         {
          "Complexity": "O(n)",
          "f(n)": 19.500000000000018,
          "n": 19.500000000000018
         },
         {
          "Complexity": "O(n)",
          "f(n)": 19.600000000000016,
          "n": 19.600000000000016
         },
         {
          "Complexity": "O(n)",
          "f(n)": 19.700000000000017,
          "n": 19.700000000000017
         },
         {
          "Complexity": "O(n)",
          "f(n)": 19.80000000000002,
          "n": 19.80000000000002
         },
         {
          "Complexity": "O(n)",
          "f(n)": 19.900000000000016,
          "n": 19.900000000000016
         },
         {
          "Complexity": "O(n)",
          "f(n)": 20.000000000000018,
          "n": 20.000000000000018
         },
         {
          "Complexity": "O(n)",
          "f(n)": 20.100000000000016,
          "n": 20.100000000000016
         },
         {
          "Complexity": "O(n)",
          "f(n)": 20.200000000000017,
          "n": 20.200000000000017
         },
         {
          "Complexity": "O(n)",
          "f(n)": 20.30000000000002,
          "n": 20.30000000000002
         },
         {
          "Complexity": "O(n)",
          "f(n)": 20.400000000000016,
          "n": 20.400000000000016
         },
         {
          "Complexity": "O(n)",
          "f(n)": 20.500000000000018,
          "n": 20.500000000000018
         },
         {
          "Complexity": "O(n)",
          "f(n)": 20.600000000000016,
          "n": 20.600000000000016
         },
         {
          "Complexity": "O(n)",
          "f(n)": 20.700000000000017,
          "n": 20.700000000000017
         },
         {
          "Complexity": "O(n)",
          "f(n)": 20.80000000000002,
          "n": 20.80000000000002
         },
         {
          "Complexity": "O(n)",
          "f(n)": 20.900000000000016,
          "n": 20.900000000000016
         },
         {
          "Complexity": "O(n)",
          "f(n)": 21.000000000000018,
          "n": 21.000000000000018
         },
         {
          "Complexity": "O(n)",
          "f(n)": 21.10000000000002,
          "n": 21.10000000000002
         },
         {
          "Complexity": "O(n)",
          "f(n)": 21.200000000000017,
          "n": 21.200000000000017
         },
         {
          "Complexity": "O(n)",
          "f(n)": 21.30000000000002,
          "n": 21.30000000000002
         },
         {
          "Complexity": "O(n)",
          "f(n)": 21.40000000000002,
          "n": 21.40000000000002
         },
         {
          "Complexity": "O(n)",
          "f(n)": 21.500000000000018,
          "n": 21.500000000000018
         },
         {
          "Complexity": "O(n)",
          "f(n)": 21.60000000000002,
          "n": 21.60000000000002
         },
         {
          "Complexity": "O(n)",
          "f(n)": 21.700000000000017,
          "n": 21.700000000000017
         },
         {
          "Complexity": "O(n)",
          "f(n)": 21.80000000000002,
          "n": 21.80000000000002
         },
         {
          "Complexity": "O(n)",
          "f(n)": 21.90000000000002,
          "n": 21.90000000000002
         },
         {
          "Complexity": "O(n)",
          "f(n)": 22.000000000000018,
          "n": 22.000000000000018
         },
         {
          "Complexity": "O(n)",
          "f(n)": 22.10000000000002,
          "n": 22.10000000000002
         },
         {
          "Complexity": "O(n)",
          "f(n)": 22.200000000000017,
          "n": 22.200000000000017
         },
         {
          "Complexity": "O(n)",
          "f(n)": 22.30000000000002,
          "n": 22.30000000000002
         },
         {
          "Complexity": "O(n)",
          "f(n)": 22.40000000000002,
          "n": 22.40000000000002
         },
         {
          "Complexity": "O(n)",
          "f(n)": 22.500000000000018,
          "n": 22.500000000000018
         },
         {
          "Complexity": "O(n)",
          "f(n)": 22.60000000000002,
          "n": 22.60000000000002
         },
         {
          "Complexity": "O(n)",
          "f(n)": 22.70000000000002,
          "n": 22.70000000000002
         },
         {
          "Complexity": "O(n)",
          "f(n)": 22.80000000000002,
          "n": 22.80000000000002
         },
         {
          "Complexity": "O(n)",
          "f(n)": 22.90000000000002,
          "n": 22.90000000000002
         },
         {
          "Complexity": "O(n)",
          "f(n)": 23.00000000000002,
          "n": 23.00000000000002
         },
         {
          "Complexity": "O(n)",
          "f(n)": 23.10000000000002,
          "n": 23.10000000000002
         },
         {
          "Complexity": "O(n)",
          "f(n)": 23.20000000000002,
          "n": 23.20000000000002
         },
         {
          "Complexity": "O(n)",
          "f(n)": 23.30000000000002,
          "n": 23.30000000000002
         },
         {
          "Complexity": "O(n)",
          "f(n)": 23.40000000000002,
          "n": 23.40000000000002
         },
         {
          "Complexity": "O(n)",
          "f(n)": 23.50000000000002,
          "n": 23.50000000000002
         },
         {
          "Complexity": "O(n)",
          "f(n)": 23.60000000000002,
          "n": 23.60000000000002
         },
         {
          "Complexity": "O(n)",
          "f(n)": 23.70000000000002,
          "n": 23.70000000000002
         },
         {
          "Complexity": "O(n)",
          "f(n)": 23.80000000000002,
          "n": 23.80000000000002
         },
         {
          "Complexity": "O(n)",
          "f(n)": 23.90000000000002,
          "n": 23.90000000000002
         },
         {
          "Complexity": "O(n)",
          "f(n)": 24.00000000000002,
          "n": 24.00000000000002
         },
         {
          "Complexity": "O(n)",
          "f(n)": 24.10000000000002,
          "n": 24.10000000000002
         },
         {
          "Complexity": "O(n)",
          "f(n)": 24.20000000000002,
          "n": 24.20000000000002
         },
         {
          "Complexity": "O(n)",
          "f(n)": 24.300000000000022,
          "n": 24.300000000000022
         },
         {
          "Complexity": "O(n)",
          "f(n)": 24.40000000000002,
          "n": 24.40000000000002
         },
         {
          "Complexity": "O(n)",
          "f(n)": 24.50000000000002,
          "n": 24.50000000000002
         },
         {
          "Complexity": "O(n)",
          "f(n)": 24.600000000000023,
          "n": 24.600000000000023
         },
         {
          "Complexity": "O(n)",
          "f(n)": 24.70000000000002,
          "n": 24.70000000000002
         },
         {
          "Complexity": "O(n)",
          "f(n)": 24.800000000000022,
          "n": 24.800000000000022
         },
         {
          "Complexity": "O(n)",
          "f(n)": 24.90000000000002,
          "n": 24.90000000000002
         },
         {
          "Complexity": "O(n)",
          "f(n)": 25.00000000000002,
          "n": 25.00000000000002
         },
         {
          "Complexity": "O(n)",
          "f(n)": 25.100000000000023,
          "n": 25.100000000000023
         },
         {
          "Complexity": "O(n)",
          "f(n)": 25.20000000000002,
          "n": 25.20000000000002
         },
         {
          "Complexity": "O(n)",
          "f(n)": 25.300000000000022,
          "n": 25.300000000000022
         },
         {
          "Complexity": "O(n)",
          "f(n)": 25.40000000000002,
          "n": 25.40000000000002
         },
         {
          "Complexity": "O(n)",
          "f(n)": 25.50000000000002,
          "n": 25.50000000000002
         },
         {
          "Complexity": "O(n)",
          "f(n)": 25.600000000000023,
          "n": 25.600000000000023
         },
         {
          "Complexity": "O(n)",
          "f(n)": 25.70000000000002,
          "n": 25.70000000000002
         },
         {
          "Complexity": "O(n)",
          "f(n)": 25.800000000000022,
          "n": 25.800000000000022
         },
         {
          "Complexity": "O(n)",
          "f(n)": 25.900000000000023,
          "n": 25.900000000000023
         },
         {
          "Complexity": "O(n)",
          "f(n)": 26.00000000000002,
          "n": 26.00000000000002
         },
         {
          "Complexity": "O(n)",
          "f(n)": 26.100000000000023,
          "n": 26.100000000000023
         },
         {
          "Complexity": "O(n)",
          "f(n)": 26.200000000000024,
          "n": 26.200000000000024
         },
         {
          "Complexity": "O(n)",
          "f(n)": 26.300000000000022,
          "n": 26.300000000000022
         },
         {
          "Complexity": "O(n)",
          "f(n)": 26.400000000000023,
          "n": 26.400000000000023
         },
         {
          "Complexity": "O(n)",
          "f(n)": 26.50000000000002,
          "n": 26.50000000000002
         },
         {
          "Complexity": "O(n)",
          "f(n)": 26.600000000000023,
          "n": 26.600000000000023
         },
         {
          "Complexity": "O(n)",
          "f(n)": 26.700000000000024,
          "n": 26.700000000000024
         },
         {
          "Complexity": "O(n)",
          "f(n)": 26.800000000000022,
          "n": 26.800000000000022
         },
         {
          "Complexity": "O(n)",
          "f(n)": 26.900000000000023,
          "n": 26.900000000000023
         },
         {
          "Complexity": "O(n)",
          "f(n)": 27.00000000000002,
          "n": 27.00000000000002
         },
         {
          "Complexity": "O(n)",
          "f(n)": 27.100000000000023,
          "n": 27.100000000000023
         },
         {
          "Complexity": "O(n)",
          "f(n)": 27.200000000000024,
          "n": 27.200000000000024
         },
         {
          "Complexity": "O(n)",
          "f(n)": 27.300000000000022,
          "n": 27.300000000000022
         },
         {
          "Complexity": "O(n)",
          "f(n)": 27.400000000000023,
          "n": 27.400000000000023
         },
         {
          "Complexity": "O(n)",
          "f(n)": 27.500000000000025,
          "n": 27.500000000000025
         },
         {
          "Complexity": "O(n)",
          "f(n)": 27.600000000000023,
          "n": 27.600000000000023
         },
         {
          "Complexity": "O(n)",
          "f(n)": 27.700000000000024,
          "n": 27.700000000000024
         },
         {
          "Complexity": "O(n)",
          "f(n)": 27.800000000000026,
          "n": 27.800000000000026
         },
         {
          "Complexity": "O(n)",
          "f(n)": 27.900000000000023,
          "n": 27.900000000000023
         },
         {
          "Complexity": "O(n)",
          "f(n)": 28.000000000000025,
          "n": 28.000000000000025
         },
         {
          "Complexity": "O(n)",
          "f(n)": 28.100000000000023,
          "n": 28.100000000000023
         },
         {
          "Complexity": "O(n)",
          "f(n)": 28.200000000000024,
          "n": 28.200000000000024
         },
         {
          "Complexity": "O(n)",
          "f(n)": 28.300000000000026,
          "n": 28.300000000000026
         },
         {
          "Complexity": "O(n)",
          "f(n)": 28.400000000000023,
          "n": 28.400000000000023
         },
         {
          "Complexity": "O(n)",
          "f(n)": 28.500000000000025,
          "n": 28.500000000000025
         },
         {
          "Complexity": "O(n)",
          "f(n)": 28.600000000000023,
          "n": 28.600000000000023
         },
         {
          "Complexity": "O(n)",
          "f(n)": 28.700000000000024,
          "n": 28.700000000000024
         },
         {
          "Complexity": "O(n)",
          "f(n)": 28.800000000000026,
          "n": 28.800000000000026
         },
         {
          "Complexity": "O(n)",
          "f(n)": 28.900000000000023,
          "n": 28.900000000000023
         },
         {
          "Complexity": "O(n)",
          "f(n)": 29.000000000000025,
          "n": 29.000000000000025
         },
         {
          "Complexity": "O(n)",
          "f(n)": 29.100000000000026,
          "n": 29.100000000000026
         },
         {
          "Complexity": "O(n)",
          "f(n)": 29.200000000000024,
          "n": 29.200000000000024
         },
         {
          "Complexity": "O(n)",
          "f(n)": 29.300000000000026,
          "n": 29.300000000000026
         },
         {
          "Complexity": "O(n)",
          "f(n)": 29.400000000000027,
          "n": 29.400000000000027
         },
         {
          "Complexity": "O(n)",
          "f(n)": 29.500000000000025,
          "n": 29.500000000000025
         },
         {
          "Complexity": "O(n)",
          "f(n)": 29.600000000000026,
          "n": 29.600000000000026
         },
         {
          "Complexity": "O(n)",
          "f(n)": 29.700000000000024,
          "n": 29.700000000000024
         },
         {
          "Complexity": "O(n)",
          "f(n)": 29.800000000000026,
          "n": 29.800000000000026
         },
         {
          "Complexity": "O(n)",
          "f(n)": 29.900000000000027,
          "n": 29.900000000000027
         },
         {
          "Complexity": "O(n log n)",
          "f(n)": 0,
          "n": 1
         },
         {
          "Complexity": "O(n log n)",
          "f(n)": 0.10484119778475744,
          "n": 1.1
         },
         {
          "Complexity": "O(n log n)",
          "f(n)": 0.21878586815274578,
          "n": 1.2000000000000002
         },
         {
          "Complexity": "O(n log n)",
          "f(n)": 0.34107354380773874,
          "n": 1.3000000000000003
         },
         {
          "Complexity": "O(n log n)",
          "f(n)": 0.47106113126969856,
          "n": 1.4000000000000004
         },
         {
          "Complexity": "O(n log n)",
          "f(n)": 0.6081976621622471,
          "n": 1.5000000000000004
         },
         {
          "Complexity": "O(n log n)",
          "f(n)": 0.7520058067931777,
          "n": 1.6000000000000005
         },
         {
          "Complexity": "O(n log n)",
          "f(n)": 0.9020680268056905,
          "n": 1.7000000000000006
         },
         {
          "Complexity": "O(n log n)",
          "f(n)": 1.0580159968238154,
          "n": 1.8000000000000007
         },
         {
          "Complexity": "O(n log n)",
          "f(n)": 1.2195223837275515,
          "n": 1.9000000000000008
         },
         {
          "Complexity": "O(n log n)",
          "f(n)": 1.3862943611198921,
          "n": 2.000000000000001
         },
         {
          "Complexity": "O(n log n)",
          "f(n)": 1.558068423931694,
          "n": 2.100000000000001
         },
         {
          "Complexity": "O(n log n)",
          "f(n)": 1.7346061928013963,
          "n": 2.200000000000001
         },
         {
          "Complexity": "O(n log n)",
          "f(n)": 1.9156909827507413,
          "n": 2.300000000000001
         },
         {
          "Complexity": "O(n log n)",
          "f(n)": 2.101124969649362,
          "n": 2.4000000000000012
         },
         {
          "Complexity": "O(n log n)",
          "f(n)": 2.29072682968539,
          "n": 2.5000000000000013
         },
         {
          "Complexity": "O(n log n)",
          "f(n)": 2.4843297570713374,
          "n": 2.6000000000000014
         },
         {
          "Complexity": "O(n log n)",
          "f(n)": 2.6817797871277684,
          "n": 2.7000000000000015
         },
         {
          "Complexity": "O(n log n)",
          "f(n)": 2.882934368107246,
          "n": 2.8000000000000016
         },
         {
          "Complexity": "O(n log n)",
          "f(n)": 3.0876611372780456,
          "n": 2.9000000000000017
         },
         {
          "Complexity": "O(n log n)",
          "f(n)": 3.2958368660043327,
          "n": 3.0000000000000018
         },
         {
          "Complexity": "O(n log n)",
          "f(n)": 3.507346545622416,
          "n": 3.100000000000002
         },
         {
          "Complexity": "O(n log n)",
          "f(n)": 3.722082591378183,
          "n": 3.200000000000002
         },
         {
          "Complexity": "O(n log n)",
          "f(n)": 3.9399441459590387,
          "n": 3.300000000000002
         },
         {
          "Complexity": "O(n log n)",
          "f(n)": 4.160836467515198,
          "n": 3.400000000000002
         },
         {
          "Complexity": "O(n log n)",
          "f(n)": 4.3846703897337935,
          "n": 3.500000000000002
         },
         {
          "Complexity": "O(n log n)",
          "f(n)": 4.6113618436634365,
          "n": 3.6000000000000023
         },
         {
          "Complexity": "O(n log n)",
          "f(n)": 4.8408314327056665,
          "n": 3.7000000000000024
         },
         {
          "Complexity": "O(n log n)",
          "f(n)": 5.073004053582898,
          "n": 3.8000000000000025
         },
         {
          "Complexity": "O(n log n)",
          "f(n)": 5.307808557228849,
          "n": 3.9000000000000026
         },
         {
          "Complexity": "O(n log n)",
          "f(n)": 5.5451774444795685,
          "n": 4.000000000000003
         },
         {
          "Complexity": "O(n log n)",
          "f(n)": 5.785046592212082,
          "n": 4.100000000000003
         },
         {
          "Complexity": "O(n log n)",
          "f(n)": 6.027355006215163,
          "n": 4.200000000000003
         },
         {
          "Complexity": "O(n log n)",
          "f(n)": 6.272044597607929,
          "n": 4.3000000000000025
         },
         {
          "Complexity": "O(n log n)",
          "f(n)": 6.519059980066556,
          "n": 4.400000000000003
         },
         {
          "Complexity": "O(n log n)",
          "f(n)": 6.768348285493242,
          "n": 4.5000000000000036
         },
         {
          "Complexity": "O(n log n)",
          "f(n)": 7.019858996077235,
          "n": 4.600000000000003
         },
         {
          "Complexity": "O(n log n)",
          "f(n)": 7.273543790965268,
          "n": 4.700000000000003
         },
         {
          "Complexity": "O(n log n)",
          "f(n)": 7.529356405986466,
          "n": 4.800000000000003
         },
         {
          "Complexity": "O(n log n)",
          "f(n)": 7.787252505071256,
          "n": 4.900000000000004
         },
         {
          "Complexity": "O(n log n)",
          "f(n)": 8.047189562170512,
          "n": 5.0000000000000036
         },
         {
          "Complexity": "O(n log n)",
          "f(n)": 8.309126752624437,
          "n": 5.100000000000003
         },
         {
          "Complexity": "O(n log n)",
          "f(n)": 8.573024853054394,
          "n": 5.200000000000004
         },
         {
          "Complexity": "O(n log n)",
          "f(n)": 8.838846148957815,
          "n": 5.300000000000004
         },
         {
          "Complexity": "O(n log n)",
          "f(n)": 9.106554349279246,
          "n": 5.400000000000004
         },
         {
          "Complexity": "O(n log n)",
          "f(n)": 9.376114507311348,
          "n": 5.5000000000000036
         },
         {
          "Complexity": "O(n log n)",
          "f(n)": 9.647492947350191,
          "n": 5.600000000000004
         },
         {
          "Complexity": "O(n log n)",
          "f(n)": 9.920657196590888,
          "n": 5.700000000000005
         },
         {
          "Complexity": "O(n log n)",
          "f(n)": 10.195575921803778,
          "n": 5.800000000000004
         },
         {
          "Complexity": "O(n log n)",
          "f(n)": 10.472218870378887,
          "n": 5.900000000000004
         },
         {
          "Complexity": "O(n log n)",
          "f(n)": 10.750556815368343,
          "n": 6.000000000000004
         },
         {
          "Complexity": "O(n log n)",
          "f(n)": 11.030561504193534,
          "n": 6.100000000000005
         },
         {
          "Complexity": "O(n log n)",
          "f(n)": 11.312205610716498,
          "n": 6.200000000000005
         },
         {
          "Complexity": "O(n log n)",
          "f(n)": 11.595462690404181,
          "n": 6.300000000000004
         },
         {
          "Complexity": "O(n log n)",
          "f(n)": 11.88030713834002,
          "n": 6.400000000000005
         },
         {
          "Complexity": "O(n log n)",
          "f(n)": 12.16671414986036,
          "n": 6.500000000000005
         },
         {
          "Complexity": "O(n log n)",
          "f(n)": 12.454659683613722,
          "n": 6.600000000000005
         },
         {
          "Complexity": "O(n log n)",
          "f(n)": 12.74412042685938,
          "n": 6.700000000000005
         },
         {
          "Complexity": "O(n log n)",
          "f(n)": 13.03507376283803,
          "n": 6.800000000000005
         },
         {
          "Complexity": "O(n log n)",
          "f(n)": 13.32749774006219,
          "n": 6.900000000000006
         },
         {
          "Complexity": "O(n log n)",
          "f(n)": 13.621371043387208,
          "n": 7.000000000000005
         },
         {
          "Complexity": "O(n log n)",
          "f(n)": 13.91667296673563,
          "n": 7.100000000000005
         },
         {
          "Complexity": "O(n log n)",
          "f(n)": 14.213383387358485,
          "n": 7.2000000000000055
         },
         {
          "Complexity": "O(n log n)",
          "f(n)": 14.511482741526741,
          "n": 7.300000000000006
         },
         {
          "Complexity": "O(n log n)",
          "f(n)": 14.810952001554934,
          "n": 7.400000000000006
         },
         {
          "Complexity": "O(n log n)",
          "f(n)": 15.111772654067002,
          "n": 7.500000000000005
         },
         {
          "Complexity": "O(n log n)",
          "f(n)": 15.413926679421385,
          "n": 7.600000000000006
         },
         {
          "Complexity": "O(n log n)",
          "f(n)": 15.717396532219235,
          "n": 7.700000000000006
         },
         {
          "Complexity": "O(n log n)",
          "f(n)": 16.022165122825278,
          "n": 7.800000000000006
         },
         {
          "Complexity": "O(n log n)",
          "f(n)": 16.328215799836524,
          "n": 7.900000000000006
         },
         {
          "Complexity": "O(n log n)",
          "f(n)": 16.635532333438707,
          "n": 8.000000000000007
         },
         {
          "Complexity": "O(n log n)",
          "f(n)": 16.944098899595005,
          "n": 8.100000000000007
         },
         {
          "Complexity": "O(n log n)",
          "f(n)": 17.25390006501572,
          "n": 8.200000000000006
         },
         {
          "Complexity": "O(n log n)",
          "f(n)": 17.5649207728612,
          "n": 8.300000000000006
         },
         {
          "Complexity": "O(n log n)",
          "f(n)": 17.87714632913387,
          "n": 8.400000000000006
         },
         {
          "Complexity": "O(n log n)",
          "f(n)": 18.190562389718323,
          "n": 8.500000000000007
         },
         {
          "Complexity": "O(n log n)",
          "f(n)": 18.505154948031393,
          "n": 8.600000000000007
         },
         {
          "Complexity": "O(n log n)",
          "f(n)": 18.8209103232467,
          "n": 8.700000000000006
         },
         {
          "Complexity": "O(n log n)",
          "f(n)": 19.137815149060643,
          "n": 8.800000000000008
         },
         {
          "Complexity": "O(n log n)",
          "f(n)": 19.45585636296906,
          "n": 8.900000000000007
         },
         {
          "Complexity": "O(n log n)",
          "f(n)": 19.775021196025996,
          "n": 9.000000000000007
         },
         {
          "Complexity": "O(n log n)",
          "f(n)": 20.09529716305754,
          "n": 9.100000000000007
         },
         {
          "Complexity": "O(n log n)",
          "f(n)": 20.416672053305973,
          "n": 9.200000000000006
         },
         {
          "Complexity": "O(n log n)",
          "f(n)": 20.739133921480683,
          "n": 9.300000000000008
         },
         {
          "Complexity": "O(n log n)",
          "f(n)": 21.06267107919403,
          "n": 9.400000000000007
         },
         {
          "Complexity": "O(n log n)",
          "f(n)": 21.387272086761726,
          "n": 9.500000000000007
         },
         {
          "Complexity": "O(n log n)",
          "f(n)": 21.712925745348418,
          "n": 9.600000000000009
         },
         {
          "Complexity": "O(n log n)",
          "f(n)": 22.039621089440594,
          "n": 9.700000000000008
         },
         {
          "Complexity": "O(n log n)",
          "f(n)": 22.36734737962998,
          "n": 9.800000000000008
         },
         {
          "Complexity": "O(n log n)",
          "f(n)": 22.69609409569141,
          "n": 9.900000000000007
         },
         {
          "Complexity": "O(n log n)",
          "f(n)": 23.02585092994048,
          "n": 10.000000000000007
         },
         {
          "Complexity": "O(n log n)",
          "f(n)": 23.356607780856887,
          "n": 10.100000000000009
         },
         {
          "Complexity": "O(n log n)",
          "f(n)": 23.688354746960325,
          "n": 10.200000000000008
         },
         {
          "Complexity": "O(n log n)",
          "f(n)": 24.021082120926604,
          "n": 10.300000000000008
         },
         {
          "Complexity": "O(n log n)",
          "f(n)": 24.354780383932233,
          "n": 10.40000000000001
         },
         {
          "Complexity": "O(n log n)",
          "f(n)": 24.689440200216545,
          "n": 10.500000000000009
         },
         {
          "Complexity": "O(n log n)",
          "f(n)": 25.025052411851057,
          "n": 10.600000000000009
         },
         {
          "Complexity": "O(n log n)",
          "f(n)": 25.361608033706133,
          "n": 10.700000000000008
         },
         {
          "Complexity": "O(n log n)",
          "f(n)": 25.699098248605907,
          "n": 10.800000000000008
         },
         {
          "Complexity": "O(n log n)",
          "f(n)": 26.037514402662598,
          "n": 10.90000000000001
         },
         {
          "Complexity": "O(n log n)",
          "f(n)": 26.376848000782108,
          "n": 11.000000000000009
         },
         {
          "Complexity": "O(n log n)",
          "f(n)": 26.71709070233303,
          "n": 11.100000000000009
         },
         {
          "Complexity": "O(n log n)",
          "f(n)": 27.05823431697178,
          "n": 11.20000000000001
         },
         {
          "Complexity": "O(n log n)",
          "f(n)": 27.400270800616767,
          "n": 11.30000000000001
         },
         {
          "Complexity": "O(n log n)",
          "f(n)": 27.74319225156516,
          "n": 11.40000000000001
         },
         {
          "Complexity": "O(n log n)",
          "f(n)": 28.086990906745882,
          "n": 11.500000000000009
         },
         {
          "Complexity": "O(n log n)",
          "f(n)": 28.431659138102926,
          "n": 11.600000000000009
         },
         {
          "Complexity": "O(n log n)",
          "f(n)": 28.777189449103446,
          "n": 11.70000000000001
         },
         {
          "Complexity": "O(n log n)",
          "f(n)": 29.123574471365142,
          "n": 11.80000000000001
         },
         {
          "Complexity": "O(n log n)",
          "f(n)": 29.47080696139809,
          "n": 11.90000000000001
         },
         {
          "Complexity": "O(n log n)",
          "f(n)": 29.81887979745604,
          "n": 12.00000000000001
         },
         {
          "Complexity": "O(n log n)",
          "f(n)": 30.167785976492652,
          "n": 12.10000000000001
         },
         {
          "Complexity": "O(n log n)",
          "f(n)": 30.517518611218406,
          "n": 12.20000000000001
         },
         {
          "Complexity": "O(n log n)",
          "f(n)": 30.868070927254006,
          "n": 12.30000000000001
         },
         {
          "Complexity": "O(n log n)",
          "f(n)": 31.219436260376323,
          "n": 12.40000000000001
         },
         {
          "Complexity": "O(n log n)",
          "f(n)": 31.571608053853232,
          "n": 12.50000000000001
         },
         {
          "Complexity": "O(n log n)",
          "f(n)": 31.92457985586368,
          "n": 12.60000000000001
         },
         {
          "Complexity": "O(n log n)",
          "f(n)": 32.27834531699976,
          "n": 12.70000000000001
         },
         {
          "Complexity": "O(n log n)",
          "f(n)": 32.63289818784735,
          "n": 12.800000000000011
         },
         {
          "Complexity": "O(n log n)",
          "f(n)": 32.988232316642424,
          "n": 12.900000000000011
         },
         {
          "Complexity": "O(n log n)",
          "f(n)": 33.344341647000014,
          "n": 13.00000000000001
         },
         {
          "Complexity": "O(n log n)",
          "f(n)": 33.70122021571312,
          "n": 13.10000000000001
         },
         {
          "Complexity": "O(n log n)",
          "f(n)": 34.05886215061873,
          "n": 13.20000000000001
         },
         {
          "Complexity": "O(n log n)",
          "f(n)": 34.41726166852856,
          "n": 13.300000000000011
         },
         {
          "Complexity": "O(n log n)",
          "f(n)": 34.77641307322204,
          "n": 13.400000000000011
         },
         {
          "Complexity": "O(n log n)",
          "f(n)": 35.13631075349922,
          "n": 13.50000000000001
         },
         {
          "Complexity": "O(n log n)",
          "f(n)": 35.496949181291335,
          "n": 13.600000000000012
         },
         {
          "Complexity": "O(n log n)",
          "f(n)": 35.858322909826924,
          "n": 13.700000000000012
         },
         {
          "Complexity": "O(n log n)",
          "f(n)": 36.22042657185163,
          "n": 13.800000000000011
         },
         {
          "Complexity": "O(n log n)",
          "f(n)": 36.58325487789942,
          "n": 13.900000000000011
         },
         {
          "Complexity": "O(n log n)",
          "f(n)": 36.94680261461366,
          "n": 14.00000000000001
         },
         {
          "Complexity": "O(n log n)",
          "f(n)": 37.311064643116175,
          "n": 14.100000000000012
         },
         {
          "Complexity": "O(n log n)",
          "f(n)": 37.676035897422494,
          "n": 14.200000000000012
         },
         {
          "Complexity": "O(n log n)",
          "f(n)": 38.041711382901866,
          "n": 14.300000000000011
         },
         {
          "Complexity": "O(n log n)",
          "f(n)": 38.408086174780195,
          "n": 14.400000000000013
         },
         {
          "Complexity": "O(n log n)",
          "f(n)": 38.77515541668471,
          "n": 14.500000000000012
         },
         {
          "Complexity": "O(n log n)",
          "f(n)": 39.142914319228694,
          "n": 14.600000000000012
         },
         {
          "Complexity": "O(n log n)",
          "f(n)": 39.511358158635,
          "n": 14.700000000000012
         },
         {
          "Complexity": "O(n log n)",
          "f(n)": 39.88048227539707,
          "n": 14.800000000000011
         },
         {
          "Complexity": "O(n log n)",
          "f(n)": 40.250282072976105,
          "n": 14.900000000000013
         },
         {
          "Complexity": "O(n log n)",
          "f(n)": 40.6207530165332,
          "n": 15.000000000000012
         },
         {
          "Complexity": "O(n log n)",
          "f(n)": 40.99189063169531,
          "n": 15.100000000000012
         },
         {
          "Complexity": "O(n log n)",
          "f(n)": 41.36369050335396,
          "n": 15.200000000000014
         },
         {
          "Complexity": "O(n log n)",
          "f(n)": 41.73614827449541,
          "n": 15.300000000000013
         },
         {
          "Complexity": "O(n log n)",
          "f(n)": 42.109259645061634,
          "n": 15.400000000000013
         },
         {
          "Complexity": "O(n log n)",
          "f(n)": 42.48302037084066,
          "n": 15.500000000000012
         },
         {
          "Complexity": "O(n log n)",
          "f(n)": 42.85742626238571,
          "n": 15.600000000000012
         },
         {
          "Complexity": "O(n log n)",
          "f(n)": 43.23247318396197,
          "n": 15.700000000000014
         },
         {
          "Complexity": "O(n log n)",
          "f(n)": 43.608157052520205,
          "n": 15.800000000000013
         },
         {
          "Complexity": "O(n log n)",
          "f(n)": 43.9844738366964,
          "n": 15.900000000000013
         },
         {
          "Complexity": "O(n log n)",
          "f(n)": 44.361419555836555,
          "n": 16.000000000000014
         },
         {
          "Complexity": "O(n log n)",
          "f(n)": 44.73899027904577,
          "n": 16.100000000000016
         },
         {
          "Complexity": "O(n log n)",
          "f(n)": 45.11718212426113,
          "n": 16.200000000000014
         },
         {
          "Complexity": "O(n log n)",
          "f(n)": 45.49599125734733,
          "n": 16.30000000000001
         },
         {
          "Complexity": "O(n log n)",
          "f(n)": 45.875413891214556,
          "n": 16.400000000000013
         },
         {
          "Complexity": "O(n log n)",
          "f(n)": 46.25544628495788,
          "n": 16.500000000000014
         },
         {
          "Complexity": "O(n log n)",
          "f(n)": 46.63608474301752,
          "n": 16.600000000000016
         },
         {
          "Complexity": "O(n log n)",
          "f(n)": 47.0173256143593,
          "n": 16.700000000000014
         },
         {
          "Complexity": "O(n log n)",
          "f(n)": 47.39916529167484,
          "n": 16.800000000000015
         },
         {
          "Complexity": "O(n log n)",
          "f(n)": 47.781600210600615,
          "n": 16.900000000000013
         },
         {
          "Complexity": "O(n log n)",
          "f(n)": 48.16462684895573,
          "n": 17.000000000000014
         },
         {
          "Complexity": "O(n log n)",
          "f(n)": 48.548241725997364,
          "n": 17.100000000000016
         },
         {
          "Complexity": "O(n log n)",
          "f(n)": 48.93244140169386,
          "n": 17.200000000000014
         },
         {
          "Complexity": "O(n log n)",
          "f(n)": 49.31722247601464,
          "n": 17.300000000000015
         },
         {
          "Complexity": "O(n log n)",
          "f(n)": 49.70258158823646,
          "n": 17.400000000000013
         },
         {
          "Complexity": "O(n log n)",
          "f(n)": 50.08851541626575,
          "n": 17.500000000000014
         },
         {
          "Complexity": "O(n log n)",
          "f(n)": 50.475020675976324,
          "n": 17.600000000000016
         },
         {
          "Complexity": "O(n log n)",
          "f(n)": 50.86209412056222,
          "n": 17.700000000000014
         },
         {
          "Complexity": "O(n log n)",
          "f(n)": 51.24973253990516,
          "n": 17.800000000000015
         },
         {
          "Complexity": "O(n log n)",
          "f(n)": 51.637932759956165,
          "n": 17.900000000000016
         },
         {
          "Complexity": "O(n log n)",
          "f(n)": 52.02669164213102,
          "n": 18.000000000000014
         },
         {
          "Complexity": "O(n log n)",
          "f(n)": 52.416006082719285,
          "n": 18.100000000000016
         },
         {
          "Complexity": "O(n log n)",
          "f(n)": 52.80587301230611,
          "n": 18.200000000000017
         },
         {
          "Complexity": "O(n log n)",
          "f(n)": 53.196289395207025,
          "n": 18.300000000000015
         },
         {
          "Complexity": "O(n log n)",
          "f(n)": 53.587252228914956,
          "n": 18.400000000000016
         },
         {
          "Complexity": "O(n log n)",
          "f(n)": 53.978758543559216,
          "n": 18.500000000000014
         },
         {
          "Complexity": "O(n log n)",
          "f(n)": 54.37080540137635,
          "n": 18.600000000000016
         },
         {
          "Complexity": "O(n log n)",
          "f(n)": 54.76338989619218,
          "n": 18.700000000000017
         },
         {
          "Complexity": "O(n log n)",
          "f(n)": 55.15650915291504,
          "n": 18.800000000000015
         },
         {
          "Complexity": "O(n log n)",
          "f(n)": 55.55016032703984,
          "n": 18.900000000000016
         },
         {
          "Complexity": "O(n log n)",
          "f(n)": 55.94434060416243,
          "n": 19.000000000000014
         },
         {
          "Complexity": "O(n log n)",
          "f(n)": 56.339047199504414,
          "n": 19.100000000000016
         },
         {
          "Complexity": "O(n log n)",
          "f(n)": 56.7342773574478,
          "n": 19.200000000000017
         },
         {
          "Complexity": "O(n log n)",
          "f(n)": 57.13002835107927,
          "n": 19.300000000000015
         },
         {
          "Complexity": "O(n log n)",
          "f(n)": 57.526297481744145,
          "n": 19.400000000000016
         },
         {
          "Complexity": "O(n log n)",
          "f(n)": 57.92308207860925,
          "n": 19.500000000000018
         },
         {
          "Complexity": "O(n log n)",
          "f(n)": 58.3203794982349,
          "n": 19.600000000000016
         },
         {
          "Complexity": "O(n log n)",
          "f(n)": 58.71818712415574,
          "n": 19.700000000000017
         },
         {
          "Complexity": "O(n log n)",
          "f(n)": 59.11650236646977,
          "n": 19.80000000000002
         },
         {
          "Complexity": "O(n log n)",
          "f(n)": 59.51532266143596,
          "n": 19.900000000000016
         },
         {
          "Complexity": "O(n log n)",
          "f(n)": 59.914645471079886,
          "n": 20.000000000000018
         },
         {
          "Complexity": "O(n log n)",
          "f(n)": 60.31446828280716,
          "n": 20.100000000000016
         },
         {
          "Complexity": "O(n log n)",
          "f(n)": 60.71478860902469,
          "n": 20.200000000000017
         },
         {
          "Complexity": "O(n log n)",
          "f(n)": 61.11560398676923,
          "n": 20.30000000000002
         },
         {
          "Complexity": "O(n log n)",
          "f(n)": 61.51691197734355,
          "n": 20.400000000000016
         },
         {
          "Complexity": "O(n log n)",
          "f(n)": 61.9187101659595,
          "n": 20.500000000000018
         },
         {
          "Complexity": "O(n log n)",
          "f(n)": 62.320996161388095,
          "n": 20.600000000000016
         },
         {
          "Complexity": "O(n log n)",
          "f(n)": 62.723767595616465,
          "n": 20.700000000000017
         },
         {
          "Complexity": "O(n log n)",
          "f(n)": 63.12702212351134,
          "n": 20.80000000000002
         },
         {
          "Complexity": "O(n log n)",
          "f(n)": 63.53075742248906,
          "n": 20.900000000000016
         },
         {
          "Complexity": "O(n log n)",
          "f(n)": 63.93497119219196,
          "n": 21.000000000000018
         },
         {
          "Complexity": "O(n log n)",
          "f(n)": 64.33966115417071,
          "n": 21.10000000000002
         },
         {
          "Complexity": "O(n log n)",
          "f(n)": 64.74482505157297,
          "n": 21.200000000000017
         },
         {
          "Complexity": "O(n log n)",
          "f(n)": 65.15046064883767,
          "n": 21.30000000000002
         },
         {
          "Complexity": "O(n log n)",
          "f(n)": 65.55656573139512,
          "n": 21.40000000000002
         },
         {
          "Complexity": "O(n log n)",
          "f(n)": 65.96313810537283,
          "n": 21.500000000000018
         },
         {
          "Complexity": "O(n log n)",
          "f(n)": 66.37017559730666,
          "n": 21.60000000000002
         },
         {
          "Complexity": "O(n log n)",
          "f(n)": 66.77767605385725,
          "n": 21.700000000000017
         },
         {
          "Complexity": "O(n log n)",
          "f(n)": 67.18563734153203,
          "n": 21.80000000000002
         },
         {
          "Complexity": "O(n log n)",
          "f(n)": 67.59405734641184,
          "n": 21.90000000000002
         },
         {
          "Complexity": "O(n log n)",
          "f(n)": 68.00293397388302,
          "n": 22.000000000000018
         },
         {
          "Complexity": "O(n log n)",
          "f(n)": 68.412265148374,
          "n": 22.10000000000002
         },
         {
          "Complexity": "O(n log n)",
          "f(n)": 68.82204881309687,
          "n": 22.200000000000017
         },
         {
          "Complexity": "O(n log n)",
          "f(n)": 69.2322829297935,
          "n": 22.30000000000002
         },
         {
          "Complexity": "O(n log n)",
          "f(n)": 69.64296547848635,
          "n": 22.40000000000002
         },
         {
          "Complexity": "O(n log n)",
          "f(n)": 70.05409445723349,
          "n": 22.500000000000018
         },
         {
          "Complexity": "O(n log n)",
          "f(n)": 70.46566788188831,
          "n": 22.60000000000002
         },
         {
          "Complexity": "O(n log n)",
          "f(n)": 70.87768378586308,
          "n": 22.70000000000002
         },
         {
          "Complexity": "O(n log n)",
          "f(n)": 71.29014021989708,
          "n": 22.80000000000002
         },
         {
          "Complexity": "O(n log n)",
          "f(n)": 71.70303525182852,
          "n": 22.90000000000002
         },
         {
          "Complexity": "O(n log n)",
          "f(n)": 72.11636696637053,
          "n": 23.00000000000002
         },
         {
          "Complexity": "O(n log n)",
          "f(n)": 72.53013346489105,
          "n": 23.10000000000002
         },
         {
          "Complexity": "O(n log n)",
          "f(n)": 72.94433286519661,
          "n": 23.20000000000002
         },
         {
          "Complexity": "O(n log n)",
          "f(n)": 73.35896330131963,
          "n": 23.30000000000002
         },
         {
          "Complexity": "O(n log n)",
          "f(n)": 73.77402292330963,
          "n": 23.40000000000002
         },
         {
          "Complexity": "O(n log n)",
          "f(n)": 74.18950989702776,
          "n": 23.50000000000002
         },
         {
          "Complexity": "O(n log n)",
          "f(n)": 74.605422403945,
          "n": 23.60000000000002
         },
         {
          "Complexity": "O(n log n)",
          "f(n)": 75.02175864094382,
          "n": 23.70000000000002
         },
         {
          "Complexity": "O(n log n)",
          "f(n)": 75.4385168201229,
          "n": 23.80000000000002
         },
         {
          "Complexity": "O(n log n)",
          "f(n)": 75.85569516860551,
          "n": 23.90000000000002
         },
         {
          "Complexity": "O(n log n)",
          "f(n)": 76.27329192835079,
          "n": 24.00000000000002
         },
         {
          "Complexity": "O(n log n)",
          "f(n)": 76.69130535596837,
          "n": 24.10000000000002
         },
         {
          "Complexity": "O(n log n)",
          "f(n)": 77.10973372253599,
          "n": 24.20000000000002
         },
         {
          "Complexity": "O(n log n)",
          "f(n)": 77.5285753134201,
          "n": 24.300000000000022
         },
         {
          "Complexity": "O(n log n)",
          "f(n)": 77.9478284280995,
          "n": 24.40000000000002
         },
         {
          "Complexity": "O(n log n)",
          "f(n)": 78.36749137999178,
          "n": 24.50000000000002
         },
         {
          "Complexity": "O(n log n)",
          "f(n)": 78.78756249628269,
          "n": 24.600000000000023
         },
         {
          "Complexity": "O(n log n)",
          "f(n)": 79.2080401177582,
          "n": 24.70000000000002
         },
         {
          "Complexity": "O(n log n)",
          "f(n)": 79.62892259863932,
          "n": 24.800000000000022
         },
         {
          "Complexity": "O(n log n)",
          "f(n)": 80.05020830641956,
          "n": 24.90000000000002
         },
         {
          "Complexity": "O(n log n)",
          "f(n)": 80.4718956217051,
          "n": 25.00000000000002
         },
         {
          "Complexity": "O(n log n)",
          "f(n)": 80.89398293805732,
          "n": 25.100000000000023
         },
         {
          "Complexity": "O(n log n)",
          "f(n)": 81.316468661838,
          "n": 25.20000000000002
         },
         {
          "Complexity": "O(n log n)",
          "f(n)": 81.739351212057,
          "n": 25.300000000000022
         },
         {
          "Complexity": "O(n log n)",
          "f(n)": 82.16262902022216,
          "n": 25.40000000000002
         },
         {
          "Complexity": "O(n log n)",
          "f(n)": 82.58630053019179,
          "n": 25.50000000000002
         },
         {
          "Complexity": "O(n log n)",
          "f(n)": 83.01036419802932,
          "n": 25.600000000000023
         },
         {
          "Complexity": "O(n log n)",
          "f(n)": 83.43481849186027,
          "n": 25.70000000000002
         },
         {
          "Complexity": "O(n log n)",
          "f(n)": 83.85966189173145,
          "n": 25.800000000000022
         },
         {
          "Complexity": "O(n log n)",
          "f(n)": 84.28489288947235,
          "n": 25.900000000000023
         },
         {
          "Complexity": "O(n log n)",
          "f(n)": 84.71050998855863,
          "n": 26.00000000000002
         },
         {
          "Complexity": "O(n log n)",
          "f(n)": 85.1365117039778,
          "n": 26.100000000000023
         },
         {
          "Complexity": "O(n log n)",
          "f(n)": 85.56289656209684,
          "n": 26.200000000000024
         },
         {
          "Complexity": "O(n log n)",
          "f(n)": 85.9896631005319,
          "n": 26.300000000000022
         },
         {
          "Complexity": "O(n log n)",
          "f(n)": 86.41680986802004,
          "n": 26.400000000000023
         },
         {
          "Complexity": "O(n log n)",
          "f(n)": 86.84433542429277,
          "n": 26.50000000000002
         },
         {
          "Complexity": "O(n log n)",
          "f(n)": 87.27223833995167,
          "n": 26.600000000000023
         },
         {
          "Complexity": "O(n log n)",
          "f(n)": 87.70051719634574,
          "n": 26.700000000000024
         },
         {
          "Complexity": "O(n log n)",
          "f(n)": 88.12917058545064,
          "n": 26.800000000000022
         },
         {
          "Complexity": "O(n log n)",
          "f(n)": 88.55819710974976,
          "n": 26.900000000000023
         },
         {
          "Complexity": "O(n log n)",
          "f(n)": 88.98759538211698,
          "n": 27.00000000000002
         },
         {
          "Complexity": "O(n log n)",
          "f(n)": 89.41736402570136,
          "n": 27.100000000000023
         },
         {
          "Complexity": "O(n log n)",
          "f(n)": 89.8475016738132,
          "n": 27.200000000000024
         },
         {
          "Complexity": "O(n log n)",
          "f(n)": 90.27800696981204,
          "n": 27.300000000000022
         },
         {
          "Complexity": "O(n log n)",
          "f(n)": 90.70887856699638,
          "n": 27.400000000000023
         },
         {
          "Complexity": "O(n log n)",
          "f(n)": 91.14011512849457,
          "n": 27.500000000000025
         },
         {
          "Complexity": "O(n log n)",
          "f(n)": 91.57171532715778,
          "n": 27.600000000000023
         },
         {
          "Complexity": "O(n log n)",
          "f(n)": 92.0036778454543,
          "n": 27.700000000000024
         },
         {
          "Complexity": "O(n log n)",
          "f(n)": 92.43600137536535,
          "n": 27.800000000000026
         },
         {
          "Complexity": "O(n log n)",
          "f(n)": 92.86868461828233,
          "n": 27.900000000000023
         },
         {
          "Complexity": "O(n log n)",
          "f(n)": 93.30172628490581,
          "n": 28.000000000000025
         },
         {
          "Complexity": "O(n log n)",
          "f(n)": 93.73512509514568,
          "n": 28.100000000000023
         },
         {
          "Complexity": "O(n log n)",
          "f(n)": 94.16887977802283,
          "n": 28.200000000000024
         },
         {
          "Complexity": "O(n log n)",
          "f(n)": 94.60298907157224,
          "n": 28.300000000000026
         },
         {
          "Complexity": "O(n log n)",
          "f(n)": 95.03745172274746,
          "n": 28.400000000000023
         },
         {
          "Complexity": "O(n log n)",
          "f(n)": 95.47226648732635,
          "n": 28.500000000000025
         },
         {
          "Complexity": "O(n log n)",
          "f(n)": 95.90743212981818,
          "n": 28.600000000000023
         },
         {
          "Complexity": "O(n log n)",
          "f(n)": 96.34294742337212,
          "n": 28.700000000000024
         },
         {
          "Complexity": "O(n log n)",
          "f(n)": 96.77881114968683,
          "n": 28.800000000000026
         },
         {
          "Complexity": "O(n log n)",
          "f(n)": 97.21502209892147,
          "n": 28.900000000000023
         },
         {
          "Complexity": "O(n log n)",
          "f(n)": 97.65157906960786,
          "n": 29.000000000000025
         },
         {
          "Complexity": "O(n log n)",
          "f(n)": 98.08848086856382,
          "n": 29.100000000000026
         },
         {
          "Complexity": "O(n log n)",
          "f(n)": 98.5257263108078,
          "n": 29.200000000000024
         },
         {
          "Complexity": "O(n log n)",
          "f(n)": 98.96331421947465,
          "n": 29.300000000000026
         },
         {
          "Complexity": "O(n log n)",
          "f(n)": 99.40124342573242,
          "n": 29.400000000000027
         },
         {
          "Complexity": "O(n log n)",
          "f(n)": 99.83951276870046,
          "n": 29.500000000000025
         },
         {
          "Complexity": "O(n log n)",
          "f(n)": 100.27812109536855,
          "n": 29.600000000000026
         },
         {
          "Complexity": "O(n log n)",
          "f(n)": 100.71706726051713,
          "n": 29.700000000000024
         },
         {
          "Complexity": "O(n log n)",
          "f(n)": 101.1563501266386,
          "n": 29.800000000000026
         },
         {
          "Complexity": "O(n log n)",
          "f(n)": 101.59596856385969,
          "n": 29.900000000000027
         },
         {
          "Complexity": "O(n²)",
          "f(n)": 1,
          "n": 1
         },
         {
          "Complexity": "O(n²)",
          "f(n)": 1.2100000000000002,
          "n": 1.1
         },
         {
          "Complexity": "O(n²)",
          "f(n)": 1.4400000000000004,
          "n": 1.2000000000000002
         },
         {
          "Complexity": "O(n²)",
          "f(n)": 1.6900000000000006,
          "n": 1.3000000000000003
         },
         {
          "Complexity": "O(n²)",
          "f(n)": 1.960000000000001,
          "n": 1.4000000000000004
         },
         {
          "Complexity": "O(n²)",
          "f(n)": 2.2500000000000013,
          "n": 1.5000000000000004
         },
         {
          "Complexity": "O(n²)",
          "f(n)": 2.560000000000002,
          "n": 1.6000000000000005
         },
         {
          "Complexity": "O(n²)",
          "f(n)": 2.890000000000002,
          "n": 1.7000000000000006
         },
         {
          "Complexity": "O(n²)",
          "f(n)": 3.2400000000000024,
          "n": 1.8000000000000007
         },
         {
          "Complexity": "O(n²)",
          "f(n)": 3.610000000000003,
          "n": 1.9000000000000008
         },
         {
          "Complexity": "O(n²)",
          "f(n)": 4.0000000000000036,
          "n": 2.000000000000001
         },
         {
          "Complexity": "O(n²)",
          "f(n)": 4.410000000000004,
          "n": 2.100000000000001
         },
         {
          "Complexity": "O(n²)",
          "f(n)": 4.840000000000004,
          "n": 2.200000000000001
         },
         {
          "Complexity": "O(n²)",
          "f(n)": 5.290000000000005,
          "n": 2.300000000000001
         },
         {
          "Complexity": "O(n²)",
          "f(n)": 5.760000000000006,
          "n": 2.4000000000000012
         },
         {
          "Complexity": "O(n²)",
          "f(n)": 6.250000000000007,
          "n": 2.5000000000000013
         },
         {
          "Complexity": "O(n²)",
          "f(n)": 6.760000000000008,
          "n": 2.6000000000000014
         },
         {
          "Complexity": "O(n²)",
          "f(n)": 7.290000000000008,
          "n": 2.7000000000000015
         },
         {
          "Complexity": "O(n²)",
          "f(n)": 7.840000000000009,
          "n": 2.8000000000000016
         },
         {
          "Complexity": "O(n²)",
          "f(n)": 8.410000000000009,
          "n": 2.9000000000000017
         },
         {
          "Complexity": "O(n²)",
          "f(n)": 9.00000000000001,
          "n": 3.0000000000000018
         },
         {
          "Complexity": "O(n²)",
          "f(n)": 9.610000000000012,
          "n": 3.100000000000002
         },
         {
          "Complexity": "O(n²)",
          "f(n)": 10.240000000000013,
          "n": 3.200000000000002
         },
         {
          "Complexity": "O(n²)",
          "f(n)": 10.890000000000013,
          "n": 3.300000000000002
         },
         {
          "Complexity": "O(n²)",
          "f(n)": 11.560000000000015,
          "n": 3.400000000000002
         },
         {
          "Complexity": "O(n²)",
          "f(n)": 12.250000000000016,
          "n": 3.500000000000002
         },
         {
          "Complexity": "O(n²)",
          "f(n)": 12.960000000000017,
          "n": 3.6000000000000023
         },
         {
          "Complexity": "O(n²)",
          "f(n)": 13.690000000000017,
          "n": 3.7000000000000024
         },
         {
          "Complexity": "O(n²)",
          "f(n)": 14.440000000000019,
          "n": 3.8000000000000025
         },
         {
          "Complexity": "O(n²)",
          "f(n)": 15.21000000000002,
          "n": 3.9000000000000026
         },
         {
          "Complexity": "O(n²)",
          "f(n)": 16.00000000000002,
          "n": 4.000000000000003
         },
         {
          "Complexity": "O(n²)",
          "f(n)": 16.810000000000027,
          "n": 4.100000000000003
         },
         {
          "Complexity": "O(n²)",
          "f(n)": 17.640000000000025,
          "n": 4.200000000000003
         },
         {
          "Complexity": "O(n²)",
          "f(n)": 18.49000000000002,
          "n": 4.3000000000000025
         },
         {
          "Complexity": "O(n²)",
          "f(n)": 19.360000000000028,
          "n": 4.400000000000003
         },
         {
          "Complexity": "O(n²)",
          "f(n)": 20.250000000000032,
          "n": 4.5000000000000036
         },
         {
          "Complexity": "O(n²)",
          "f(n)": 21.16000000000003,
          "n": 4.600000000000003
         },
         {
          "Complexity": "O(n²)",
          "f(n)": 22.09000000000003,
          "n": 4.700000000000003
         },
         {
          "Complexity": "O(n²)",
          "f(n)": 23.04000000000003,
          "n": 4.800000000000003
         },
         {
          "Complexity": "O(n²)",
          "f(n)": 24.010000000000037,
          "n": 4.900000000000004
         },
         {
          "Complexity": "O(n²)",
          "f(n)": 25.000000000000036,
          "n": 5.0000000000000036
         },
         {
          "Complexity": "O(n²)",
          "f(n)": 26.010000000000034,
          "n": 5.100000000000003
         },
         {
          "Complexity": "O(n²)",
          "f(n)": 27.04000000000004,
          "n": 5.200000000000004
         },
         {
          "Complexity": "O(n²)",
          "f(n)": 28.090000000000046,
          "n": 5.300000000000004
         },
         {
          "Complexity": "O(n²)",
          "f(n)": 29.160000000000043,
          "n": 5.400000000000004
         },
         {
          "Complexity": "O(n²)",
          "f(n)": 30.25000000000004,
          "n": 5.5000000000000036
         },
         {
          "Complexity": "O(n²)",
          "f(n)": 31.360000000000046,
          "n": 5.600000000000004
         },
         {
          "Complexity": "O(n²)",
          "f(n)": 32.49000000000005,
          "n": 5.700000000000005
         },
         {
          "Complexity": "O(n²)",
          "f(n)": 33.64000000000005,
          "n": 5.800000000000004
         },
         {
          "Complexity": "O(n²)",
          "f(n)": 34.810000000000045,
          "n": 5.900000000000004
         },
         {
          "Complexity": "O(n²)",
          "f(n)": 36.00000000000006,
          "n": 6.000000000000004
         },
         {
          "Complexity": "O(n²)",
          "f(n)": 37.21000000000006,
          "n": 6.100000000000005
         },
         {
          "Complexity": "O(n²)",
          "f(n)": 38.440000000000055,
          "n": 6.200000000000005
         },
         {
          "Complexity": "O(n²)",
          "f(n)": 39.690000000000055,
          "n": 6.300000000000004
         },
         {
          "Complexity": "O(n²)",
          "f(n)": 40.960000000000065,
          "n": 6.400000000000005
         },
         {
          "Complexity": "O(n²)",
          "f(n)": 42.25000000000007,
          "n": 6.500000000000005
         },
         {
          "Complexity": "O(n²)",
          "f(n)": 43.560000000000066,
          "n": 6.600000000000005
         },
         {
          "Complexity": "O(n²)",
          "f(n)": 44.890000000000065,
          "n": 6.700000000000005
         },
         {
          "Complexity": "O(n²)",
          "f(n)": 46.24000000000007,
          "n": 6.800000000000005
         },
         {
          "Complexity": "O(n²)",
          "f(n)": 47.61000000000008,
          "n": 6.900000000000006
         },
         {
          "Complexity": "O(n²)",
          "f(n)": 49.00000000000008,
          "n": 7.000000000000005
         },
         {
          "Complexity": "O(n²)",
          "f(n)": 50.41000000000007,
          "n": 7.100000000000005
         },
         {
          "Complexity": "O(n²)",
          "f(n)": 51.84000000000008,
          "n": 7.2000000000000055
         },
         {
          "Complexity": "O(n²)",
          "f(n)": 53.29000000000009,
          "n": 7.300000000000006
         },
         {
          "Complexity": "O(n²)",
          "f(n)": 54.76000000000008,
          "n": 7.400000000000006
         },
         {
          "Complexity": "O(n²)",
          "f(n)": 56.25000000000008,
          "n": 7.500000000000005
         },
         {
          "Complexity": "O(n²)",
          "f(n)": 57.76000000000009,
          "n": 7.600000000000006
         },
         {
          "Complexity": "O(n²)",
          "f(n)": 59.2900000000001,
          "n": 7.700000000000006
         },
         {
          "Complexity": "O(n²)",
          "f(n)": 60.840000000000096,
          "n": 7.800000000000006
         },
         {
          "Complexity": "O(n²)",
          "f(n)": 62.41000000000009,
          "n": 7.900000000000006
         },
         {
          "Complexity": "O(n²)",
          "f(n)": 64.00000000000011,
          "n": 8.000000000000007
         },
         {
          "Complexity": "O(n²)",
          "f(n)": 65.61000000000011,
          "n": 8.100000000000007
         },
         {
          "Complexity": "O(n²)",
          "f(n)": 67.24000000000011,
          "n": 8.200000000000006
         },
         {
          "Complexity": "O(n²)",
          "f(n)": 68.8900000000001,
          "n": 8.300000000000006
         },
         {
          "Complexity": "O(n²)",
          "f(n)": 70.5600000000001,
          "n": 8.400000000000006
         },
         {
          "Complexity": "O(n²)",
          "f(n)": 72.25000000000013,
          "n": 8.500000000000007
         },
         {
          "Complexity": "O(n²)",
          "f(n)": 73.96000000000012,
          "n": 8.600000000000007
         },
         {
          "Complexity": "O(n²)",
          "f(n)": 75.69000000000011,
          "n": 8.700000000000006
         },
         {
          "Complexity": "O(n²)",
          "f(n)": 77.44000000000014,
          "n": 8.800000000000008
         },
         {
          "Complexity": "O(n²)",
          "f(n)": 79.21000000000014,
          "n": 8.900000000000007
         },
         {
          "Complexity": "O(n²)",
          "f(n)": 81.00000000000013,
          "n": 9.000000000000007
         },
         {
          "Complexity": "O(n²)",
          "f(n)": 82.81000000000012,
          "n": 9.100000000000007
         },
         {
          "Complexity": "O(n²)",
          "f(n)": 84.64000000000011,
          "n": 9.200000000000006
         },
         {
          "Complexity": "O(n²)",
          "f(n)": 86.49000000000015,
          "n": 9.300000000000008
         },
         {
          "Complexity": "O(n²)",
          "f(n)": 88.36000000000014,
          "n": 9.400000000000007
         },
         {
          "Complexity": "O(n²)",
          "f(n)": 90.25000000000014,
          "n": 9.500000000000007
         },
         {
          "Complexity": "O(n²)",
          "f(n)": 92.16000000000017,
          "n": 9.600000000000009
         },
         {
          "Complexity": "O(n²)",
          "f(n)": 94.09000000000016,
          "n": 9.700000000000008
         },
         {
          "Complexity": "O(n²)",
          "f(n)": 96.04000000000015,
          "n": 9.800000000000008
         },
         {
          "Complexity": "O(n²)",
          "f(n)": 98.01000000000015,
          "n": 9.900000000000007
         },
         {
          "Complexity": "O(n²)",
          "f(n)": 100.00000000000014,
          "n": 10.000000000000007
         },
         {
          "Complexity": "O(n²)",
          "f(n)": 102.01000000000018,
          "n": 10.100000000000009
         },
         {
          "Complexity": "O(n²)",
          "f(n)": 104.04000000000016,
          "n": 10.200000000000008
         },
         {
          "Complexity": "O(n²)",
          "f(n)": 106.09000000000016,
          "n": 10.300000000000008
         },
         {
          "Complexity": "O(n²)",
          "f(n)": 108.1600000000002,
          "n": 10.40000000000001
         },
         {
          "Complexity": "O(n²)",
          "f(n)": 110.25000000000018,
          "n": 10.500000000000009
         },
         {
          "Complexity": "O(n²)",
          "f(n)": 112.36000000000018,
          "n": 10.600000000000009
         },
         {
          "Complexity": "O(n²)",
          "f(n)": 114.49000000000018,
          "n": 10.700000000000008
         },
         {
          "Complexity": "O(n²)",
          "f(n)": 116.64000000000017,
          "n": 10.800000000000008
         },
         {
          "Complexity": "O(n²)",
          "f(n)": 118.8100000000002,
          "n": 10.90000000000001
         },
         {
          "Complexity": "O(n²)",
          "f(n)": 121.0000000000002,
          "n": 11.000000000000009
         },
         {
          "Complexity": "O(n²)",
          "f(n)": 123.21000000000019,
          "n": 11.100000000000009
         },
         {
          "Complexity": "O(n²)",
          "f(n)": 125.44000000000023,
          "n": 11.20000000000001
         },
         {
          "Complexity": "O(n²)",
          "f(n)": 127.69000000000021,
          "n": 11.30000000000001
         },
         {
          "Complexity": "O(n²)",
          "f(n)": 129.9600000000002,
          "n": 11.40000000000001
         },
         {
          "Complexity": "O(n²)",
          "f(n)": 132.2500000000002,
          "n": 11.500000000000009
         },
         {
          "Complexity": "O(n²)",
          "f(n)": 134.5600000000002,
          "n": 11.600000000000009
         },
         {
          "Complexity": "O(n²)",
          "f(n)": 136.89000000000024,
          "n": 11.70000000000001
         },
         {
          "Complexity": "O(n²)",
          "f(n)": 139.24000000000024,
          "n": 11.80000000000001
         },
         {
          "Complexity": "O(n²)",
          "f(n)": 141.6100000000002,
          "n": 11.90000000000001
         },
         {
          "Complexity": "O(n²)",
          "f(n)": 144.00000000000026,
          "n": 12.00000000000001
         },
         {
          "Complexity": "O(n²)",
          "f(n)": 146.41000000000025,
          "n": 12.10000000000001
         },
         {
          "Complexity": "O(n²)",
          "f(n)": 148.84000000000023,
          "n": 12.20000000000001
         },
         {
          "Complexity": "O(n²)",
          "f(n)": 151.29000000000025,
          "n": 12.30000000000001
         },
         {
          "Complexity": "O(n²)",
          "f(n)": 153.76000000000022,
          "n": 12.40000000000001
         },
         {
          "Complexity": "O(n²)",
          "f(n)": 156.25000000000026,
          "n": 12.50000000000001
         },
         {
          "Complexity": "O(n²)",
          "f(n)": 158.76000000000025,
          "n": 12.60000000000001
         },
         {
          "Complexity": "O(n²)",
          "f(n)": 161.29000000000025,
          "n": 12.70000000000001
         },
         {
          "Complexity": "O(n²)",
          "f(n)": 163.8400000000003,
          "n": 12.800000000000011
         },
         {
          "Complexity": "O(n²)",
          "f(n)": 166.41000000000028,
          "n": 12.900000000000011
         },
         {
          "Complexity": "O(n²)",
          "f(n)": 169.00000000000028,
          "n": 13.00000000000001
         },
         {
          "Complexity": "O(n²)",
          "f(n)": 171.61000000000027,
          "n": 13.10000000000001
         },
         {
          "Complexity": "O(n²)",
          "f(n)": 174.24000000000026,
          "n": 13.20000000000001
         },
         {
          "Complexity": "O(n²)",
          "f(n)": 176.8900000000003,
          "n": 13.300000000000011
         },
         {
          "Complexity": "O(n²)",
          "f(n)": 179.5600000000003,
          "n": 13.400000000000011
         },
         {
          "Complexity": "O(n²)",
          "f(n)": 182.25000000000028,
          "n": 13.50000000000001
         },
         {
          "Complexity": "O(n²)",
          "f(n)": 184.96000000000032,
          "n": 13.600000000000012
         },
         {
          "Complexity": "O(n²)",
          "f(n)": 187.6900000000003,
          "n": 13.700000000000012
         },
         {
          "Complexity": "O(n²)",
          "f(n)": 190.4400000000003,
          "n": 13.800000000000011
         },
         {
          "Complexity": "O(n²)",
          "f(n)": 193.2100000000003,
          "n": 13.900000000000011
         },
         {
          "Complexity": "O(n²)",
          "f(n)": 196.0000000000003,
          "n": 14.00000000000001
         },
         {
          "Complexity": "O(n²)",
          "f(n)": 198.81000000000034,
          "n": 14.100000000000012
         },
         {
          "Complexity": "O(n²)",
          "f(n)": 201.64000000000033,
          "n": 14.200000000000012
         },
         {
          "Complexity": "O(n²)",
          "f(n)": 204.49000000000032,
          "n": 14.300000000000011
         },
         {
          "Complexity": "O(n²)",
          "f(n)": 207.36000000000035,
          "n": 14.400000000000013
         },
         {
          "Complexity": "O(n²)",
          "f(n)": 210.25000000000037,
          "n": 14.500000000000012
         },
         {
          "Complexity": "O(n²)",
          "f(n)": 213.16000000000037,
          "n": 14.600000000000012
         },
         {
          "Complexity": "O(n²)",
          "f(n)": 216.09000000000034,
          "n": 14.700000000000012
         },
         {
          "Complexity": "O(n²)",
          "f(n)": 219.04000000000033,
          "n": 14.800000000000011
         },
         {
          "Complexity": "O(n²)",
          "f(n)": 222.0100000000004,
          "n": 14.900000000000013
         },
         {
          "Complexity": "O(n²)",
          "f(n)": 225.00000000000037,
          "n": 15.000000000000012
         },
         {
          "Complexity": "O(n²)",
          "f(n)": 228.01000000000036,
          "n": 15.100000000000012
         },
         {
          "Complexity": "O(n²)",
          "f(n)": 231.04000000000042,
          "n": 15.200000000000014
         },
         {
          "Complexity": "O(n²)",
          "f(n)": 234.0900000000004,
          "n": 15.300000000000013
         },
         {
          "Complexity": "O(n²)",
          "f(n)": 237.1600000000004,
          "n": 15.400000000000013
         },
         {
          "Complexity": "O(n²)",
          "f(n)": 240.2500000000004,
          "n": 15.500000000000012
         },
         {
          "Complexity": "O(n²)",
          "f(n)": 243.36000000000038,
          "n": 15.600000000000012
         },
         {
          "Complexity": "O(n²)",
          "f(n)": 246.49000000000044,
          "n": 15.700000000000014
         },
         {
          "Complexity": "O(n²)",
          "f(n)": 249.6400000000004,
          "n": 15.800000000000013
         },
         {
          "Complexity": "O(n²)",
          "f(n)": 252.8100000000004,
          "n": 15.900000000000013
         },
         {
          "Complexity": "O(n²)",
          "f(n)": 256.00000000000045,
          "n": 16.000000000000014
         },
         {
          "Complexity": "O(n²)",
          "f(n)": 259.2100000000005,
          "n": 16.100000000000016
         },
         {
          "Complexity": "O(n²)",
          "f(n)": 262.44000000000045,
          "n": 16.200000000000014
         },
         {
          "Complexity": "O(n²)",
          "f(n)": 265.6900000000004,
          "n": 16.30000000000001
         },
         {
          "Complexity": "O(n²)",
          "f(n)": 268.96000000000043,
          "n": 16.400000000000013
         },
         {
          "Complexity": "O(n²)",
          "f(n)": 272.25000000000045,
          "n": 16.500000000000014
         },
         {
          "Complexity": "O(n²)",
          "f(n)": 275.5600000000005,
          "n": 16.600000000000016
         },
         {
          "Complexity": "O(n²)",
          "f(n)": 278.89000000000044,
          "n": 16.700000000000014
         },
         {
          "Complexity": "O(n²)",
          "f(n)": 282.2400000000005,
          "n": 16.800000000000015
         },
         {
          "Complexity": "O(n²)",
          "f(n)": 285.6100000000004,
          "n": 16.900000000000013
         },
         {
          "Complexity": "O(n²)",
          "f(n)": 289.0000000000005,
          "n": 17.000000000000014
         },
         {
          "Complexity": "O(n²)",
          "f(n)": 292.41000000000054,
          "n": 17.100000000000016
         },
         {
          "Complexity": "O(n²)",
          "f(n)": 295.8400000000005,
          "n": 17.200000000000014
         },
         {
          "Complexity": "O(n²)",
          "f(n)": 299.29000000000053,
          "n": 17.300000000000015
         },
         {
          "Complexity": "O(n²)",
          "f(n)": 302.76000000000045,
          "n": 17.400000000000013
         },
         {
          "Complexity": "O(n²)",
          "f(n)": 306.2500000000005,
          "n": 17.500000000000014
         },
         {
          "Complexity": "O(n²)",
          "f(n)": 309.76000000000056,
          "n": 17.600000000000016
         },
         {
          "Complexity": "O(n²)",
          "f(n)": 313.2900000000005,
          "n": 17.700000000000014
         },
         {
          "Complexity": "O(n²)",
          "f(n)": 316.84000000000054,
          "n": 17.800000000000015
         },
         {
          "Complexity": "O(n²)",
          "f(n)": 320.4100000000006,
          "n": 17.900000000000016
         },
         {
          "Complexity": "O(n²)",
          "f(n)": 324.0000000000005,
          "n": 18.000000000000014
         },
         {
          "Complexity": "O(n²)",
          "f(n)": 327.6100000000006,
          "n": 18.100000000000016
         },
         {
          "Complexity": "O(n²)",
          "f(n)": 331.24000000000063,
          "n": 18.200000000000017
         },
         {
          "Complexity": "O(n²)",
          "f(n)": 334.89000000000055,
          "n": 18.300000000000015
         },
         {
          "Complexity": "O(n²)",
          "f(n)": 338.5600000000006,
          "n": 18.400000000000016
         },
         {
          "Complexity": "O(n²)",
          "f(n)": 342.2500000000005,
          "n": 18.500000000000014
         },
         {
          "Complexity": "O(n²)",
          "f(n)": 345.9600000000006,
          "n": 18.600000000000016
         },
         {
          "Complexity": "O(n²)",
          "f(n)": 349.6900000000006,
          "n": 18.700000000000017
         },
         {
          "Complexity": "O(n²)",
          "f(n)": 353.44000000000057,
          "n": 18.800000000000015
         },
         {
          "Complexity": "O(n²)",
          "f(n)": 357.2100000000006,
          "n": 18.900000000000016
         },
         {
          "Complexity": "O(n²)",
          "f(n)": 361.00000000000057,
          "n": 19.000000000000014
         },
         {
          "Complexity": "O(n²)",
          "f(n)": 364.81000000000057,
          "n": 19.100000000000016
         },
         {
          "Complexity": "O(n²)",
          "f(n)": 368.64000000000067,
          "n": 19.200000000000017
         },
         {
          "Complexity": "O(n²)",
          "f(n)": 372.4900000000006,
          "n": 19.300000000000015
         },
         {
          "Complexity": "O(n²)",
          "f(n)": 376.36000000000064,
          "n": 19.400000000000016
         },
         {
          "Complexity": "O(n²)",
          "f(n)": 380.2500000000007,
          "n": 19.500000000000018
         },
         {
          "Complexity": "O(n²)",
          "f(n)": 384.1600000000006,
          "n": 19.600000000000016
         },
         {
          "Complexity": "O(n²)",
          "f(n)": 388.09000000000066,
          "n": 19.700000000000017
         },
         {
          "Complexity": "O(n²)",
          "f(n)": 392.04000000000076,
          "n": 19.80000000000002
         },
         {
          "Complexity": "O(n²)",
          "f(n)": 396.0100000000007,
          "n": 19.900000000000016
         },
         {
          "Complexity": "O(n²)",
          "f(n)": 400.00000000000074,
          "n": 20.000000000000018
         },
         {
          "Complexity": "O(n²)",
          "f(n)": 404.0100000000006,
          "n": 20.100000000000016
         },
         {
          "Complexity": "O(n²)",
          "f(n)": 408.0400000000007,
          "n": 20.200000000000017
         },
         {
          "Complexity": "O(n²)",
          "f(n)": 412.09000000000077,
          "n": 20.30000000000002
         },
         {
          "Complexity": "O(n²)",
          "f(n)": 416.16000000000065,
          "n": 20.400000000000016
         },
         {
          "Complexity": "O(n²)",
          "f(n)": 420.25000000000074,
          "n": 20.500000000000018
         },
         {
          "Complexity": "O(n²)",
          "f(n)": 424.36000000000064,
          "n": 20.600000000000016
         },
         {
          "Complexity": "O(n²)",
          "f(n)": 428.4900000000007,
          "n": 20.700000000000017
         },
         {
          "Complexity": "O(n²)",
          "f(n)": 432.6400000000008,
          "n": 20.80000000000002
         },
         {
          "Complexity": "O(n²)",
          "f(n)": 436.8100000000007,
          "n": 20.900000000000016
         },
         {
          "Complexity": "O(n²)",
          "f(n)": 441.00000000000074,
          "n": 21.000000000000018
         },
         {
          "Complexity": "O(n²)",
          "f(n)": 445.21000000000083,
          "n": 21.10000000000002
         },
         {
          "Complexity": "O(n²)",
          "f(n)": 449.44000000000074,
          "n": 21.200000000000017
         },
         {
          "Complexity": "O(n²)",
          "f(n)": 453.6900000000008,
          "n": 21.30000000000002
         },
         {
          "Complexity": "O(n²)",
          "f(n)": 457.96000000000083,
          "n": 21.40000000000002
         },
         {
          "Complexity": "O(n²)",
          "f(n)": 462.25000000000074,
          "n": 21.500000000000018
         },
         {
          "Complexity": "O(n²)",
          "f(n)": 466.56000000000085,
          "n": 21.60000000000002
         },
         {
          "Complexity": "O(n²)",
          "f(n)": 470.8900000000007,
          "n": 21.700000000000017
         },
         {
          "Complexity": "O(n²)",
          "f(n)": 475.2400000000008,
          "n": 21.80000000000002
         },
         {
          "Complexity": "O(n²)",
          "f(n)": 479.61000000000087,
          "n": 21.90000000000002
         },
         {
          "Complexity": "O(n²)",
          "f(n)": 484.0000000000008,
          "n": 22.000000000000018
         },
         {
          "Complexity": "O(n²)",
          "f(n)": 488.4100000000008,
          "n": 22.10000000000002
         },
         {
          "Complexity": "O(n²)",
          "f(n)": 492.84000000000077,
          "n": 22.200000000000017
         },
         {
          "Complexity": "O(n²)",
          "f(n)": 497.2900000000008,
          "n": 22.30000000000002
         },
         {
          "Complexity": "O(n²)",
          "f(n)": 501.7600000000009,
          "n": 22.40000000000002
         },
         {
          "Complexity": "O(n²)",
          "f(n)": 506.2500000000008,
          "n": 22.500000000000018
         },
         {
          "Complexity": "O(n²)",
          "f(n)": 510.76000000000084,
          "n": 22.60000000000002
         },
         {
          "Complexity": "O(n²)",
          "f(n)": 515.290000000001,
          "n": 22.70000000000002
         },
         {
          "Complexity": "O(n²)",
          "f(n)": 519.8400000000008,
          "n": 22.80000000000002
         },
         {
          "Complexity": "O(n²)",
          "f(n)": 524.4100000000009,
          "n": 22.90000000000002
         },
         {
          "Complexity": "O(n²)",
          "f(n)": 529.000000000001,
          "n": 23.00000000000002
         },
         {
          "Complexity": "O(n²)",
          "f(n)": 533.6100000000009,
          "n": 23.10000000000002
         },
         {
          "Complexity": "O(n²)",
          "f(n)": 538.2400000000009,
          "n": 23.20000000000002
         },
         {
          "Complexity": "O(n²)",
          "f(n)": 542.8900000000009,
          "n": 23.30000000000002
         },
         {
          "Complexity": "O(n²)",
          "f(n)": 547.560000000001,
          "n": 23.40000000000002
         },
         {
          "Complexity": "O(n²)",
          "f(n)": 552.250000000001,
          "n": 23.50000000000002
         },
         {
          "Complexity": "O(n²)",
          "f(n)": 556.960000000001,
          "n": 23.60000000000002
         },
         {
          "Complexity": "O(n²)",
          "f(n)": 561.690000000001,
          "n": 23.70000000000002
         },
         {
          "Complexity": "O(n²)",
          "f(n)": 566.4400000000009,
          "n": 23.80000000000002
         },
         {
          "Complexity": "O(n²)",
          "f(n)": 571.210000000001,
          "n": 23.90000000000002
         },
         {
          "Complexity": "O(n²)",
          "f(n)": 576.000000000001,
          "n": 24.00000000000002
         },
         {
          "Complexity": "O(n²)",
          "f(n)": 580.810000000001,
          "n": 24.10000000000002
         },
         {
          "Complexity": "O(n²)",
          "f(n)": 585.640000000001,
          "n": 24.20000000000002
         },
         {
          "Complexity": "O(n²)",
          "f(n)": 590.490000000001,
          "n": 24.300000000000022
         },
         {
          "Complexity": "O(n²)",
          "f(n)": 595.3600000000009,
          "n": 24.40000000000002
         },
         {
          "Complexity": "O(n²)",
          "f(n)": 600.250000000001,
          "n": 24.50000000000002
         },
         {
          "Complexity": "O(n²)",
          "f(n)": 605.1600000000011,
          "n": 24.600000000000023
         },
         {
          "Complexity": "O(n²)",
          "f(n)": 610.090000000001,
          "n": 24.70000000000002
         },
         {
          "Complexity": "O(n²)",
          "f(n)": 615.0400000000011,
          "n": 24.800000000000022
         },
         {
          "Complexity": "O(n²)",
          "f(n)": 620.010000000001,
          "n": 24.90000000000002
         },
         {
          "Complexity": "O(n²)",
          "f(n)": 625.000000000001,
          "n": 25.00000000000002
         },
         {
          "Complexity": "O(n²)",
          "f(n)": 630.0100000000011,
          "n": 25.100000000000023
         },
         {
          "Complexity": "O(n²)",
          "f(n)": 635.040000000001,
          "n": 25.20000000000002
         },
         {
          "Complexity": "O(n²)",
          "f(n)": 640.0900000000012,
          "n": 25.300000000000022
         },
         {
          "Complexity": "O(n²)",
          "f(n)": 645.160000000001,
          "n": 25.40000000000002
         },
         {
          "Complexity": "O(n²)",
          "f(n)": 650.2500000000011,
          "n": 25.50000000000002
         },
         {
          "Complexity": "O(n²)",
          "f(n)": 655.3600000000012,
          "n": 25.600000000000023
         },
         {
          "Complexity": "O(n²)",
          "f(n)": 660.490000000001,
          "n": 25.70000000000002
         },
         {
          "Complexity": "O(n²)",
          "f(n)": 665.6400000000011,
          "n": 25.800000000000022
         },
         {
          "Complexity": "O(n²)",
          "f(n)": 670.8100000000012,
          "n": 25.900000000000023
         },
         {
          "Complexity": "O(n²)",
          "f(n)": 676.0000000000011,
          "n": 26.00000000000002
         },
         {
          "Complexity": "O(n²)",
          "f(n)": 681.2100000000012,
          "n": 26.100000000000023
         },
         {
          "Complexity": "O(n²)",
          "f(n)": 686.4400000000013,
          "n": 26.200000000000024
         },
         {
          "Complexity": "O(n²)",
          "f(n)": 691.6900000000012,
          "n": 26.300000000000022
         },
         {
          "Complexity": "O(n²)",
          "f(n)": 696.9600000000013,
          "n": 26.400000000000023
         },
         {
          "Complexity": "O(n²)",
          "f(n)": 702.2500000000011,
          "n": 26.50000000000002
         },
         {
          "Complexity": "O(n²)",
          "f(n)": 707.5600000000012,
          "n": 26.600000000000023
         },
         {
          "Complexity": "O(n²)",
          "f(n)": 712.8900000000012,
          "n": 26.700000000000024
         },
         {
          "Complexity": "O(n²)",
          "f(n)": 718.2400000000011,
          "n": 26.800000000000022
         },
         {
          "Complexity": "O(n²)",
          "f(n)": 723.6100000000013,
          "n": 26.900000000000023
         },
         {
          "Complexity": "O(n²)",
          "f(n)": 729.0000000000011,
          "n": 27.00000000000002
         },
         {
          "Complexity": "O(n²)",
          "f(n)": 734.4100000000012,
          "n": 27.100000000000023
         },
         {
          "Complexity": "O(n²)",
          "f(n)": 739.8400000000013,
          "n": 27.200000000000024
         },
         {
          "Complexity": "O(n²)",
          "f(n)": 745.2900000000012,
          "n": 27.300000000000022
         },
         {
          "Complexity": "O(n²)",
          "f(n)": 750.7600000000012,
          "n": 27.400000000000023
         },
         {
          "Complexity": "O(n²)",
          "f(n)": 756.2500000000014,
          "n": 27.500000000000025
         },
         {
          "Complexity": "O(n²)",
          "f(n)": 761.7600000000012,
          "n": 27.600000000000023
         },
         {
          "Complexity": "O(n²)",
          "f(n)": 767.2900000000013,
          "n": 27.700000000000024
         },
         {
          "Complexity": "O(n²)",
          "f(n)": 772.8400000000014,
          "n": 27.800000000000026
         },
         {
          "Complexity": "O(n²)",
          "f(n)": 778.4100000000013,
          "n": 27.900000000000023
         },
         {
          "Complexity": "O(n²)",
          "f(n)": 784.0000000000014,
          "n": 28.000000000000025
         },
         {
          "Complexity": "O(n²)",
          "f(n)": 789.6100000000013,
          "n": 28.100000000000023
         },
         {
          "Complexity": "O(n²)",
          "f(n)": 795.2400000000014,
          "n": 28.200000000000024
         },
         {
          "Complexity": "O(n²)",
          "f(n)": 800.8900000000015,
          "n": 28.300000000000026
         },
         {
          "Complexity": "O(n²)",
          "f(n)": 806.5600000000013,
          "n": 28.400000000000023
         },
         {
          "Complexity": "O(n²)",
          "f(n)": 812.2500000000014,
          "n": 28.500000000000025
         },
         {
          "Complexity": "O(n²)",
          "f(n)": 817.9600000000013,
          "n": 28.600000000000023
         },
         {
          "Complexity": "O(n²)",
          "f(n)": 823.6900000000014,
          "n": 28.700000000000024
         },
         {
          "Complexity": "O(n²)",
          "f(n)": 829.4400000000014,
          "n": 28.800000000000026
         },
         {
          "Complexity": "O(n²)",
          "f(n)": 835.2100000000014,
          "n": 28.900000000000023
         },
         {
          "Complexity": "O(n²)",
          "f(n)": 841.0000000000015,
          "n": 29.000000000000025
         },
         {
          "Complexity": "O(n²)",
          "f(n)": 846.8100000000015,
          "n": 29.100000000000026
         },
         {
          "Complexity": "O(n²)",
          "f(n)": 852.6400000000015,
          "n": 29.200000000000024
         },
         {
          "Complexity": "O(n²)",
          "f(n)": 858.4900000000015,
          "n": 29.300000000000026
         },
         {
          "Complexity": "O(n²)",
          "f(n)": 864.3600000000016,
          "n": 29.400000000000027
         },
         {
          "Complexity": "O(n²)",
          "f(n)": 870.2500000000015,
          "n": 29.500000000000025
         },
         {
          "Complexity": "O(n²)",
          "f(n)": 876.1600000000016,
          "n": 29.600000000000026
         },
         {
          "Complexity": "O(n²)",
          "f(n)": 882.0900000000014,
          "n": 29.700000000000024
         },
         {
          "Complexity": "O(n²)",
          "f(n)": 888.0400000000016,
          "n": 29.800000000000026
         },
         {
          "Complexity": "O(n²)",
          "f(n)": 894.0100000000016,
          "n": 29.900000000000027
         },
         {
          "Complexity": "O(n³)",
          "f(n)": 1,
          "n": 1
         },
         {
          "Complexity": "O(n³)",
          "f(n)": 1.3310000000000004,
          "n": 1.1
         },
         {
          "Complexity": "O(n³)",
          "f(n)": 1.7280000000000009,
          "n": 1.2000000000000002
         },
         {
          "Complexity": "O(n³)",
          "f(n)": 2.1970000000000014,
          "n": 1.3000000000000003
         },
         {
          "Complexity": "O(n³)",
          "f(n)": 2.744000000000002,
          "n": 1.4000000000000004
         },
         {
          "Complexity": "O(n³)",
          "f(n)": 3.375000000000003,
          "n": 1.5000000000000004
         },
         {
          "Complexity": "O(n³)",
          "f(n)": 4.0960000000000045,
          "n": 1.6000000000000005
         },
         {
          "Complexity": "O(n³)",
          "f(n)": 4.913000000000006,
          "n": 1.7000000000000006
         },
         {
          "Complexity": "O(n³)",
          "f(n)": 5.832000000000007,
          "n": 1.8000000000000007
         },
         {
          "Complexity": "O(n³)",
          "f(n)": 6.859000000000009,
          "n": 1.9000000000000008
         },
         {
          "Complexity": "O(n³)",
          "f(n)": 8.00000000000001,
          "n": 2.000000000000001
         },
         {
          "Complexity": "O(n³)",
          "f(n)": 9.261000000000013,
          "n": 2.100000000000001
         },
         {
          "Complexity": "O(n³)",
          "f(n)": 10.648000000000016,
          "n": 2.200000000000001
         },
         {
          "Complexity": "O(n³)",
          "f(n)": 12.167000000000018,
          "n": 2.300000000000001
         },
         {
          "Complexity": "O(n³)",
          "f(n)": 13.824000000000021,
          "n": 2.4000000000000012
         },
         {
          "Complexity": "O(n³)",
          "f(n)": 15.625000000000025,
          "n": 2.5000000000000013
         },
         {
          "Complexity": "O(n³)",
          "f(n)": 17.57600000000003,
          "n": 2.6000000000000014
         },
         {
          "Complexity": "O(n³)",
          "f(n)": 19.683000000000032,
          "n": 2.7000000000000015
         },
         {
          "Complexity": "O(n³)",
          "f(n)": 21.952000000000037,
          "n": 2.8000000000000016
         },
         {
          "Complexity": "O(n³)",
          "f(n)": 24.389000000000042,
          "n": 2.9000000000000017
         },
         {
          "Complexity": "O(n³)",
          "f(n)": 27.000000000000046,
          "n": 3.0000000000000018
         },
         {
          "Complexity": "O(n³)",
          "f(n)": 29.791000000000054,
          "n": 3.100000000000002
         },
         {
          "Complexity": "O(n³)",
          "f(n)": 32.76800000000006,
          "n": 3.200000000000002
         },
         {
          "Complexity": "O(n³)",
          "f(n)": 35.93700000000007,
          "n": 3.300000000000002
         },
         {
          "Complexity": "O(n³)",
          "f(n)": 39.30400000000007,
          "n": 3.400000000000002
         },
         {
          "Complexity": "O(n³)",
          "f(n)": 42.87500000000008,
          "n": 3.500000000000002
         },
         {
          "Complexity": "O(n³)",
          "f(n)": 46.65600000000009,
          "n": 3.6000000000000023
         },
         {
          "Complexity": "O(n³)",
          "f(n)": 50.6530000000001,
          "n": 3.7000000000000024
         },
         {
          "Complexity": "O(n³)",
          "f(n)": 54.87200000000011,
          "n": 3.8000000000000025
         },
         {
          "Complexity": "O(n³)",
          "f(n)": 59.319000000000116,
          "n": 3.9000000000000026
         },
         {
          "Complexity": "O(n³)",
          "f(n)": 64.00000000000013,
          "n": 4.000000000000003
         },
         {
          "Complexity": "O(n³)",
          "f(n)": 68.92100000000016,
          "n": 4.100000000000003
         },
         {
          "Complexity": "O(n³)",
          "f(n)": 74.08800000000015,
          "n": 4.200000000000003
         },
         {
          "Complexity": "O(n³)",
          "f(n)": 79.50700000000013,
          "n": 4.3000000000000025
         },
         {
          "Complexity": "O(n³)",
          "f(n)": 85.18400000000018,
          "n": 4.400000000000003
         },
         {
          "Complexity": "O(n³)",
          "f(n)": 91.12500000000021,
          "n": 4.5000000000000036
         },
         {
          "Complexity": "O(n³)",
          "f(n)": 97.3360000000002,
          "n": 4.600000000000003
         },
         {
          "Complexity": "O(n³)",
          "f(n)": 103.82300000000019,
          "n": 4.700000000000003
         },
         {
          "Complexity": "O(n³)",
          "f(n)": 110.59200000000024,
          "n": 4.800000000000003
         },
         {
          "Complexity": "O(n³)",
          "f(n)": 117.64900000000029,
          "n": 4.900000000000004
         },
         {
          "Complexity": "O(n³)",
          "f(n)": 125.00000000000027,
          "n": 5.0000000000000036
         },
         {
          "Complexity": "O(n³)",
          "f(n)": 132.65100000000024,
          "n": 5.100000000000003
         },
         {
          "Complexity": "O(n³)",
          "f(n)": 140.60800000000032,
          "n": 5.200000000000004
         },
         {
          "Complexity": "O(n³)",
          "f(n)": 148.87700000000035,
          "n": 5.300000000000004
         },
         {
          "Complexity": "O(n³)",
          "f(n)": 157.46400000000034,
          "n": 5.400000000000004
         },
         {
          "Complexity": "O(n³)",
          "f(n)": 166.3750000000003,
          "n": 5.5000000000000036
         },
         {
          "Complexity": "O(n³)",
          "f(n)": 175.61600000000038,
          "n": 5.600000000000004
         },
         {
          "Complexity": "O(n³)",
          "f(n)": 185.19300000000044,
          "n": 5.700000000000005
         },
         {
          "Complexity": "O(n³)",
          "f(n)": 195.11200000000042,
          "n": 5.800000000000004
         },
         {
          "Complexity": "O(n³)",
          "f(n)": 205.37900000000042,
          "n": 5.900000000000004
         },
         {
          "Complexity": "O(n³)",
          "f(n)": 216.00000000000048,
          "n": 6.000000000000004
         },
         {
          "Complexity": "O(n³)",
          "f(n)": 226.98100000000056,
          "n": 6.100000000000005
         },
         {
          "Complexity": "O(n³)",
          "f(n)": 238.32800000000054,
          "n": 6.200000000000005
         },
         {
          "Complexity": "O(n³)",
          "f(n)": 250.0470000000005,
          "n": 6.300000000000004
         },
         {
          "Complexity": "O(n³)",
          "f(n)": 262.1440000000006,
          "n": 6.400000000000005
         },
         {
          "Complexity": "O(n³)",
          "f(n)": 274.6250000000007,
          "n": 6.500000000000005
         },
         {
          "Complexity": "O(n³)",
          "f(n)": 287.49600000000066,
          "n": 6.600000000000005
         },
         {
          "Complexity": "O(n³)",
          "f(n)": 300.7630000000006,
          "n": 6.700000000000005
         },
         {
          "Complexity": "O(n³)",
          "f(n)": 314.4320000000007,
          "n": 6.800000000000005
         },
         {
          "Complexity": "O(n³)",
          "f(n)": 328.5090000000008,
          "n": 6.900000000000006
         },
         {
          "Complexity": "O(n³)",
          "f(n)": 343.0000000000008,
          "n": 7.000000000000005
         },
         {
          "Complexity": "O(n³)",
          "f(n)": 357.91100000000074,
          "n": 7.100000000000005
         },
         {
          "Complexity": "O(n³)",
          "f(n)": 373.24800000000084,
          "n": 7.2000000000000055
         },
         {
          "Complexity": "O(n³)",
          "f(n)": 389.01700000000096,
          "n": 7.300000000000006
         },
         {
          "Complexity": "O(n³)",
          "f(n)": 405.22400000000096,
          "n": 7.400000000000006
         },
         {
          "Complexity": "O(n³)",
          "f(n)": 421.8750000000009,
          "n": 7.500000000000005
         },
         {
          "Complexity": "O(n³)",
          "f(n)": 438.976000000001,
          "n": 7.600000000000006
         },
         {
          "Complexity": "O(n³)",
          "f(n)": 456.53300000000115,
          "n": 7.700000000000006
         },
         {
          "Complexity": "O(n³)",
          "f(n)": 474.5520000000011,
          "n": 7.800000000000006
         },
         {
          "Complexity": "O(n³)",
          "f(n)": 493.03900000000107,
          "n": 7.900000000000006
         },
         {
          "Complexity": "O(n³)",
          "f(n)": 512.0000000000014,
          "n": 8.000000000000007
         },
         {
          "Complexity": "O(n³)",
          "f(n)": 531.4410000000013,
          "n": 8.100000000000007
         },
         {
          "Complexity": "O(n³)",
          "f(n)": 551.3680000000013,
          "n": 8.200000000000006
         },
         {
          "Complexity": "O(n³)",
          "f(n)": 571.7870000000013,
          "n": 8.300000000000006
         },
         {
          "Complexity": "O(n³)",
          "f(n)": 592.7040000000012,
          "n": 8.400000000000006
         },
         {
          "Complexity": "O(n³)",
          "f(n)": 614.1250000000016,
          "n": 8.500000000000007
         },
         {
          "Complexity": "O(n³)",
          "f(n)": 636.0560000000015,
          "n": 8.600000000000007
         },
         {
          "Complexity": "O(n³)",
          "f(n)": 658.5030000000014,
          "n": 8.700000000000006
         },
         {
          "Complexity": "O(n³)",
          "f(n)": 681.4720000000018,
          "n": 8.800000000000008
         },
         {
          "Complexity": "O(n³)",
          "f(n)": 704.9690000000018,
          "n": 8.900000000000007
         },
         {
          "Complexity": "O(n³)",
          "f(n)": 729.0000000000017,
          "n": 9.000000000000007
         },
         {
          "Complexity": "O(n³)",
          "f(n)": 753.5710000000017,
          "n": 9.100000000000007
         },
         {
          "Complexity": "O(n³)",
          "f(n)": 778.6880000000016,
          "n": 9.200000000000006
         },
         {
          "Complexity": "O(n³)",
          "f(n)": 804.357000000002,
          "n": 9.300000000000008
         },
         {
          "Complexity": "O(n³)",
          "f(n)": 830.584000000002,
          "n": 9.400000000000007
         },
         {
          "Complexity": "O(n³)",
          "f(n)": 857.3750000000019,
          "n": 9.500000000000007
         },
         {
          "Complexity": "O(n³)",
          "f(n)": 884.7360000000024,
          "n": 9.600000000000009
         },
         {
          "Complexity": "O(n³)",
          "f(n)": 912.6730000000023,
          "n": 9.700000000000008
         },
         {
          "Complexity": "O(n³)",
          "f(n)": 941.1920000000023,
          "n": 9.800000000000008
         },
         {
          "Complexity": "O(n³)",
          "f(n)": 970.2990000000021,
          "n": 9.900000000000007
         },
         {
          "Complexity": "O(n³)",
          "f(n)": 1000.0000000000022,
          "n": 10.000000000000007
         },
         {
          "Complexity": "O(n³)",
          "f(n)": 1030.3010000000027,
          "n": 10.100000000000009
         },
         {
          "Complexity": "O(n³)",
          "f(n)": 1061.2080000000026,
          "n": 10.200000000000008
         },
         {
          "Complexity": "O(n³)",
          "f(n)": 1092.7270000000026,
          "n": 10.300000000000008
         },
         {
          "Complexity": "O(n³)",
          "f(n)": 1124.864000000003,
          "n": 10.40000000000001
         },
         {
          "Complexity": "O(n³)",
          "f(n)": 1157.625000000003,
          "n": 10.500000000000009
         },
         {
          "Complexity": "O(n³)",
          "f(n)": 1191.0160000000028,
          "n": 10.600000000000009
         },
         {
          "Complexity": "O(n³)",
          "f(n)": 1225.0430000000028,
          "n": 10.700000000000008
         },
         {
          "Complexity": "O(n³)",
          "f(n)": 1259.7120000000027,
          "n": 10.800000000000008
         },
         {
          "Complexity": "O(n³)",
          "f(n)": 1295.0290000000032,
          "n": 10.90000000000001
         },
         {
          "Complexity": "O(n³)",
          "f(n)": 1331.0000000000032,
          "n": 11.000000000000009
         },
         {
          "Complexity": "O(n³)",
          "f(n)": 1367.631000000003,
          "n": 11.100000000000009
         },
         {
          "Complexity": "O(n³)",
          "f(n)": 1404.9280000000037,
          "n": 11.20000000000001
         },
         {
          "Complexity": "O(n³)",
          "f(n)": 1442.8970000000036,
          "n": 11.30000000000001
         },
         {
          "Complexity": "O(n³)",
          "f(n)": 1481.5440000000035,
          "n": 11.40000000000001
         },
         {
          "Complexity": "O(n³)",
          "f(n)": 1520.8750000000034,
          "n": 11.500000000000009
         },
         {
          "Complexity": "O(n³)",
          "f(n)": 1560.8960000000034,
          "n": 11.600000000000009
         },
         {
          "Complexity": "O(n³)",
          "f(n)": 1601.6130000000041,
          "n": 11.70000000000001
         },
         {
          "Complexity": "O(n³)",
          "f(n)": 1643.032000000004,
          "n": 11.80000000000001
         },
         {
          "Complexity": "O(n³)",
          "f(n)": 1685.159000000004,
          "n": 11.90000000000001
         },
         {
          "Complexity": "O(n³)",
          "f(n)": 1728.0000000000045,
          "n": 12.00000000000001
         },
         {
          "Complexity": "O(n³)",
          "f(n)": 1771.5610000000045,
          "n": 12.10000000000001
         },
         {
          "Complexity": "O(n³)",
          "f(n)": 1815.8480000000045,
          "n": 12.20000000000001
         },
         {
          "Complexity": "O(n³)",
          "f(n)": 1860.8670000000043,
          "n": 12.30000000000001
         },
         {
          "Complexity": "O(n³)",
          "f(n)": 1906.6240000000043,
          "n": 12.40000000000001
         },
         {
          "Complexity": "O(n³)",
          "f(n)": 1953.125000000005,
          "n": 12.50000000000001
         },
         {
          "Complexity": "O(n³)",
          "f(n)": 2000.376000000005,
          "n": 12.60000000000001
         },
         {
          "Complexity": "O(n³)",
          "f(n)": 2048.383000000005,
          "n": 12.70000000000001
         },
         {
          "Complexity": "O(n³)",
          "f(n)": 2097.1520000000055,
          "n": 12.800000000000011
         },
         {
          "Complexity": "O(n³)",
          "f(n)": 2146.6890000000053,
          "n": 12.900000000000011
         },
         {
          "Complexity": "O(n³)",
          "f(n)": 2197.0000000000055,
          "n": 13.00000000000001
         },
         {
          "Complexity": "O(n³)",
          "f(n)": 2248.0910000000054,
          "n": 13.10000000000001
         },
         {
          "Complexity": "O(n³)",
          "f(n)": 2299.9680000000053,
          "n": 13.20000000000001
         },
         {
          "Complexity": "O(n³)",
          "f(n)": 2352.637000000006,
          "n": 13.300000000000011
         },
         {
          "Complexity": "O(n³)",
          "f(n)": 2406.1040000000057,
          "n": 13.400000000000011
         },
         {
          "Complexity": "O(n³)",
          "f(n)": 2460.375000000006,
          "n": 13.50000000000001
         },
         {
          "Complexity": "O(n³)",
          "f(n)": 2515.4560000000065,
          "n": 13.600000000000012
         },
         {
          "Complexity": "O(n³)",
          "f(n)": 2571.3530000000064,
          "n": 13.700000000000012
         },
         {
          "Complexity": "O(n³)",
          "f(n)": 2628.0720000000065,
          "n": 13.800000000000011
         },
         {
          "Complexity": "O(n³)",
          "f(n)": 2685.6190000000065,
          "n": 13.900000000000011
         },
         {
          "Complexity": "O(n³)",
          "f(n)": 2744.0000000000064,
          "n": 14.00000000000001
         },
         {
          "Complexity": "O(n³)",
          "f(n)": 2803.2210000000073,
          "n": 14.100000000000012
         },
         {
          "Complexity": "O(n³)",
          "f(n)": 2863.2880000000073,
          "n": 14.200000000000012
         },
         {
          "Complexity": "O(n³)",
          "f(n)": 2924.207000000007,
          "n": 14.300000000000011
         },
         {
          "Complexity": "O(n³)",
          "f(n)": 2985.984000000008,
          "n": 14.400000000000013
         },
         {
          "Complexity": "O(n³)",
          "f(n)": 3048.6250000000077,
          "n": 14.500000000000012
         },
         {
          "Complexity": "O(n³)",
          "f(n)": 3112.1360000000077,
          "n": 14.600000000000012
         },
         {
          "Complexity": "O(n³)",
          "f(n)": 3176.5230000000074,
          "n": 14.700000000000012
         },
         {
          "Complexity": "O(n³)",
          "f(n)": 3241.7920000000076,
          "n": 14.800000000000011
         },
         {
          "Complexity": "O(n³)",
          "f(n)": 3307.9490000000087,
          "n": 14.900000000000013
         },
         {
          "Complexity": "O(n³)",
          "f(n)": 3375.000000000008,
          "n": 15.000000000000012
         },
         {
          "Complexity": "O(n³)",
          "f(n)": 3442.951000000008,
          "n": 15.100000000000012
         },
         {
          "Complexity": "O(n³)",
          "f(n)": 3511.8080000000095,
          "n": 15.200000000000014
         },
         {
          "Complexity": "O(n³)",
          "f(n)": 3581.5770000000093,
          "n": 15.300000000000013
         },
         {
          "Complexity": "O(n³)",
          "f(n)": 3652.264000000009,
          "n": 15.400000000000013
         },
         {
          "Complexity": "O(n³)",
          "f(n)": 3723.875000000009,
          "n": 15.500000000000012
         },
         {
          "Complexity": "O(n³)",
          "f(n)": 3796.416000000009,
          "n": 15.600000000000012
         },
         {
          "Complexity": "O(n³)",
          "f(n)": 3869.89300000001,
          "n": 15.700000000000014
         },
         {
          "Complexity": "O(n³)",
          "f(n)": 3944.31200000001,
          "n": 15.800000000000013
         },
         {
          "Complexity": "O(n³)",
          "f(n)": 4019.6790000000096,
          "n": 15.900000000000013
         },
         {
          "Complexity": "O(n³)",
          "f(n)": 4096.000000000011,
          "n": 16.000000000000014
         },
         {
          "Complexity": "O(n³)",
          "f(n)": 4173.281000000012,
          "n": 16.100000000000016
         },
         {
          "Complexity": "O(n³)",
          "f(n)": 4251.52800000001,
          "n": 16.200000000000014
         },
         {
          "Complexity": "O(n³)",
          "f(n)": 4330.747000000009,
          "n": 16.30000000000001
         },
         {
          "Complexity": "O(n³)",
          "f(n)": 4410.94400000001,
          "n": 16.400000000000013
         },
         {
          "Complexity": "O(n³)",
          "f(n)": 4492.125000000012,
          "n": 16.500000000000014
         },
         {
          "Complexity": "O(n³)",
          "f(n)": 4574.296000000013,
          "n": 16.600000000000016
         },
         {
          "Complexity": "O(n³)",
          "f(n)": 4657.463000000012,
          "n": 16.700000000000014
         },
         {
          "Complexity": "O(n³)",
          "f(n)": 4741.632000000012,
          "n": 16.800000000000015
         },
         {
          "Complexity": "O(n³)",
          "f(n)": 4826.809000000011,
          "n": 16.900000000000013
         },
         {
          "Complexity": "O(n³)",
          "f(n)": 4913.000000000013,
          "n": 17.000000000000014
         },
         {
          "Complexity": "O(n³)",
          "f(n)": 5000.211000000014,
          "n": 17.100000000000016
         },
         {
          "Complexity": "O(n³)",
          "f(n)": 5088.448000000012,
          "n": 17.200000000000014
         },
         {
          "Complexity": "O(n³)",
          "f(n)": 5177.717000000013,
          "n": 17.300000000000015
         },
         {
          "Complexity": "O(n³)",
          "f(n)": 5268.024000000011,
          "n": 17.400000000000013
         },
         {
          "Complexity": "O(n³)",
          "f(n)": 5359.375000000013,
          "n": 17.500000000000014
         },
         {
          "Complexity": "O(n³)",
          "f(n)": 5451.776000000014,
          "n": 17.600000000000016
         },
         {
          "Complexity": "O(n³)",
          "f(n)": 5545.233000000013,
          "n": 17.700000000000014
         },
         {
          "Complexity": "O(n³)",
          "f(n)": 5639.752000000014,
          "n": 17.800000000000015
         },
         {
          "Complexity": "O(n³)",
          "f(n)": 5735.339000000015,
          "n": 17.900000000000016
         },
         {
          "Complexity": "O(n³)",
          "f(n)": 5832.000000000014,
          "n": 18.000000000000014
         },
         {
          "Complexity": "O(n³)",
          "f(n)": 5929.741000000015,
          "n": 18.100000000000016
         },
         {
          "Complexity": "O(n³)",
          "f(n)": 6028.568000000017,
          "n": 18.200000000000017
         },
         {
          "Complexity": "O(n³)",
          "f(n)": 6128.487000000015,
          "n": 18.300000000000015
         },
         {
          "Complexity": "O(n³)",
          "f(n)": 6229.504000000016,
          "n": 18.400000000000016
         },
         {
          "Complexity": "O(n³)",
          "f(n)": 6331.625000000015,
          "n": 18.500000000000014
         },
         {
          "Complexity": "O(n³)",
          "f(n)": 6434.856000000016,
          "n": 18.600000000000016
         },
         {
          "Complexity": "O(n³)",
          "f(n)": 6539.203000000018,
          "n": 18.700000000000017
         },
         {
          "Complexity": "O(n³)",
          "f(n)": 6644.672000000016,
          "n": 18.800000000000015
         },
         {
          "Complexity": "O(n³)",
          "f(n)": 6751.2690000000175,
          "n": 18.900000000000016
         },
         {
          "Complexity": "O(n³)",
          "f(n)": 6859.0000000000155,
          "n": 19.000000000000014
         },
         {
          "Complexity": "O(n³)",
          "f(n)": 6967.871000000017,
          "n": 19.100000000000016
         },
         {
          "Complexity": "O(n³)",
          "f(n)": 7077.888000000019,
          "n": 19.200000000000017
         },
         {
          "Complexity": "O(n³)",
          "f(n)": 7189.057000000017,
          "n": 19.300000000000015
         },
         {
          "Complexity": "O(n³)",
          "f(n)": 7301.384000000018,
          "n": 19.400000000000016
         },
         {
          "Complexity": "O(n³)",
          "f(n)": 7414.87500000002,
          "n": 19.500000000000018
         },
         {
          "Complexity": "O(n³)",
          "f(n)": 7529.536000000018,
          "n": 19.600000000000016
         },
         {
          "Complexity": "O(n³)",
          "f(n)": 7645.37300000002,
          "n": 19.700000000000017
         },
         {
          "Complexity": "O(n³)",
          "f(n)": 7762.392000000022,
          "n": 19.80000000000002
         },
         {
          "Complexity": "O(n³)",
          "f(n)": 7880.599000000019,
          "n": 19.900000000000016
         },
         {
          "Complexity": "O(n³)",
          "f(n)": 8000.000000000021,
          "n": 20.000000000000018
         },
         {
          "Complexity": "O(n³)",
          "f(n)": 8120.601000000019,
          "n": 20.100000000000016
         },
         {
          "Complexity": "O(n³)",
          "f(n)": 8242.408000000021,
          "n": 20.200000000000017
         },
         {
          "Complexity": "O(n³)",
          "f(n)": 8365.427000000023,
          "n": 20.30000000000002
         },
         {
          "Complexity": "O(n³)",
          "f(n)": 8489.66400000002,
          "n": 20.400000000000016
         },
         {
          "Complexity": "O(n³)",
          "f(n)": 8615.125000000022,
          "n": 20.500000000000018
         },
         {
          "Complexity": "O(n³)",
          "f(n)": 8741.81600000002,
          "n": 20.600000000000016
         },
         {
          "Complexity": "O(n³)",
          "f(n)": 8869.743000000022,
          "n": 20.700000000000017
         },
         {
          "Complexity": "O(n³)",
          "f(n)": 8998.912000000024,
          "n": 20.80000000000002
         },
         {
          "Complexity": "O(n³)",
          "f(n)": 9129.329000000022,
          "n": 20.900000000000016
         },
         {
          "Complexity": "O(n³)",
          "f(n)": 9261.000000000024,
          "n": 21.000000000000018
         },
         {
          "Complexity": "O(n³)",
          "f(n)": 9393.931000000026,
          "n": 21.10000000000002
         },
         {
          "Complexity": "O(n³)",
          "f(n)": 9528.128000000022,
          "n": 21.200000000000017
         },
         {
          "Complexity": "O(n³)",
          "f(n)": 9663.597000000025,
          "n": 21.30000000000002
         },
         {
          "Complexity": "O(n³)",
          "f(n)": 9800.344000000026,
          "n": 21.40000000000002
         },
         {
          "Complexity": "O(n³)",
          "f(n)": 9938.375000000025,
          "n": 21.500000000000018
         },
         {
          "Complexity": "O(n³)",
          "f(n)": 10077.696000000027,
          "n": 21.60000000000002
         },
         {
          "Complexity": "O(n³)",
          "f(n)": 10218.313000000024,
          "n": 21.700000000000017
         },
         {
          "Complexity": "O(n³)",
          "f(n)": 10360.232000000025,
          "n": 21.80000000000002
         },
         {
          "Complexity": "O(n³)",
          "f(n)": 10503.459000000028,
          "n": 21.90000000000002
         },
         {
          "Complexity": "O(n³)",
          "f(n)": 10648.000000000025,
          "n": 22.000000000000018
         },
         {
          "Complexity": "O(n³)",
          "f(n)": 10793.861000000028,
          "n": 22.10000000000002
         },
         {
          "Complexity": "O(n³)",
          "f(n)": 10941.048000000024,
          "n": 22.200000000000017
         },
         {
          "Complexity": "O(n³)",
          "f(n)": 11089.567000000028,
          "n": 22.30000000000002
         },
         {
          "Complexity": "O(n³)",
          "f(n)": 11239.42400000003,
          "n": 22.40000000000002
         },
         {
          "Complexity": "O(n³)",
          "f(n)": 11390.625000000027,
          "n": 22.500000000000018
         },
         {
          "Complexity": "O(n³)",
          "f(n)": 11543.176000000029,
          "n": 22.60000000000002
         },
         {
          "Complexity": "O(n³)",
          "f(n)": 11697.083000000031,
          "n": 22.70000000000002
         },
         {
          "Complexity": "O(n³)",
          "f(n)": 11852.352000000028,
          "n": 22.80000000000002
         },
         {
          "Complexity": "O(n³)",
          "f(n)": 12008.98900000003,
          "n": 22.90000000000002
         },
         {
          "Complexity": "O(n³)",
          "f(n)": 12167.000000000035,
          "n": 23.00000000000002
         },
         {
          "Complexity": "O(n³)",
          "f(n)": 12326.39100000003,
          "n": 23.10000000000002
         },
         {
          "Complexity": "O(n³)",
          "f(n)": 12487.168000000032,
          "n": 23.20000000000002
         },
         {
          "Complexity": "O(n³)",
          "f(n)": 12649.33700000003,
          "n": 23.30000000000002
         },
         {
          "Complexity": "O(n³)",
          "f(n)": 12812.904000000033,
          "n": 23.40000000000002
         },
         {
          "Complexity": "O(n³)",
          "f(n)": 12977.875000000035,
          "n": 23.50000000000002
         },
         {
          "Complexity": "O(n³)",
          "f(n)": 13144.256000000032,
          "n": 23.60000000000002
         },
         {
          "Complexity": "O(n³)",
          "f(n)": 13312.053000000034,
          "n": 23.70000000000002
         },
         {
          "Complexity": "O(n³)",
          "f(n)": 13481.272000000032,
          "n": 23.80000000000002
         },
         {
          "Complexity": "O(n³)",
          "f(n)": 13651.919000000034,
          "n": 23.90000000000002
         },
         {
          "Complexity": "O(n³)",
          "f(n)": 13824.000000000036,
          "n": 24.00000000000002
         },
         {
          "Complexity": "O(n³)",
          "f(n)": 13997.521000000033,
          "n": 24.10000000000002
         },
         {
          "Complexity": "O(n³)",
          "f(n)": 14172.488000000036,
          "n": 24.20000000000002
         },
         {
          "Complexity": "O(n³)",
          "f(n)": 14348.90700000004,
          "n": 24.300000000000022
         },
         {
          "Complexity": "O(n³)",
          "f(n)": 14526.784000000036,
          "n": 24.40000000000002
         },
         {
          "Complexity": "O(n³)",
          "f(n)": 14706.125000000038,
          "n": 24.50000000000002
         },
         {
          "Complexity": "O(n³)",
          "f(n)": 14886.936000000042,
          "n": 24.600000000000023
         },
         {
          "Complexity": "O(n³)",
          "f(n)": 15069.223000000038,
          "n": 24.70000000000002
         },
         {
          "Complexity": "O(n³)",
          "f(n)": 15252.99200000004,
          "n": 24.800000000000022
         },
         {
          "Complexity": "O(n³)",
          "f(n)": 15438.249000000036,
          "n": 24.90000000000002
         },
         {
          "Complexity": "O(n³)",
          "f(n)": 15625.00000000004,
          "n": 25.00000000000002
         },
         {
          "Complexity": "O(n³)",
          "f(n)": 15813.251000000044,
          "n": 25.100000000000023
         },
         {
          "Complexity": "O(n³)",
          "f(n)": 16003.00800000004,
          "n": 25.20000000000002
         },
         {
          "Complexity": "O(n³)",
          "f(n)": 16194.277000000042,
          "n": 25.300000000000022
         },
         {
          "Complexity": "O(n³)",
          "f(n)": 16387.06400000004,
          "n": 25.40000000000002
         },
         {
          "Complexity": "O(n³)",
          "f(n)": 16581.37500000004,
          "n": 25.50000000000002
         },
         {
          "Complexity": "O(n³)",
          "f(n)": 16777.216000000044,
          "n": 25.600000000000023
         },
         {
          "Complexity": "O(n³)",
          "f(n)": 16974.59300000004,
          "n": 25.70000000000002
         },
         {
          "Complexity": "O(n³)",
          "f(n)": 17173.512000000042,
          "n": 25.800000000000022
         },
         {
          "Complexity": "O(n³)",
          "f(n)": 17373.979000000047,
          "n": 25.900000000000023
         },
         {
          "Complexity": "O(n³)",
          "f(n)": 17576.000000000044,
          "n": 26.00000000000002
         },
         {
          "Complexity": "O(n³)",
          "f(n)": 17779.581000000046,
          "n": 26.100000000000023
         },
         {
          "Complexity": "O(n³)",
          "f(n)": 17984.72800000005,
          "n": 26.200000000000024
         },
         {
          "Complexity": "O(n³)",
          "f(n)": 18191.447000000047,
          "n": 26.300000000000022
         },
         {
          "Complexity": "O(n³)",
          "f(n)": 18399.74400000005,
          "n": 26.400000000000023
         },
         {
          "Complexity": "O(n³)",
          "f(n)": 18609.625000000044,
          "n": 26.50000000000002
         },
         {
          "Complexity": "O(n³)",
          "f(n)": 18821.09600000005,
          "n": 26.600000000000023
         },
         {
          "Complexity": "O(n³)",
          "f(n)": 19034.16300000005,
          "n": 26.700000000000024
         },
         {
          "Complexity": "O(n³)",
          "f(n)": 19248.832000000046,
          "n": 26.800000000000022
         },
         {
          "Complexity": "O(n³)",
          "f(n)": 19465.10900000005,
          "n": 26.900000000000023
         },
         {
          "Complexity": "O(n³)",
          "f(n)": 19683.000000000047,
          "n": 27.00000000000002
         },
         {
          "Complexity": "O(n³)",
          "f(n)": 19902.51100000005,
          "n": 27.100000000000023
         },
         {
          "Complexity": "O(n³)",
          "f(n)": 20123.648000000052,
          "n": 27.200000000000024
         },
         {
          "Complexity": "O(n³)",
          "f(n)": 20346.41700000005,
          "n": 27.300000000000022
         },
         {
          "Complexity": "O(n³)",
          "f(n)": 20570.82400000005,
          "n": 27.400000000000023
         },
         {
          "Complexity": "O(n³)",
          "f(n)": 20796.87500000006,
          "n": 27.500000000000025
         },
         {
          "Complexity": "O(n³)",
          "f(n)": 21024.576000000052,
          "n": 27.600000000000023
         },
         {
          "Complexity": "O(n³)",
          "f(n)": 21253.933000000055,
          "n": 27.700000000000024
         },
         {
          "Complexity": "O(n³)",
          "f(n)": 21484.95200000006,
          "n": 27.800000000000026
         },
         {
          "Complexity": "O(n³)",
          "f(n)": 21717.639000000054,
          "n": 27.900000000000023
         },
         {
          "Complexity": "O(n³)",
          "f(n)": 21952.00000000006,
          "n": 28.000000000000025
         },
         {
          "Complexity": "O(n³)",
          "f(n)": 22188.041000000056,
          "n": 28.100000000000023
         },
         {
          "Complexity": "O(n³)",
          "f(n)": 22425.76800000006,
          "n": 28.200000000000024
         },
         {
          "Complexity": "O(n³)",
          "f(n)": 22665.18700000006,
          "n": 28.300000000000026
         },
         {
          "Complexity": "O(n³)",
          "f(n)": 22906.30400000006,
          "n": 28.400000000000023
         },
         {
          "Complexity": "O(n³)",
          "f(n)": 23149.125000000062,
          "n": 28.500000000000025
         },
         {
          "Complexity": "O(n³)",
          "f(n)": 23393.656000000057,
          "n": 28.600000000000023
         },
         {
          "Complexity": "O(n³)",
          "f(n)": 23639.90300000006,
          "n": 28.700000000000024
         },
         {
          "Complexity": "O(n³)",
          "f(n)": 23887.872000000065,
          "n": 28.800000000000026
         },
         {
          "Complexity": "O(n³)",
          "f(n)": 24137.569000000058,
          "n": 28.900000000000023
         },
         {
          "Complexity": "O(n³)",
          "f(n)": 24389.000000000062,
          "n": 29.000000000000025
         },
         {
          "Complexity": "O(n³)",
          "f(n)": 24642.171000000068,
          "n": 29.100000000000026
         },
         {
          "Complexity": "O(n³)",
          "f(n)": 24897.08800000006,
          "n": 29.200000000000024
         },
         {
          "Complexity": "O(n³)",
          "f(n)": 25153.757000000067,
          "n": 29.300000000000026
         },
         {
          "Complexity": "O(n³)",
          "f(n)": 25412.18400000007,
          "n": 29.400000000000027
         },
         {
          "Complexity": "O(n³)",
          "f(n)": 25672.375000000065,
          "n": 29.500000000000025
         },
         {
          "Complexity": "O(n³)",
          "f(n)": 25934.33600000007,
          "n": 29.600000000000026
         },
         {
          "Complexity": "O(n³)",
          "f(n)": 26198.073000000062,
          "n": 29.700000000000024
         },
         {
          "Complexity": "O(n³)",
          "f(n)": 26463.59200000007,
          "n": 29.800000000000026
         },
         {
          "Complexity": "O(n³)",
          "f(n)": 26730.899000000074,
          "n": 29.900000000000027
         },
         {
          "Complexity": "O(2ⁿ)",
          "f(n)": 2,
          "n": 1
         },
         {
          "Complexity": "O(2ⁿ)",
          "f(n)": 2.1435469250725863,
          "n": 1.1
         },
         {
          "Complexity": "O(2ⁿ)",
          "f(n)": 2.29739670999407,
          "n": 1.2000000000000002
         },
         {
          "Complexity": "O(2ⁿ)",
          "f(n)": 2.462288826689833,
          "n": 1.3000000000000003
         },
         {
          "Complexity": "O(2ⁿ)",
          "f(n)": 2.6390158215457893,
          "n": 1.4000000000000004
         },
         {
          "Complexity": "O(2ⁿ)",
          "f(n)": 2.828427124746191,
          "n": 1.5000000000000004
         },
         {
          "Complexity": "O(2ⁿ)",
          "f(n)": 3.0314331330207973,
          "n": 1.6000000000000005
         },
         {
          "Complexity": "O(2ⁿ)",
          "f(n)": 3.2490095854249437,
          "n": 1.7000000000000006
         },
         {
          "Complexity": "O(2ⁿ)",
          "f(n)": 3.4822022531844983,
          "n": 1.8000000000000007
         },
         {
          "Complexity": "O(2ⁿ)",
          "f(n)": 3.732131966147232,
          "n": 1.9000000000000008
         },
         {
          "Complexity": "O(2ⁿ)",
          "f(n)": 4.000000000000003,
          "n": 2.000000000000001
         },
         {
          "Complexity": "O(2ⁿ)",
          "f(n)": 4.287093850145175,
          "n": 2.100000000000001
         },
         {
          "Complexity": "O(2ⁿ)",
          "f(n)": 4.594793419988143,
          "n": 2.200000000000001
         },
         {
          "Complexity": "O(2ⁿ)",
          "f(n)": 4.924577653379669,
          "n": 2.300000000000001
         },
         {
          "Complexity": "O(2ⁿ)",
          "f(n)": 5.278031643091581,
          "n": 2.4000000000000012
         },
         {
          "Complexity": "O(2ⁿ)",
          "f(n)": 5.656854249492385,
          "n": 2.5000000000000013
         },
         {
          "Complexity": "O(2ⁿ)",
          "f(n)": 6.062866266041598,
          "n": 2.6000000000000014
         },
         {
          "Complexity": "O(2ⁿ)",
          "f(n)": 6.498019170849891,
          "n": 2.7000000000000015
         },
         {
          "Complexity": "O(2ⁿ)",
          "f(n)": 6.964404506369001,
          "n": 2.8000000000000016
         },
         {
          "Complexity": "O(2ⁿ)",
          "f(n)": 7.464263932294468,
          "n": 2.9000000000000017
         },
         {
          "Complexity": "O(2ⁿ)",
          "f(n)": 8.00000000000001,
          "n": 3.0000000000000018
         },
         {
          "Complexity": "O(2ⁿ)",
          "f(n)": 8.574187700290356,
          "n": 3.100000000000002
         },
         {
          "Complexity": "O(2ⁿ)",
          "f(n)": 9.189586839976293,
          "n": 3.200000000000002
         },
         {
          "Complexity": "O(2ⁿ)",
          "f(n)": 9.849155306759345,
          "n": 3.300000000000002
         },
         {
          "Complexity": "O(2ⁿ)",
          "f(n)": 10.55606328618317,
          "n": 3.400000000000002
         },
         {
          "Complexity": "O(2ⁿ)",
          "f(n)": 11.313708498984777,
          "n": 3.500000000000002
         },
         {
          "Complexity": "O(2ⁿ)",
          "f(n)": 12.125732532083203,
          "n": 3.6000000000000023
         },
         {
          "Complexity": "O(2ⁿ)",
          "f(n)": 12.99603834169979,
          "n": 3.7000000000000024
         },
         {
          "Complexity": "O(2ⁿ)",
          "f(n)": 13.92880901273801,
          "n": 3.8000000000000025
         },
         {
          "Complexity": "O(2ⁿ)",
          "f(n)": 14.928527864588945,
          "n": 3.9000000000000026
         },
         {
          "Complexity": "O(2ⁿ)",
          "f(n)": 16.00000000000003,
          "n": 4.000000000000003
         },
         {
          "Complexity": "O(2ⁿ)",
          "f(n)": 17.14837540058073,
          "n": 4.100000000000003
         },
         {
          "Complexity": "O(2ⁿ)",
          "f(n)": 18.379173679952597,
          "n": 4.200000000000003
         },
         {
          "Complexity": "O(2ⁿ)",
          "f(n)": 19.698310613518693,
          "n": 4.3000000000000025
         },
         {
          "Complexity": "O(2ⁿ)",
          "f(n)": 21.112126572366353,
          "n": 4.400000000000003
         },
         {
          "Complexity": "O(2ⁿ)",
          "f(n)": 22.627416997969576,
          "n": 4.5000000000000036
         },
         {
          "Complexity": "O(2ⁿ)",
          "f(n)": 24.251465064166425,
          "n": 4.600000000000003
         },
         {
          "Complexity": "O(2ⁿ)",
          "f(n)": 25.99207668339959,
          "n": 4.700000000000003
         },
         {
          "Complexity": "O(2ⁿ)",
          "f(n)": 27.857618025476036,
          "n": 4.800000000000003
         },
         {
          "Complexity": "O(2ⁿ)",
          "f(n)": 29.85705572917792,
          "n": 4.900000000000004
         },
         {
          "Complexity": "O(2ⁿ)",
          "f(n)": 32.00000000000008,
          "n": 5.0000000000000036
         },
         {
          "Complexity": "O(2ⁿ)",
          "f(n)": 34.29675080116146,
          "n": 5.100000000000003
         },
         {
          "Complexity": "O(2ⁿ)",
          "f(n)": 36.758347359905216,
          "n": 5.200000000000004
         },
         {
          "Complexity": "O(2ⁿ)",
          "f(n)": 39.396621227037436,
          "n": 5.300000000000004
         },
         {
          "Complexity": "O(2ⁿ)",
          "f(n)": 42.22425314473273,
          "n": 5.400000000000004
         },
         {
          "Complexity": "O(2ⁿ)",
          "f(n)": 45.25483399593915,
          "n": 5.5000000000000036
         },
         {
          "Complexity": "O(2ⁿ)",
          "f(n)": 48.50293012833288,
          "n": 5.600000000000004
         },
         {
          "Complexity": "O(2ⁿ)",
          "f(n)": 51.98415336679924,
          "n": 5.700000000000005
         },
         {
          "Complexity": "O(2ⁿ)",
          "f(n)": 55.71523605095211,
          "n": 5.800000000000004
         },
         {
          "Complexity": "O(2ⁿ)",
          "f(n)": 59.71411145835584,
          "n": 5.900000000000004
         },
         {
          "Complexity": "O(2ⁿ)",
          "f(n)": 64.0000000000002,
          "n": 6.000000000000004
         },
         {
          "Complexity": "O(2ⁿ)",
          "f(n)": 68.593501602323,
          "n": 6.100000000000005
         },
         {
          "Complexity": "O(2ⁿ)",
          "f(n)": 73.51669471981047,
          "n": 6.200000000000005
         },
         {
          "Complexity": "O(2ⁿ)",
          "f(n)": 78.79324245407487,
          "n": 6.300000000000004
         },
         {
          "Complexity": "O(2ⁿ)",
          "f(n)": 84.44850628946551,
          "n": 6.400000000000005
         },
         {
          "Complexity": "O(2ⁿ)",
          "f(n)": 90.50966799187842,
          "n": 6.500000000000005
         },
         {
          "Complexity": "O(2ⁿ)",
          "f(n)": 97.00586025666581,
          "n": 6.600000000000005
         },
         {
          "Complexity": "O(2ⁿ)",
          "f(n)": 103.96830673359848,
          "n": 6.700000000000005
         },
         {
          "Complexity": "O(2ⁿ)",
          "f(n)": 111.43047210190429,
          "n": 6.800000000000005
         },
         {
          "Complexity": "O(2ⁿ)",
          "f(n)": 119.42822291671182,
          "n": 6.900000000000006
         },
         {
          "Complexity": "O(2ⁿ)",
          "f(n)": 128.00000000000048,
          "n": 7.000000000000005
         },
         {
          "Complexity": "O(2ⁿ)",
          "f(n)": 137.187003204646,
          "n": 7.100000000000005
         },
         {
          "Complexity": "O(2ⁿ)",
          "f(n)": 147.03338943962103,
          "n": 7.2000000000000055
         },
         {
          "Complexity": "O(2ⁿ)",
          "f(n)": 157.58648490814994,
          "n": 7.300000000000006
         },
         {
          "Complexity": "O(2ⁿ)",
          "f(n)": 168.89701257893114,
          "n": 7.400000000000006
         },
         {
          "Complexity": "O(2ⁿ)",
          "f(n)": 181.01933598375683,
          "n": 7.500000000000005
         },
         {
          "Complexity": "O(2ⁿ)",
          "f(n)": 194.01172051333174,
          "n": 7.600000000000006
         },
         {
          "Complexity": "O(2ⁿ)",
          "f(n)": 207.93661346719722,
          "n": 7.700000000000006
         },
         {
          "Complexity": "O(2ⁿ)",
          "f(n)": 222.8609442038087,
          "n": 7.800000000000006
         },
         {
          "Complexity": "O(2ⁿ)",
          "f(n)": 238.85644583342363,
          "n": 7.900000000000006
         },
         {
          "Complexity": "O(2ⁿ)",
          "f(n)": 256.00000000000125,
          "n": 8.000000000000007
         },
         {
          "Complexity": "O(2ⁿ)",
          "f(n)": 274.37400640929235,
          "n": 8.100000000000007
         },
         {
          "Complexity": "O(2ⁿ)",
          "f(n)": 294.0667788792423,
          "n": 8.200000000000006
         },
         {
          "Complexity": "O(2ⁿ)",
          "f(n)": 315.1729698162999,
          "n": 8.300000000000006
         },
         {
          "Complexity": "O(2ⁿ)",
          "f(n)": 337.7940251578623,
          "n": 8.400000000000006
         },
         {
          "Complexity": "O(2ⁿ)",
          "f(n)": 362.0386719675141,
          "n": 8.500000000000007
         },
         {
          "Complexity": "O(2ⁿ)",
          "f(n)": 388.0234410266637,
          "n": 8.600000000000007
         },
         {
          "Complexity": "O(2ⁿ)",
          "f(n)": 415.87322693439444,
          "n": 8.700000000000006
         },
         {
          "Complexity": "O(2ⁿ)",
          "f(n)": 445.721888407618,
          "n": 8.800000000000008
         },
         {
          "Complexity": "O(2ⁿ)",
          "f(n)": 477.7128916668479,
          "n": 8.900000000000007
         },
         {
          "Complexity": "O(2ⁿ)",
          "f(n)": 512.0000000000025,
          "n": 9.000000000000007
         },
         {
          "Complexity": "O(2ⁿ)",
          "f(n)": 548.7480128185847,
          "n": 9.100000000000007
         },
         {
          "Complexity": "O(2ⁿ)",
          "f(n)": 588.1335577584846,
          "n": 9.200000000000006
         },
         {
          "Complexity": "O(2ⁿ)",
          "f(n)": 630.3459396326006,
          "n": 9.300000000000008
         },
         {
          "Complexity": "O(2ⁿ)",
          "f(n)": 675.5880503157254,
          "n": 9.400000000000007
         },
         {
          "Complexity": "O(2ⁿ)",
          "f(n)": 724.0773439350282,
          "n": 9.500000000000007
         },
         {
          "Complexity": "O(2ⁿ)",
          "f(n)": 776.0468820533284,
          "n": 9.600000000000009
         },
         {
          "Complexity": "O(2ⁿ)",
          "f(n)": 831.7464538687899,
          "n": 9.700000000000008
         },
         {
          "Complexity": "O(2ⁿ)",
          "f(n)": 891.443776815236,
          "n": 9.800000000000008
         },
         {
          "Complexity": "O(2ⁿ)",
          "f(n)": 955.4257833336958,
          "n": 9.900000000000007
         },
         {
          "Complexity": "O(2ⁿ)",
          "f(n)": 1024.000000000005,
          "n": 10.000000000000007
         },
         {
          "Complexity": "O(2ⁿ)",
          "f(n)": 1097.4960256371708,
          "n": 10.100000000000009
         },
         {
          "Complexity": "O(2ⁿ)",
          "f(n)": 1176.2671155169705,
          "n": 10.200000000000008
         },
         {
          "Complexity": "O(2ⁿ)",
          "f(n)": 1260.6918792652011,
          "n": 10.300000000000008
         },
         {
          "Complexity": "O(2ⁿ)",
          "f(n)": 1351.1761006314523,
          "n": 10.40000000000001
         },
         {
          "Complexity": "O(2ⁿ)",
          "f(n)": 1448.1546878700583,
          "n": 10.500000000000009
         },
         {
          "Complexity": "O(2ⁿ)",
          "f(n)": 1552.0937641066569,
          "n": 10.600000000000009
         },
         {
          "Complexity": "O(2ⁿ)",
          "f(n)": 1663.4929077375798,
          "n": 10.700000000000008
         },
         {
          "Complexity": "O(2ⁿ)",
          "f(n)": 1782.887553630472,
          "n": 10.800000000000008
         },
         {
          "Complexity": "O(2ⁿ)",
          "f(n)": 1910.8515666673939,
          "n": 10.90000000000001
         },
         {
          "Complexity": "O(2ⁿ)",
          "f(n)": 2048.0000000000127,
          "n": 11.000000000000009
         },
         {
          "Complexity": "O(2ⁿ)",
          "f(n)": 2194.9920512743415,
          "n": 11.100000000000009
         },
         {
          "Complexity": "O(2ⁿ)",
          "f(n)": 2352.534231033944,
          "n": 11.20000000000001
         },
         {
          "Complexity": "O(2ⁿ)",
          "f(n)": 2521.3837585304054,
          "n": 11.30000000000001
         },
         {
          "Complexity": "O(2ⁿ)",
          "f(n)": 2702.3522012629046,
          "n": 11.40000000000001
         },
         {
          "Complexity": "O(2ⁿ)",
          "f(n)": 2896.3093757401166,
          "n": 11.500000000000009
         },
         {
          "Complexity": "O(2ⁿ)",
          "f(n)": 3104.1875282133137,
          "n": 11.600000000000009
         },
         {
          "Complexity": "O(2ⁿ)",
          "f(n)": 3326.9858154751637,
          "n": 11.70000000000001
         },
         {
          "Complexity": "O(2ⁿ)",
          "f(n)": 3565.775107260948,
          "n": 11.80000000000001
         },
         {
          "Complexity": "O(2ⁿ)",
          "f(n)": 3821.7031333347877,
          "n": 11.90000000000001
         },
         {
          "Complexity": "O(2ⁿ)",
          "f(n)": 4096.00000000003,
          "n": 12.00000000000001
         },
         {
          "Complexity": "O(2ⁿ)",
          "f(n)": 4389.9841025486885,
          "n": 12.10000000000001
         },
         {
          "Complexity": "O(2ⁿ)",
          "f(n)": 4705.068462067888,
          "n": 12.20000000000001
         },
         {
          "Complexity": "O(2ⁿ)",
          "f(n)": 5042.767517060811,
          "n": 12.30000000000001
         },
         {
          "Complexity": "O(2ⁿ)",
          "f(n)": 5404.704402525809,
          "n": 12.40000000000001
         },
         {
          "Complexity": "O(2ⁿ)",
          "f(n)": 5792.6187514802405,
          "n": 12.50000000000001
         },
         {
          "Complexity": "O(2ⁿ)",
          "f(n)": 6208.375056426635,
          "n": 12.60000000000001
         },
         {
          "Complexity": "O(2ⁿ)",
          "f(n)": 6653.971630950327,
          "n": 12.70000000000001
         },
         {
          "Complexity": "O(2ⁿ)",
          "f(n)": 7131.550214521905,
          "n": 12.800000000000011
         },
         {
          "Complexity": "O(2ⁿ)",
          "f(n)": 7643.4062666695845,
          "n": 12.900000000000011
         },
         {
          "Complexity": "O(2ⁿ)",
          "f(n)": 8192.00000000006,
          "n": 13.00000000000001
         },
         {
          "Complexity": "O(2ⁿ)",
          "f(n)": 8779.968205097377,
          "n": 13.10000000000001
         },
         {
          "Complexity": "O(2ⁿ)",
          "f(n)": 9410.136924135775,
          "n": 13.20000000000001
         },
         {
          "Complexity": "O(2ⁿ)",
          "f(n)": 10085.535034121634,
          "n": 13.300000000000011
         },
         {
          "Complexity": "O(2ⁿ)",
          "f(n)": 10809.408805051633,
          "n": 13.400000000000011
         },
         {
          "Complexity": "O(2ⁿ)",
          "f(n)": 11585.237502960481,
          "n": 13.50000000000001
         },
         {
          "Complexity": "O(2ⁿ)",
          "f(n)": 12416.750112853286,
          "n": 13.600000000000012
         },
         {
          "Complexity": "O(2ⁿ)",
          "f(n)": 13307.943261900671,
          "n": 13.700000000000012
         },
         {
          "Complexity": "O(2ⁿ)",
          "f(n)": 14263.10042904381,
          "n": 13.800000000000011
         },
         {
          "Complexity": "O(2ⁿ)",
          "f(n)": 15286.812533339169,
          "n": 13.900000000000011
         },
         {
          "Complexity": "O(2ⁿ)",
          "f(n)": 16384.00000000012,
          "n": 14.00000000000001
         },
         {
          "Complexity": "O(2ⁿ)",
          "f(n)": 17559.936410194776,
          "n": 14.100000000000012
         },
         {
          "Complexity": "O(2ⁿ)",
          "f(n)": 18820.273848271576,
          "n": 14.200000000000012
         },
         {
          "Complexity": "O(2ⁿ)",
          "f(n)": 20171.07006824327,
          "n": 14.300000000000011
         },
         {
          "Complexity": "O(2ⁿ)",
          "f(n)": 21618.81761010329,
          "n": 14.400000000000013
         },
         {
          "Complexity": "O(2ⁿ)",
          "f(n)": 23170.475005920987,
          "n": 14.500000000000012
         },
         {
          "Complexity": "O(2ⁿ)",
          "f(n)": 24833.50022570657,
          "n": 14.600000000000012
         },
         {
          "Complexity": "O(2ⁿ)",
          "f(n)": 26615.886523801342,
          "n": 14.700000000000012
         },
         {
          "Complexity": "O(2ⁿ)",
          "f(n)": 28526.20085808762,
          "n": 14.800000000000011
         },
         {
          "Complexity": "O(2ⁿ)",
          "f(n)": 30573.625066678378,
          "n": 14.900000000000013
         },
         {
          "Complexity": "O(2ⁿ)",
          "f(n)": 32768.000000000284,
          "n": 15.000000000000012
         },
         {
          "Complexity": "O(2ⁿ)",
          "f(n)": 35119.87282038955,
          "n": 15.100000000000012
         },
         {
          "Complexity": "O(2ⁿ)",
          "f(n)": 37640.547696543195,
          "n": 15.200000000000014
         },
         {
          "Complexity": "O(2ⁿ)",
          "f(n)": 40342.14013648658,
          "n": 15.300000000000013
         },
         {
          "Complexity": "O(2ⁿ)",
          "f(n)": 43237.63522020658,
          "n": 15.400000000000013
         },
         {
          "Complexity": "O(2ⁿ)",
          "f(n)": 46340.950011841975,
          "n": 15.500000000000012
         },
         {
          "Complexity": "O(2ⁿ)",
          "f(n)": 49667.00045141314,
          "n": 15.600000000000012
         },
         {
          "Complexity": "O(2ⁿ)",
          "f(n)": 53231.77304760275,
          "n": 15.700000000000014
         },
         {
          "Complexity": "O(2ⁿ)",
          "f(n)": 57052.401716175315,
          "n": 15.800000000000013
         },
         {
          "Complexity": "O(2ⁿ)",
          "f(n)": 61147.250133356756,
          "n": 15.900000000000013
         },
         {
          "Complexity": "O(2ⁿ)",
          "f(n)": 65536.00000000064,
          "n": 16.000000000000014
         },
         {
          "Complexity": "O(2ⁿ)",
          "f(n)": 70239.74564077926,
          "n": 16.100000000000016
         },
         {
          "Complexity": "O(2ⁿ)",
          "f(n)": 75281.09539308639,
          "n": 16.200000000000014
         },
         {
          "Complexity": "O(2ⁿ)",
          "f(n)": 80684.28027297308,
          "n": 16.30000000000001
         },
         {
          "Complexity": "O(2ⁿ)",
          "f(n)": 86475.27044041317,
          "n": 16.400000000000013
         },
         {
          "Complexity": "O(2ⁿ)",
          "f(n)": 92681.90002368407,
          "n": 16.500000000000014
         },
         {
          "Complexity": "O(2ⁿ)",
          "f(n)": 99334.00090282652,
          "n": 16.600000000000016
         },
         {
          "Complexity": "O(2ⁿ)",
          "f(n)": 106463.5460952055,
          "n": 16.700000000000014
         },
         {
          "Complexity": "O(2ⁿ)",
          "f(n)": 114104.80343235076,
          "n": 16.800000000000015
         },
         {
          "Complexity": "O(2ⁿ)",
          "f(n)": 122294.50026671351,
          "n": 16.900000000000013
         },
         {
          "Complexity": "O(2ⁿ)",
          "f(n)": 131072.00000000128,
          "n": 17.000000000000014
         },
         {
          "Complexity": "O(2ⁿ)",
          "f(n)": 140479.49128155853,
          "n": 17.100000000000016
         },
         {
          "Complexity": "O(2ⁿ)",
          "f(n)": 150562.19078617278,
          "n": 17.200000000000014
         },
         {
          "Complexity": "O(2ⁿ)",
          "f(n)": 161368.56054594653,
          "n": 17.300000000000015
         },
         {
          "Complexity": "O(2ⁿ)",
          "f(n)": 172950.54088082633,
          "n": 17.400000000000013
         },
         {
          "Complexity": "O(2ⁿ)",
          "f(n)": 185363.80004736813,
          "n": 17.500000000000014
         },
         {
          "Complexity": "O(2ⁿ)",
          "f(n)": 198668.00180565304,
          "n": 17.600000000000016
         },
         {
          "Complexity": "O(2ⁿ)",
          "f(n)": 212927.092190411,
          "n": 17.700000000000014
         },
         {
          "Complexity": "O(2ⁿ)",
          "f(n)": 228209.60686470152,
          "n": 17.800000000000015
         },
         {
          "Complexity": "O(2ⁿ)",
          "f(n)": 244589.0005334276,
          "n": 17.900000000000016
         },
         {
          "Complexity": "O(2ⁿ)",
          "f(n)": 262144.00000000256,
          "n": 18.000000000000014
         },
         {
          "Complexity": "O(2ⁿ)",
          "f(n)": 280958.98256311705,
          "n": 18.100000000000016
         },
         {
          "Complexity": "O(2ⁿ)",
          "f(n)": 301124.3815723463,
          "n": 18.200000000000017
         },
         {
          "Complexity": "O(2ⁿ)",
          "f(n)": 322737.12109189306,
          "n": 18.300000000000015
         },
         {
          "Complexity": "O(2ⁿ)",
          "f(n)": 345901.08176165354,
          "n": 18.400000000000016
         },
         {
          "Complexity": "O(2ⁿ)",
          "f(n)": 370727.60009473626,
          "n": 18.500000000000014
         },
         {
          "Complexity": "O(2ⁿ)",
          "f(n)": 397336.0036113061,
          "n": 18.600000000000016
         },
         {
          "Complexity": "O(2ⁿ)",
          "f(n)": 425854.18438082305,
          "n": 18.700000000000017
         },
         {
          "Complexity": "O(2ⁿ)",
          "f(n)": 456419.21372940304,
          "n": 18.800000000000015
         },
         {
          "Complexity": "O(2ⁿ)",
          "f(n)": 489178.0010668552,
          "n": 18.900000000000016
         },
         {
          "Complexity": "O(2ⁿ)",
          "f(n)": 524288.0000000051,
          "n": 19.000000000000014
         },
         {
          "Complexity": "O(2ⁿ)",
          "f(n)": 561917.9651262341,
          "n": 19.100000000000016
         },
         {
          "Complexity": "O(2ⁿ)",
          "f(n)": 602248.7631446926,
          "n": 19.200000000000017
         },
         {
          "Complexity": "O(2ⁿ)",
          "f(n)": 645474.2421837861,
          "n": 19.300000000000015
         },
         {
          "Complexity": "O(2ⁿ)",
          "f(n)": 691802.1635233071,
          "n": 19.400000000000016
         },
         {
          "Complexity": "O(2ⁿ)",
          "f(n)": 741455.2001894744,
          "n": 19.500000000000018
         },
         {
          "Complexity": "O(2ⁿ)",
          "f(n)": 794672.0072226122,
          "n": 19.600000000000016
         },
         {
          "Complexity": "O(2ⁿ)",
          "f(n)": 851708.3687616461,
          "n": 19.700000000000017
         },
         {
          "Complexity": "O(2ⁿ)",
          "f(n)": 912838.4274588084,
          "n": 19.80000000000002
         },
         {
          "Complexity": "O(2ⁿ)",
          "f(n)": 978356.0021337104,
          "n": 19.900000000000016
         },
         {
          "Complexity": "O(2ⁿ)",
          "f(n)": 1048576.0000000128,
          "n": 20.000000000000018
         },
         {
          "Complexity": "O(2ⁿ)",
          "f(n)": 1123835.9302524682,
          "n": 20.100000000000016
         },
         {
          "Complexity": "O(2ⁿ)",
          "f(n)": 1204497.5262893853,
          "n": 20.200000000000017
         },
         {
          "Complexity": "O(2ⁿ)",
          "f(n)": 1290948.4843675755,
          "n": 20.30000000000002
         },
         {
          "Complexity": "O(2ⁿ)",
          "f(n)": 1383604.3270466141,
          "n": 20.400000000000016
         },
         {
          "Complexity": "O(2ⁿ)",
          "f(n)": 1482910.4003789488,
          "n": 20.500000000000018
         },
         {
          "Complexity": "O(2ⁿ)",
          "f(n)": 1589344.0144452243,
          "n": 20.600000000000016
         },
         {
          "Complexity": "O(2ⁿ)",
          "f(n)": 1703416.7375232922,
          "n": 20.700000000000017
         },
         {
          "Complexity": "O(2ⁿ)",
          "f(n)": 1825676.8549176168,
          "n": 20.80000000000002
         },
         {
          "Complexity": "O(2ⁿ)",
          "f(n)": 1956712.0042674209,
          "n": 20.900000000000016
         },
         {
          "Complexity": "O(2ⁿ)",
          "f(n)": 2097152.0000000256,
          "n": 21.000000000000018
         },
         {
          "Complexity": "O(2ⁿ)",
          "f(n)": 2247671.860504942,
          "n": 21.10000000000002
         },
         {
          "Complexity": "O(2ⁿ)",
          "f(n)": 2408995.0525787706,
          "n": 21.200000000000017
         },
         {
          "Complexity": "O(2ⁿ)",
          "f(n)": 2581896.968735151,
          "n": 21.30000000000002
         },
         {
          "Complexity": "O(2ⁿ)",
          "f(n)": 2767208.654093235,
          "n": 21.40000000000002
         },
         {
          "Complexity": "O(2ⁿ)",
          "f(n)": 2965820.8007578976,
          "n": 21.500000000000018
         },
         {
          "Complexity": "O(2ⁿ)",
          "f(n)": 3178688.0288904565,
          "n": 21.60000000000002
         },
         {
          "Complexity": "O(2ⁿ)",
          "f(n)": 3406833.4750465844,
          "n": 21.700000000000017
         },
         {
          "Complexity": "O(2ⁿ)",
          "f(n)": 3651353.7098352336,
          "n": 21.80000000000002
         },
         {
          "Complexity": "O(2ⁿ)",
          "f(n)": 3913424.0085348515,
          "n": 21.90000000000002
         },
         {
          "Complexity": "O(2ⁿ)",
          "f(n)": 4194304.000000051,
          "n": 22.000000000000018
         },
         {
          "Complexity": "O(2ⁿ)",
          "f(n)": 4495343.721009884,
          "n": 22.10000000000002
         },
         {
          "Complexity": "O(2ⁿ)",
          "f(n)": 4817990.105157541,
          "n": 22.200000000000017
         },
         {
          "Complexity": "O(2ⁿ)",
          "f(n)": 5163793.937470302,
          "n": 22.30000000000002
         },
         {
          "Complexity": "O(2ⁿ)",
          "f(n)": 5534417.30818647,
          "n": 22.40000000000002
         },
         {
          "Complexity": "O(2ⁿ)",
          "f(n)": 5931641.601515795,
          "n": 22.500000000000018
         },
         {
          "Complexity": "O(2ⁿ)",
          "f(n)": 6357376.057780913,
          "n": 22.60000000000002
         },
         {
          "Complexity": "O(2ⁿ)",
          "f(n)": 6813666.9500931855,
          "n": 22.70000000000002
         },
         {
          "Complexity": "O(2ⁿ)",
          "f(n)": 7302707.419670467,
          "n": 22.80000000000002
         },
         {
          "Complexity": "O(2ⁿ)",
          "f(n)": 7826848.017069703,
          "n": 22.90000000000002
         },
         {
          "Complexity": "O(2ⁿ)",
          "f(n)": 8388608.000000125,
          "n": 23.00000000000002
         },
         {
          "Complexity": "O(2ⁿ)",
          "f(n)": 8990687.442019768,
          "n": 23.10000000000002
         },
         {
          "Complexity": "O(2ⁿ)",
          "f(n)": 9635980.210315105,
          "n": 23.20000000000002
         },
         {
          "Complexity": "O(2ⁿ)",
          "f(n)": 10327587.874940604,
          "n": 23.30000000000002
         },
         {
          "Complexity": "O(2ⁿ)",
          "f(n)": 11068834.61637294,
          "n": 23.40000000000002
         },
         {
          "Complexity": "O(2ⁿ)",
          "f(n)": 11863283.20303162,
          "n": 23.50000000000002
         },
         {
          "Complexity": "O(2ⁿ)",
          "f(n)": 12714752.115561826,
          "n": 23.60000000000002
         },
         {
          "Complexity": "O(2ⁿ)",
          "f(n)": 13627333.900186371,
          "n": 23.70000000000002
         },
         {
          "Complexity": "O(2ⁿ)",
          "f(n)": 14605414.839340935,
          "n": 23.80000000000002
         },
         {
          "Complexity": "O(2ⁿ)",
          "f(n)": 15653696.034139406,
          "n": 23.90000000000002
         },
         {
          "Complexity": "O(2ⁿ)",
          "f(n)": 16777216.00000025,
          "n": 24.00000000000002
         },
         {
          "Complexity": "O(2ⁿ)",
          "f(n)": 17981374.884039536,
          "n": 24.10000000000002
         },
         {
          "Complexity": "O(2ⁿ)",
          "f(n)": 19271960.42063021,
          "n": 24.20000000000002
         },
         {
          "Complexity": "O(2ⁿ)",
          "f(n)": 20655175.74988126,
          "n": 24.300000000000022
         },
         {
          "Complexity": "O(2ⁿ)",
          "f(n)": 22137669.23274588,
          "n": 24.40000000000002
         },
         {
          "Complexity": "O(2ⁿ)",
          "f(n)": 23726566.40606324,
          "n": 24.50000000000002
         },
         {
          "Complexity": "O(2ⁿ)",
          "f(n)": 25429504.231123716,
          "n": 24.600000000000023
         },
         {
          "Complexity": "O(2ⁿ)",
          "f(n)": 27254667.800372742,
          "n": 24.70000000000002
         },
         {
          "Complexity": "O(2ⁿ)",
          "f(n)": 29210829.67868194,
          "n": 24.800000000000022
         },
         {
          "Complexity": "O(2ⁿ)",
          "f(n)": 31307392.068278812,
          "n": 24.90000000000002
         },
         {
          "Complexity": "O(2ⁿ)",
          "f(n)": 33554432.0000005,
          "n": 25.00000000000002
         },
         {
          "Complexity": "O(2ⁿ)",
          "f(n)": 35962749.76807916,
          "n": 25.100000000000023
         },
         {
          "Complexity": "O(2ⁿ)",
          "f(n)": 38543920.84126042,
          "n": 25.20000000000002
         },
         {
          "Complexity": "O(2ⁿ)",
          "f(n)": 41310351.49976252,
          "n": 25.300000000000022
         },
         {
          "Complexity": "O(2ⁿ)",
          "f(n)": 44275338.46549176,
          "n": 25.40000000000002
         },
         {
          "Complexity": "O(2ⁿ)",
          "f(n)": 47453132.81212648,
          "n": 25.50000000000002
         },
         {
          "Complexity": "O(2ⁿ)",
          "f(n)": 50859008.46224743,
          "n": 25.600000000000023
         },
         {
          "Complexity": "O(2ⁿ)",
          "f(n)": 54509335.600745484,
          "n": 25.70000000000002
         },
         {
          "Complexity": "O(2ⁿ)",
          "f(n)": 58421659.35736388,
          "n": 25.800000000000022
         },
         {
          "Complexity": "O(2ⁿ)",
          "f(n)": 62614784.13655778,
          "n": 25.900000000000023
         },
         {
          "Complexity": "O(2ⁿ)",
          "f(n)": 67108864.000001,
          "n": 26.00000000000002
         },
         {
          "Complexity": "O(2ⁿ)",
          "f(n)": 71925499.53615832,
          "n": 26.100000000000023
         },
         {
          "Complexity": "O(2ⁿ)",
          "f(n)": 77087841.68252103,
          "n": 26.200000000000024
         },
         {
          "Complexity": "O(2ⁿ)",
          "f(n)": 82620702.99952504,
          "n": 26.300000000000022
         },
         {
          "Complexity": "O(2ⁿ)",
          "f(n)": 88550676.93098374,
          "n": 26.400000000000023
         },
         {
          "Complexity": "O(2ⁿ)",
          "f(n)": 94906265.62425296,
          "n": 26.50000000000002
         },
         {
          "Complexity": "O(2ⁿ)",
          "f(n)": 101718016.92449486,
          "n": 26.600000000000023
         },
         {
          "Complexity": "O(2ⁿ)",
          "f(n)": 109018671.20149124,
          "n": 26.700000000000024
         },
         {
          "Complexity": "O(2ⁿ)",
          "f(n)": 116843318.71472776,
          "n": 26.800000000000022
         },
         {
          "Complexity": "O(2ⁿ)",
          "f(n)": 125229568.27311556,
          "n": 26.900000000000023
         },
         {
          "Complexity": "O(2ⁿ)",
          "f(n)": 134217728.000002,
          "n": 27.00000000000002
         },
         {
          "Complexity": "O(2ⁿ)",
          "f(n)": 143850999.07231665,
          "n": 27.100000000000023
         },
         {
          "Complexity": "O(2ⁿ)",
          "f(n)": 154175683.36504206,
          "n": 27.200000000000024
         },
         {
          "Complexity": "O(2ⁿ)",
          "f(n)": 165241405.99905008,
          "n": 27.300000000000022
         },
         {
          "Complexity": "O(2ⁿ)",
          "f(n)": 177101353.86196747,
          "n": 27.400000000000023
         },
         {
          "Complexity": "O(2ⁿ)",
          "f(n)": 189812531.24850637,
          "n": 27.500000000000025
         },
         {
          "Complexity": "O(2ⁿ)",
          "f(n)": 203436033.84898973,
          "n": 27.600000000000023
         },
         {
          "Complexity": "O(2ⁿ)",
          "f(n)": 218037342.40298247,
          "n": 27.700000000000024
         },
         {
          "Complexity": "O(2ⁿ)",
          "f(n)": 233686637.42945608,
          "n": 27.800000000000026
         },
         {
          "Complexity": "O(2ⁿ)",
          "f(n)": 250459136.54623112,
          "n": 27.900000000000023
         },
         {
          "Complexity": "O(2ⁿ)",
          "f(n)": 268435456.00000465,
          "n": 28.000000000000025
         },
         {
          "Complexity": "O(2ⁿ)",
          "f(n)": 287701998.1446333,
          "n": 28.100000000000023
         },
         {
          "Complexity": "O(2ⁿ)",
          "f(n)": 308351366.7300841,
          "n": 28.200000000000024
         },
         {
          "Complexity": "O(2ⁿ)",
          "f(n)": 330482811.99810094,
          "n": 28.300000000000026
         },
         {
          "Complexity": "O(2ⁿ)",
          "f(n)": 354202707.72393495,
          "n": 28.400000000000023
         },
         {
          "Complexity": "O(2ⁿ)",
          "f(n)": 379625062.49701273,
          "n": 28.500000000000025
         },
         {
          "Complexity": "O(2ⁿ)",
          "f(n)": 406872067.69797945,
          "n": 28.600000000000023
         },
         {
          "Complexity": "O(2ⁿ)",
          "f(n)": 436074684.80596495,
          "n": 28.700000000000024
         },
         {
          "Complexity": "O(2ⁿ)",
          "f(n)": 467373274.85891217,
          "n": 28.800000000000026
         },
         {
          "Complexity": "O(2ⁿ)",
          "f(n)": 500918273.09246224,
          "n": 28.900000000000023
         },
         {
          "Complexity": "O(2ⁿ)",
          "f(n)": 536870912.0000093,
          "n": 29.000000000000025
         },
         {
          "Complexity": "O(2ⁿ)",
          "f(n)": 575403996.289268,
          "n": 29.100000000000026
         },
         {
          "Complexity": "O(2ⁿ)",
          "f(n)": 616702733.4601682,
          "n": 29.200000000000024
         },
         {
          "Complexity": "O(2ⁿ)",
          "f(n)": 660965623.9962019,
          "n": 29.300000000000026
         },
         {
          "Complexity": "O(2ⁿ)",
          "f(n)": 708405415.4478716,
          "n": 29.400000000000027
         },
         {
          "Complexity": "O(2ⁿ)",
          "f(n)": 759250124.9940255,
          "n": 29.500000000000025
         },
         {
          "Complexity": "O(2ⁿ)",
          "f(n)": 813744135.3959609,
          "n": 29.600000000000026
         },
         {
          "Complexity": "O(2ⁿ)",
          "f(n)": 872149369.6119299,
          "n": 29.700000000000024
         },
         {
          "Complexity": "O(2ⁿ)",
          "f(n)": 934746549.7178243,
          "n": 29.800000000000026
         },
         {
          "Complexity": "O(2ⁿ)",
          "f(n)": 1001836546.1849269,
          "n": 29.900000000000027
         }
        ]
       },
       "encoding": {
        "color": {
         "field": "Complexity",
         "type": "nominal"
        },
        "x": {
         "field": "n",
         "type": "quantitative"
        },
        "y": {
         "field": "f(n)",
         "scale": {
          "domain": [
           0,
           100
          ]
         },
         "type": "quantitative"
        }
       },
       "mark": {
        "clip": true,
        "type": "line"
       }
      },
      "image/png": "[encoded data removed]",
      "text/plain": [
       "<VegaLite 3 object>\n",
       "\n",
       "If you see this message, it means the renderer has not been properly enabled\n",
       "for the frontend that you are using. For more information, see\n",
       "https://altair-viz.github.io/user_guide/troubleshooting.html\n"
      ]
     },
     "execution_count": 28,
     "metadata": {},
     "output_type": "execute_result"
    }
   ],
   "source": [
    "# Disregard code - for plotting purposes only\n",
    "\n",
    "def build_data(n):\n",
    "    source = pd.DataFrame({\n",
    "        'n': n,\n",
    "        'O(1)': 0*n+1,\n",
    "        'O(log n)': np.log(n),\n",
    "        'O(n)': n,\n",
    "        'O(n log n)': n*np.log(n),\n",
    "        'O(n\\u00B2)': n**2.,\n",
    "        'O(n\\u00B3)': n**3.,\n",
    "        'O(2\\u207f)':  2.**n})\n",
    "\n",
    "    # Melting the complexities and renaming the axis\n",
    "    data = source.melt('n')\n",
    "    data = data.rename(columns={\"value\": \"f(n)\", \"variable\": \"Complexity\"})\n",
    "    return data\n",
    "\n",
    "n = np.arange(1, 30, 0.1)\n",
    "data = build_data(n)\n",
    "    \n",
    "# Plotting the graph\n",
    "alt.Chart(data).mark_line(clip=True).encode(\n",
    "    x=alt.X('n'),\n",
    "    y=alt.Y('f(n)',\n",
    "            scale=alt.Scale(domain=[0, 100])),\n",
    "    color='Complexity').configure_axis(grid=False)"
   ]
  },
  {
   "cell_type": "markdown",
   "metadata": {},
   "source": [
    "It is also common to look at log-log plots:"
   ]
  },
  {
   "cell_type": "code",
   "execution_count": 29,
   "metadata": {},
   "outputs": [
    {
     "data": {
      "application/vnd.vegalite.v3+json": {
       "$schema": "https://vega.github.io/schema/vega-lite/v3.4.0.json",
       "config": {
        "axis": {
         "grid": false
        },
        "mark": {
         "tooltip": null
        },
        "view": {
         "height": 300,
         "width": 400
        }
       },
       "data": {
        "name": "data-3f68563b55c40a3ea1ec68888ba5e883"
       },
       "datasets": {
        "data-3f68563b55c40a3ea1ec68888ba5e883": [
         {
          "Complexity": "O(1)",
          "f(n)": 1,
          "n": 10
         },
         {
          "Complexity": "O(1)",
          "f(n)": 1,
          "n": 12.589254117941675
         },
         {
          "Complexity": "O(1)",
          "f(n)": 1,
          "n": 15.848931924611142
         },
         {
          "Complexity": "O(1)",
          "f(n)": 1,
          "n": 19.952623149688808
         },
         {
          "Complexity": "O(1)",
          "f(n)": 1,
          "n": 25.11886431509582
         },
         {
          "Complexity": "O(1)",
          "f(n)": 1,
          "n": 31.622776601683825
         },
         {
          "Complexity": "O(1)",
          "f(n)": 1,
          "n": 39.81071705534978
         },
         {
          "Complexity": "O(1)",
          "f(n)": 1,
          "n": 50.1187233627273
         },
         {
          "Complexity": "O(1)",
          "f(n)": 1,
          "n": 63.09573444801943
         },
         {
          "Complexity": "O(1)",
          "f(n)": 1,
          "n": 79.4328234724283
         },
         {
          "Complexity": "O(1)",
          "f(n)": 1,
          "n": 100.0000000000002
         },
         {
          "Complexity": "O(1)",
          "f(n)": 1,
          "n": 125.89254117941701
         },
         {
          "Complexity": "O(1)",
          "f(n)": 1,
          "n": 158.48931924611173
         },
         {
          "Complexity": "O(1)",
          "f(n)": 1,
          "n": 199.5262314968885
         },
         {
          "Complexity": "O(1)",
          "f(n)": 1,
          "n": 251.18864315095874
         },
         {
          "Complexity": "O(1)",
          "f(n)": 1,
          "n": 316.2277660168389
         },
         {
          "Complexity": "O(1)",
          "f(n)": 1,
          "n": 398.1071705534986
         },
         {
          "Complexity": "O(1)",
          "f(n)": 1,
          "n": 501.18723362727405
         },
         {
          "Complexity": "O(1)",
          "f(n)": 1,
          "n": 630.9573444801956
         },
         {
          "Complexity": "O(1)",
          "f(n)": 1,
          "n": 794.3282347242846
         },
         {
          "Complexity": "O(log n)",
          "f(n)": 2.302585092994046,
          "n": 10
         },
         {
          "Complexity": "O(log n)",
          "f(n)": 2.5328436022934504,
          "n": 12.589254117941675
         },
         {
          "Complexity": "O(log n)",
          "f(n)": 2.7631021115928553,
          "n": 15.848931924611142
         },
         {
          "Complexity": "O(log n)",
          "f(n)": 2.99336062089226,
          "n": 19.952623149688808
         },
         {
          "Complexity": "O(log n)",
          "f(n)": 3.223619130191665,
          "n": 25.11886431509582
         },
         {
          "Complexity": "O(log n)",
          "f(n)": 3.4538776394910693,
          "n": 31.622776601683825
         },
         {
          "Complexity": "O(log n)",
          "f(n)": 3.6841361487904742,
          "n": 39.81071705534978
         },
         {
          "Complexity": "O(log n)",
          "f(n)": 3.914394658089879,
          "n": 50.1187233627273
         },
         {
          "Complexity": "O(log n)",
          "f(n)": 4.144653167389284,
          "n": 63.09573444801943
         },
         {
          "Complexity": "O(log n)",
          "f(n)": 4.374911676688689,
          "n": 79.4328234724283
         },
         {
          "Complexity": "O(log n)",
          "f(n)": 4.605170185988094,
          "n": 100.0000000000002
         },
         {
          "Complexity": "O(log n)",
          "f(n)": 4.835428695287498,
          "n": 125.89254117941701
         },
         {
          "Complexity": "O(log n)",
          "f(n)": 5.065687204586903,
          "n": 158.48931924611173
         },
         {
          "Complexity": "O(log n)",
          "f(n)": 5.295945713886308,
          "n": 199.5262314968885
         },
         {
          "Complexity": "O(log n)",
          "f(n)": 5.5262042231857125,
          "n": 251.18864315095874
         },
         {
          "Complexity": "O(log n)",
          "f(n)": 5.756462732485117,
          "n": 316.2277660168389
         },
         {
          "Complexity": "O(log n)",
          "f(n)": 5.986721241784522,
          "n": 398.1071705534986
         },
         {
          "Complexity": "O(log n)",
          "f(n)": 6.216979751083927,
          "n": 501.18723362727405
         },
         {
          "Complexity": "O(log n)",
          "f(n)": 6.447238260383331,
          "n": 630.9573444801956
         },
         {
          "Complexity": "O(log n)",
          "f(n)": 6.677496769682737,
          "n": 794.3282347242846
         },
         {
          "Complexity": "O(n)",
          "f(n)": 10,
          "n": 10
         },
         {
          "Complexity": "O(n)",
          "f(n)": 12.589254117941675,
          "n": 12.589254117941675
         },
         {
          "Complexity": "O(n)",
          "f(n)": 15.848931924611142,
          "n": 15.848931924611142
         },
         {
          "Complexity": "O(n)",
          "f(n)": 19.952623149688808,
          "n": 19.952623149688808
         },
         {
          "Complexity": "O(n)",
          "f(n)": 25.11886431509582,
          "n": 25.11886431509582
         },
         {
          "Complexity": "O(n)",
          "f(n)": 31.622776601683825,
          "n": 31.622776601683825
         },
         {
          "Complexity": "O(n)",
          "f(n)": 39.81071705534978,
          "n": 39.81071705534978
         },
         {
          "Complexity": "O(n)",
          "f(n)": 50.1187233627273,
          "n": 50.1187233627273
         },
         {
          "Complexity": "O(n)",
          "f(n)": 63.09573444801943,
          "n": 63.09573444801943
         },
         {
          "Complexity": "O(n)",
          "f(n)": 79.4328234724283,
          "n": 79.4328234724283
         },
         {
          "Complexity": "O(n)",
          "f(n)": 100.0000000000002,
          "n": 100.0000000000002
         },
         {
          "Complexity": "O(n)",
          "f(n)": 125.89254117941701,
          "n": 125.89254117941701
         },
         {
          "Complexity": "O(n)",
          "f(n)": 158.48931924611173,
          "n": 158.48931924611173
         },
         {
          "Complexity": "O(n)",
          "f(n)": 199.5262314968885,
          "n": 199.5262314968885
         },
         {
          "Complexity": "O(n)",
          "f(n)": 251.18864315095874,
          "n": 251.18864315095874
         },
         {
          "Complexity": "O(n)",
          "f(n)": 316.2277660168389,
          "n": 316.2277660168389
         },
         {
          "Complexity": "O(n)",
          "f(n)": 398.1071705534986,
          "n": 398.1071705534986
         },
         {
          "Complexity": "O(n)",
          "f(n)": 501.18723362727405,
          "n": 501.18723362727405
         },
         {
          "Complexity": "O(n)",
          "f(n)": 630.9573444801956,
          "n": 630.9573444801956
         },
         {
          "Complexity": "O(n)",
          "f(n)": 794.3282347242846,
          "n": 794.3282347242846
         },
         {
          "Complexity": "O(n log n)",
          "f(n)": 23.02585092994046,
          "n": 10
         },
         {
          "Complexity": "O(n log n)",
          "f(n)": 31.886611750275044,
          "n": 12.589254117941675
         },
         {
          "Complexity": "O(n log n)",
          "f(n)": 43.792217267384466,
          "n": 15.848931924611142
         },
         {
          "Complexity": "O(n log n)",
          "f(n)": 59.72539641978177,
          "n": 19.952623149688808
         },
         {
          "Complexity": "O(n log n)",
          "f(n)": 80.97365153483163,
          "n": 25.11886431509582
         },
         {
          "Complexity": "O(n log n)",
          "f(n)": 109.22120100317714,
          "n": 31.622776601683825
         },
         {
          "Complexity": "O(n log n)",
          "f(n)": 146.66810181288358,
          "n": 39.81071705534978
         },
         {
          "Complexity": "O(n log n)",
          "f(n)": 196.18446300134417,
          "n": 50.1187233627273
         },
         {
          "Complexity": "O(n log n)",
          "f(n)": 261.50993562873686,
          "n": 63.09573444801943
         },
         {
          "Complexity": "O(n log n)",
          "f(n)": 347.51158692187795,
          "n": 79.4328234724283
         },
         {
          "Complexity": "O(n log n)",
          "f(n)": 460.5170185988103,
          "n": 100.0000000000002
         },
         {
          "Complexity": "O(n log n)",
          "f(n)": 608.744406141616,
          "n": 125.89254117941701
         },
         {
          "Complexity": "O(n log n)",
          "f(n)": 802.8573165687169,
          "n": 158.48931924611173
         },
         {
          "Complexity": "O(n log n)",
          "f(n)": 1056.680090503834,
          "n": 199.5262314968885
         },
         {
          "Complexity": "O(n log n)",
          "f(n)": 1388.119740597117,
          "n": 251.18864315095874
         },
         {
          "Complexity": "O(n log n)",
          "f(n)": 1820.3533500529568,
          "n": 316.2277660168389
         },
         {
          "Complexity": "O(n log n)",
          "f(n)": 2383.3566544593637,
          "n": 398.1071705534986
         },
         {
          "Complexity": "O(n log n)",
          "f(n)": 3115.870882962532,
          "n": 501.18723362727405
         },
         {
          "Complexity": "O(n log n)",
          "f(n)": 4067.932332002583,
          "n": 630.9573444801956
         },
         {
          "Complexity": "O(n log n)",
          "f(n)": 5304.124221439201,
          "n": 794.3282347242846
         },
         {
          "Complexity": "O(n²)",
          "f(n)": 100,
          "n": 10
         },
         {
          "Complexity": "O(n²)",
          "f(n)": 158.48931924611142,
          "n": 12.589254117941675
         },
         {
          "Complexity": "O(n²)",
          "f(n)": 251.18864315095823,
          "n": 15.848931924611142
         },
         {
          "Complexity": "O(n²)",
          "f(n)": 398.1071705534977,
          "n": 19.952623149688808
         },
         {
          "Complexity": "O(n²)",
          "f(n)": 630.9573444801943,
          "n": 25.11886431509582
         },
         {
          "Complexity": "O(n²)",
          "f(n)": 1000.0000000000019,
          "n": 31.622776601683825
         },
         {
          "Complexity": "O(n²)",
          "f(n)": 1584.8931924611177,
          "n": 39.81071705534978
         },
         {
          "Complexity": "O(n²)",
          "f(n)": 2511.8864315095875,
          "n": 50.1187233627273
         },
         {
          "Complexity": "O(n²)",
          "f(n)": 3981.0717055349855,
          "n": 63.09573444801943
         },
         {
          "Complexity": "O(n²)",
          "f(n)": 6309.573444801956,
          "n": 79.4328234724283
         },
         {
          "Complexity": "O(n²)",
          "f(n)": 10000.00000000004,
          "n": 100.0000000000002
         },
         {
          "Complexity": "O(n²)",
          "f(n)": 15848.931924611208,
          "n": 125.89254117941701
         },
         {
          "Complexity": "O(n²)",
          "f(n)": 25118.86431509592,
          "n": 158.48931924611173
         },
         {
          "Complexity": "O(n²)",
          "f(n)": 39810.71705534994,
          "n": 199.5262314968885
         },
         {
          "Complexity": "O(n²)",
          "f(n)": 63095.73444801969,
          "n": 251.18864315095874
         },
         {
          "Complexity": "O(n²)",
          "f(n)": 100000.00000000063,
          "n": 316.2277660168389
         },
         {
          "Complexity": "O(n²)",
          "f(n)": 158489.3192461124,
          "n": 398.1071705534986
         },
         {
          "Complexity": "O(n²)",
          "f(n)": 251188.64315095978,
          "n": 501.18723362727405
         },
         {
          "Complexity": "O(n²)",
          "f(n)": 398107.17055350024,
          "n": 630.9573444801956
         },
         {
          "Complexity": "O(n²)",
          "f(n)": 630957.3444801981,
          "n": 794.3282347242846
         },
         {
          "Complexity": "O(n³)",
          "f(n)": 1000,
          "n": 10
         },
         {
          "Complexity": "O(n³)",
          "f(n)": 1995.2623149688807,
          "n": 12.589254117941675
         },
         {
          "Complexity": "O(n³)",
          "f(n)": 3981.071705534978,
          "n": 15.848931924611142
         },
         {
          "Complexity": "O(n³)",
          "f(n)": 7943.282347242829,
          "n": 19.952623149688808
         },
         {
          "Complexity": "O(n³)",
          "f(n)": 15848.93192461117,
          "n": 25.11886431509582
         },
         {
          "Complexity": "O(n³)",
          "f(n)": 31622.776601683887,
          "n": 31.622776601683825
         },
         {
          "Complexity": "O(n³)",
          "f(n)": 63095.73444801957,
          "n": 39.81071705534978
         },
         {
          "Complexity": "O(n³)",
          "f(n)": 125892.54117941727,
          "n": 50.1187233627273
         },
         {
          "Complexity": "O(n³)",
          "f(n)": 251188.64315095925,
          "n": 63.09573444801943
         },
         {
          "Complexity": "O(n³)",
          "f(n)": 501187.23362727504,
          "n": 79.4328234724283
         },
         {
          "Complexity": "O(n³)",
          "f(n)": 1000000.0000000059,
          "n": 100.0000000000002
         },
         {
          "Complexity": "O(n³)",
          "f(n)": 1995262.3149688933,
          "n": 125.89254117941701
         },
         {
          "Complexity": "O(n³)",
          "f(n)": 3981071.7055350016,
          "n": 158.48931924611173
         },
         {
          "Complexity": "O(n³)",
          "f(n)": 7943282.34724288,
          "n": 199.5262314968885
         },
         {
          "Complexity": "O(n³)",
          "f(n)": 15848931.924611272,
          "n": 251.18864315095874
         },
         {
          "Complexity": "O(n³)",
          "f(n)": 31622776.60168409,
          "n": 316.2277660168389
         },
         {
          "Complexity": "O(n³)",
          "f(n)": 63095734.44801996,
          "n": 398.1071705534986
         },
         {
          "Complexity": "O(n³)",
          "f(n)": 125892541.17941806,
          "n": 501.18723362727405
         },
         {
          "Complexity": "O(n³)",
          "f(n)": 251188643.15096083,
          "n": 630.9573444801956
         },
         {
          "Complexity": "O(n³)",
          "f(n)": 501187233.62727815,
          "n": 794.3282347242846
         },
         {
          "Complexity": "O(2ⁿ)",
          "f(n)": 1024,
          "n": 10
         },
         {
          "Complexity": "O(2ⁿ)",
          "f(n)": 6162.303905301654,
          "n": 12.589254117941675
         },
         {
          "Complexity": "O(2ⁿ)",
          "f(n)": 59020.639186153465,
          "n": 15.848931924611142
         },
         {
          "Complexity": "O(2ⁿ)",
          "f(n)": 1014700.9342496551,
          "n": 19.952623149688808
         },
         {
          "Complexity": "O(2ⁿ)",
          "f(n)": 36436077.39122658,
          "n": 25.11886431509582
         },
         {
          "Complexity": "O(2ⁿ)",
          "f(n)": 3306772393.597534,
          "n": 31.622776601683825
         },
         {
          "Complexity": "O(2ⁿ)",
          "f(n)": 964317354202.9736,
          "n": 39.81071705534978
         },
         {
          "Complexity": "O(2ⁿ)",
          "f(n)": 1222472438877910,
          "n": 50.1187233627273
         },
         {
          "Complexity": "O(2ⁿ)",
          "f(n)": 9856180931403640000,
          "n": 63.09573444801943
         },
         {
          "Complexity": "O(2ⁿ)",
          "f(n)": 8.159480436623605e+23,
          "n": 79.4328234724283
         },
         {
          "Complexity": "O(2ⁿ)",
          "f(n)": 1.2676506002284042e+30,
          "n": 100.0000000000002
         },
         {
          "Complexity": "O(2ⁿ)",
          "f(n)": 7.896436101243963e+37,
          "n": 125.89254117941701
         },
         {
          "Complexity": "O(2ⁿ)",
          "f(n)": 5.1290754234235275e+47,
          "n": 158.48931924611173
         },
         {
          "Complexity": "O(2ⁿ)",
          "f(n)": 1.1571258675793716e+60,
          "n": 199.5262314968885
         },
         {
          "Complexity": "O(2ⁿ)",
          "f(n)": 4.123976279055814e+75,
          "n": 251.18864315095874
         },
         {
          "Complexity": "O(2ⁿ)",
          "f(n)": 1.5633025377171234e+95,
          "n": 316.2277660168389
         },
         {
          "Complexity": "O(2ⁿ)",
          "f(n)": 6.953441824667698e+119,
          "n": 398.1071705534986
         },
         {
          "Complexity": "O(2ⁿ)",
          "f(n)": 7.454023638309147e+150,
          "n": 501.18723362727405
         },
         {
          "Complexity": "O(2ⁿ)",
          "f(n)": 8.651405594036922e+189,
          "n": 630.9573444801956
         },
         {
          "Complexity": "O(2ⁿ)",
          "f(n)": 1.3080521375062556e+239,
          "n": 794.3282347242846
         }
        ]
       },
       "encoding": {
        "color": {
         "field": "Complexity",
         "type": "nominal"
        },
        "x": {
         "field": "n",
         "scale": {
          "type": "log"
         },
         "type": "quantitative"
        },
        "y": {
         "field": "f(n)",
         "scale": {
          "type": "log"
         },
         "type": "quantitative"
        }
       },
       "mark": {
        "clip": true,
        "type": "line"
       }
      },
      "image/png": "[encoded data removed]",
      "text/plain": [
       "<VegaLite 3 object>\n",
       "\n",
       "If you see this message, it means the renderer has not been properly enabled\n",
       "for the frontend that you are using. For more information, see\n",
       "https://altair-viz.github.io/user_guide/troubleshooting.html\n"
      ]
     },
     "execution_count": 29,
     "metadata": {},
     "output_type": "execute_result"
    }
   ],
   "source": [
    "# Disregard code - for plotting purposes only\n",
    "\n",
    "# Creating the Dataset\n",
    "n = 10.0**np.arange(1, 3, 0.1)\n",
    "data = build_data(n)\n",
    "\n",
    "# Plotting the graph\n",
    "alt.Chart(data).mark_line(clip=True).encode(\n",
    "    x=alt.X('n',\n",
    "            scale=alt.Scale(type='log')),\n",
    "    y=alt.Y('f(n)',\n",
    "            scale=alt.Scale(type='log')),\n",
    "    color='Complexity').configure_axis(grid=False)"
   ]
  },
  {
   "cell_type": "markdown",
   "metadata": {},
   "source": [
    "- Above: we see that $2^n$ (exponential) is by far the biggest! \n",
    "- In the original plot $n^3$ looked bigger because $2^n$ \"hadn't caught up yet\" in the range of the plot.\n",
    "- Let's remove $2^n$ so we can see the rest of the log-log plot more clearly:\n",
    "- In practice really - $2^n$ is too slow - only cases where in theory can be as bad as - but in practice is closer to others is ok"
   ]
  },
  {
   "cell_type": "code",
   "execution_count": 30,
   "metadata": {},
   "outputs": [
    {
     "data": {
      "application/vnd.vegalite.v3+json": {
       "$schema": "https://vega.github.io/schema/vega-lite/v3.4.0.json",
       "config": {
        "axis": {
         "grid": false
        },
        "mark": {
         "tooltip": null
        },
        "view": {
         "height": 300,
         "width": 400
        }
       },
       "data": {
        "name": "data-0edb98e2f4801e789d799b0efca5c7dd"
       },
       "datasets": {
        "data-0edb98e2f4801e789d799b0efca5c7dd": [
         {
          "Complexity": "O(1)",
          "f(n)": 1,
          "n": 10
         },
         {
          "Complexity": "O(1)",
          "f(n)": 1,
          "n": 12.589254117941675
         },
         {
          "Complexity": "O(1)",
          "f(n)": 1,
          "n": 15.848931924611142
         },
         {
          "Complexity": "O(1)",
          "f(n)": 1,
          "n": 19.952623149688808
         },
         {
          "Complexity": "O(1)",
          "f(n)": 1,
          "n": 25.11886431509582
         },
         {
          "Complexity": "O(1)",
          "f(n)": 1,
          "n": 31.622776601683825
         },
         {
          "Complexity": "O(1)",
          "f(n)": 1,
          "n": 39.81071705534978
         },
         {
          "Complexity": "O(1)",
          "f(n)": 1,
          "n": 50.1187233627273
         },
         {
          "Complexity": "O(1)",
          "f(n)": 1,
          "n": 63.09573444801943
         },
         {
          "Complexity": "O(1)",
          "f(n)": 1,
          "n": 79.4328234724283
         },
         {
          "Complexity": "O(1)",
          "f(n)": 1,
          "n": 100.0000000000002
         },
         {
          "Complexity": "O(1)",
          "f(n)": 1,
          "n": 125.89254117941701
         },
         {
          "Complexity": "O(1)",
          "f(n)": 1,
          "n": 158.48931924611173
         },
         {
          "Complexity": "O(1)",
          "f(n)": 1,
          "n": 199.5262314968885
         },
         {
          "Complexity": "O(1)",
          "f(n)": 1,
          "n": 251.18864315095874
         },
         {
          "Complexity": "O(1)",
          "f(n)": 1,
          "n": 316.2277660168389
         },
         {
          "Complexity": "O(1)",
          "f(n)": 1,
          "n": 398.1071705534986
         },
         {
          "Complexity": "O(1)",
          "f(n)": 1,
          "n": 501.18723362727405
         },
         {
          "Complexity": "O(1)",
          "f(n)": 1,
          "n": 630.9573444801956
         },
         {
          "Complexity": "O(1)",
          "f(n)": 1,
          "n": 794.3282347242846
         },
         {
          "Complexity": "O(log n)",
          "f(n)": 2.302585092994046,
          "n": 10
         },
         {
          "Complexity": "O(log n)",
          "f(n)": 2.5328436022934504,
          "n": 12.589254117941675
         },
         {
          "Complexity": "O(log n)",
          "f(n)": 2.7631021115928553,
          "n": 15.848931924611142
         },
         {
          "Complexity": "O(log n)",
          "f(n)": 2.99336062089226,
          "n": 19.952623149688808
         },
         {
          "Complexity": "O(log n)",
          "f(n)": 3.223619130191665,
          "n": 25.11886431509582
         },
         {
          "Complexity": "O(log n)",
          "f(n)": 3.4538776394910693,
          "n": 31.622776601683825
         },
         {
          "Complexity": "O(log n)",
          "f(n)": 3.6841361487904742,
          "n": 39.81071705534978
         },
         {
          "Complexity": "O(log n)",
          "f(n)": 3.914394658089879,
          "n": 50.1187233627273
         },
         {
          "Complexity": "O(log n)",
          "f(n)": 4.144653167389284,
          "n": 63.09573444801943
         },
         {
          "Complexity": "O(log n)",
          "f(n)": 4.374911676688689,
          "n": 79.4328234724283
         },
         {
          "Complexity": "O(log n)",
          "f(n)": 4.605170185988094,
          "n": 100.0000000000002
         },
         {
          "Complexity": "O(log n)",
          "f(n)": 4.835428695287498,
          "n": 125.89254117941701
         },
         {
          "Complexity": "O(log n)",
          "f(n)": 5.065687204586903,
          "n": 158.48931924611173
         },
         {
          "Complexity": "O(log n)",
          "f(n)": 5.295945713886308,
          "n": 199.5262314968885
         },
         {
          "Complexity": "O(log n)",
          "f(n)": 5.5262042231857125,
          "n": 251.18864315095874
         },
         {
          "Complexity": "O(log n)",
          "f(n)": 5.756462732485117,
          "n": 316.2277660168389
         },
         {
          "Complexity": "O(log n)",
          "f(n)": 5.986721241784522,
          "n": 398.1071705534986
         },
         {
          "Complexity": "O(log n)",
          "f(n)": 6.216979751083927,
          "n": 501.18723362727405
         },
         {
          "Complexity": "O(log n)",
          "f(n)": 6.447238260383331,
          "n": 630.9573444801956
         },
         {
          "Complexity": "O(log n)",
          "f(n)": 6.677496769682737,
          "n": 794.3282347242846
         },
         {
          "Complexity": "O(n)",
          "f(n)": 10,
          "n": 10
         },
         {
          "Complexity": "O(n)",
          "f(n)": 12.589254117941675,
          "n": 12.589254117941675
         },
         {
          "Complexity": "O(n)",
          "f(n)": 15.848931924611142,
          "n": 15.848931924611142
         },
         {
          "Complexity": "O(n)",
          "f(n)": 19.952623149688808,
          "n": 19.952623149688808
         },
         {
          "Complexity": "O(n)",
          "f(n)": 25.11886431509582,
          "n": 25.11886431509582
         },
         {
          "Complexity": "O(n)",
          "f(n)": 31.622776601683825,
          "n": 31.622776601683825
         },
         {
          "Complexity": "O(n)",
          "f(n)": 39.81071705534978,
          "n": 39.81071705534978
         },
         {
          "Complexity": "O(n)",
          "f(n)": 50.1187233627273,
          "n": 50.1187233627273
         },
         {
          "Complexity": "O(n)",
          "f(n)": 63.09573444801943,
          "n": 63.09573444801943
         },
         {
          "Complexity": "O(n)",
          "f(n)": 79.4328234724283,
          "n": 79.4328234724283
         },
         {
          "Complexity": "O(n)",
          "f(n)": 100.0000000000002,
          "n": 100.0000000000002
         },
         {
          "Complexity": "O(n)",
          "f(n)": 125.89254117941701,
          "n": 125.89254117941701
         },
         {
          "Complexity": "O(n)",
          "f(n)": 158.48931924611173,
          "n": 158.48931924611173
         },
         {
          "Complexity": "O(n)",
          "f(n)": 199.5262314968885,
          "n": 199.5262314968885
         },
         {
          "Complexity": "O(n)",
          "f(n)": 251.18864315095874,
          "n": 251.18864315095874
         },
         {
          "Complexity": "O(n)",
          "f(n)": 316.2277660168389,
          "n": 316.2277660168389
         },
         {
          "Complexity": "O(n)",
          "f(n)": 398.1071705534986,
          "n": 398.1071705534986
         },
         {
          "Complexity": "O(n)",
          "f(n)": 501.18723362727405,
          "n": 501.18723362727405
         },
         {
          "Complexity": "O(n)",
          "f(n)": 630.9573444801956,
          "n": 630.9573444801956
         },
         {
          "Complexity": "O(n)",
          "f(n)": 794.3282347242846,
          "n": 794.3282347242846
         },
         {
          "Complexity": "O(n log n)",
          "f(n)": 23.02585092994046,
          "n": 10
         },
         {
          "Complexity": "O(n log n)",
          "f(n)": 31.886611750275044,
          "n": 12.589254117941675
         },
         {
          "Complexity": "O(n log n)",
          "f(n)": 43.792217267384466,
          "n": 15.848931924611142
         },
         {
          "Complexity": "O(n log n)",
          "f(n)": 59.72539641978177,
          "n": 19.952623149688808
         },
         {
          "Complexity": "O(n log n)",
          "f(n)": 80.97365153483163,
          "n": 25.11886431509582
         },
         {
          "Complexity": "O(n log n)",
          "f(n)": 109.22120100317714,
          "n": 31.622776601683825
         },
         {
          "Complexity": "O(n log n)",
          "f(n)": 146.66810181288358,
          "n": 39.81071705534978
         },
         {
          "Complexity": "O(n log n)",
          "f(n)": 196.18446300134417,
          "n": 50.1187233627273
         },
         {
          "Complexity": "O(n log n)",
          "f(n)": 261.50993562873686,
          "n": 63.09573444801943
         },
         {
          "Complexity": "O(n log n)",
          "f(n)": 347.51158692187795,
          "n": 79.4328234724283
         },
         {
          "Complexity": "O(n log n)",
          "f(n)": 460.5170185988103,
          "n": 100.0000000000002
         },
         {
          "Complexity": "O(n log n)",
          "f(n)": 608.744406141616,
          "n": 125.89254117941701
         },
         {
          "Complexity": "O(n log n)",
          "f(n)": 802.8573165687169,
          "n": 158.48931924611173
         },
         {
          "Complexity": "O(n log n)",
          "f(n)": 1056.680090503834,
          "n": 199.5262314968885
         },
         {
          "Complexity": "O(n log n)",
          "f(n)": 1388.119740597117,
          "n": 251.18864315095874
         },
         {
          "Complexity": "O(n log n)",
          "f(n)": 1820.3533500529568,
          "n": 316.2277660168389
         },
         {
          "Complexity": "O(n log n)",
          "f(n)": 2383.3566544593637,
          "n": 398.1071705534986
         },
         {
          "Complexity": "O(n log n)",
          "f(n)": 3115.870882962532,
          "n": 501.18723362727405
         },
         {
          "Complexity": "O(n log n)",
          "f(n)": 4067.932332002583,
          "n": 630.9573444801956
         },
         {
          "Complexity": "O(n log n)",
          "f(n)": 5304.124221439201,
          "n": 794.3282347242846
         },
         {
          "Complexity": "O(n²)",
          "f(n)": 100,
          "n": 10
         },
         {
          "Complexity": "O(n²)",
          "f(n)": 158.48931924611142,
          "n": 12.589254117941675
         },
         {
          "Complexity": "O(n²)",
          "f(n)": 251.18864315095823,
          "n": 15.848931924611142
         },
         {
          "Complexity": "O(n²)",
          "f(n)": 398.1071705534977,
          "n": 19.952623149688808
         },
         {
          "Complexity": "O(n²)",
          "f(n)": 630.9573444801943,
          "n": 25.11886431509582
         },
         {
          "Complexity": "O(n²)",
          "f(n)": 1000.0000000000019,
          "n": 31.622776601683825
         },
         {
          "Complexity": "O(n²)",
          "f(n)": 1584.8931924611177,
          "n": 39.81071705534978
         },
         {
          "Complexity": "O(n²)",
          "f(n)": 2511.8864315095875,
          "n": 50.1187233627273
         },
         {
          "Complexity": "O(n²)",
          "f(n)": 3981.0717055349855,
          "n": 63.09573444801943
         },
         {
          "Complexity": "O(n²)",
          "f(n)": 6309.573444801956,
          "n": 79.4328234724283
         },
         {
          "Complexity": "O(n²)",
          "f(n)": 10000.00000000004,
          "n": 100.0000000000002
         },
         {
          "Complexity": "O(n²)",
          "f(n)": 15848.931924611208,
          "n": 125.89254117941701
         },
         {
          "Complexity": "O(n²)",
          "f(n)": 25118.86431509592,
          "n": 158.48931924611173
         },
         {
          "Complexity": "O(n²)",
          "f(n)": 39810.71705534994,
          "n": 199.5262314968885
         },
         {
          "Complexity": "O(n²)",
          "f(n)": 63095.73444801969,
          "n": 251.18864315095874
         },
         {
          "Complexity": "O(n²)",
          "f(n)": 100000.00000000063,
          "n": 316.2277660168389
         },
         {
          "Complexity": "O(n²)",
          "f(n)": 158489.3192461124,
          "n": 398.1071705534986
         },
         {
          "Complexity": "O(n²)",
          "f(n)": 251188.64315095978,
          "n": 501.18723362727405
         },
         {
          "Complexity": "O(n²)",
          "f(n)": 398107.17055350024,
          "n": 630.9573444801956
         },
         {
          "Complexity": "O(n²)",
          "f(n)": 630957.3444801981,
          "n": 794.3282347242846
         },
         {
          "Complexity": "O(n³)",
          "f(n)": 1000,
          "n": 10
         },
         {
          "Complexity": "O(n³)",
          "f(n)": 1995.2623149688807,
          "n": 12.589254117941675
         },
         {
          "Complexity": "O(n³)",
          "f(n)": 3981.071705534978,
          "n": 15.848931924611142
         },
         {
          "Complexity": "O(n³)",
          "f(n)": 7943.282347242829,
          "n": 19.952623149688808
         },
         {
          "Complexity": "O(n³)",
          "f(n)": 15848.93192461117,
          "n": 25.11886431509582
         },
         {
          "Complexity": "O(n³)",
          "f(n)": 31622.776601683887,
          "n": 31.622776601683825
         },
         {
          "Complexity": "O(n³)",
          "f(n)": 63095.73444801957,
          "n": 39.81071705534978
         },
         {
          "Complexity": "O(n³)",
          "f(n)": 125892.54117941727,
          "n": 50.1187233627273
         },
         {
          "Complexity": "O(n³)",
          "f(n)": 251188.64315095925,
          "n": 63.09573444801943
         },
         {
          "Complexity": "O(n³)",
          "f(n)": 501187.23362727504,
          "n": 79.4328234724283
         },
         {
          "Complexity": "O(n³)",
          "f(n)": 1000000.0000000059,
          "n": 100.0000000000002
         },
         {
          "Complexity": "O(n³)",
          "f(n)": 1995262.3149688933,
          "n": 125.89254117941701
         },
         {
          "Complexity": "O(n³)",
          "f(n)": 3981071.7055350016,
          "n": 158.48931924611173
         },
         {
          "Complexity": "O(n³)",
          "f(n)": 7943282.34724288,
          "n": 199.5262314968885
         },
         {
          "Complexity": "O(n³)",
          "f(n)": 15848931.924611272,
          "n": 251.18864315095874
         },
         {
          "Complexity": "O(n³)",
          "f(n)": 31622776.60168409,
          "n": 316.2277660168389
         },
         {
          "Complexity": "O(n³)",
          "f(n)": 63095734.44801996,
          "n": 398.1071705534986
         },
         {
          "Complexity": "O(n³)",
          "f(n)": 125892541.17941806,
          "n": 501.18723362727405
         },
         {
          "Complexity": "O(n³)",
          "f(n)": 251188643.15096083,
          "n": 630.9573444801956
         },
         {
          "Complexity": "O(n³)",
          "f(n)": 501187233.62727815,
          "n": 794.3282347242846
         }
        ]
       },
       "encoding": {
        "color": {
         "field": "Complexity",
         "type": "nominal"
        },
        "x": {
         "field": "n",
         "scale": {
          "type": "log"
         },
         "type": "quantitative"
        },
        "y": {
         "field": "f(n)",
         "scale": {
          "type": "log"
         },
         "type": "quantitative"
        }
       },
       "mark": {
        "clip": true,
        "type": "line"
       }
      },
      "image/png": "[encoded data removed]",
      "text/plain": [
       "<VegaLite 3 object>\n",
       "\n",
       "If you see this message, it means the renderer has not been properly enabled\n",
       "for the frontend that you are using. For more information, see\n",
       "https://altair-viz.github.io/user_guide/troubleshooting.html\n"
      ]
     },
     "execution_count": 30,
     "metadata": {},
     "output_type": "execute_result"
    }
   ],
   "source": [
    "# Disregard code - for plotting purposes only\n",
    "\n",
    "data2 = data[data['Complexity'] != 'O(2\\u207f)'] # Remove 2^n\n",
    "\n",
    "# Plotting the graph\n",
    "alt.Chart(data2).mark_line(clip=True).encode(\n",
    "    x=alt.X('n',\n",
    "            scale=alt.Scale(type='log')),\n",
    "    y=alt.Y('f(n)',\n",
    "            scale=alt.Scale(type='log')),\n",
    "    color='Complexity').configure_axis(grid=False)"
   ]
  },
  {
   "cell_type": "markdown",
   "metadata": {},
   "source": [
    "In log-log plots, polynomials turn into straight lines, with slope equal to the exponent."
   ]
  },
  {
   "cell_type": "markdown",
   "metadata": {},
   "source": [
    "## Space complexity (10 min)"
   ]
  },
  {
   "cell_type": "markdown",
   "metadata": {},
   "source": [
    "- If code takes too long to run, that might be a problem.\n",
    "- Another possible problem is running out of memory.\n",
    "  - Note: this is NOT the same as \"disk space\"."
   ]
  },
  {
   "cell_type": "code",
   "execution_count": 31,
   "metadata": {},
   "outputs": [
    {
     "data": {
      "text/plain": [
       "svmem(total=8589934592, available=2488496128, percent=71.0, used=4186865664, free=177156096, active=2322931712, inactive=2224455680, wired=1863933952)"
      ]
     },
     "execution_count": 31,
     "metadata": {},
     "output_type": "execute_result"
    }
   ],
   "source": [
    "import psutil\n",
    "psutil.virtual_memory()"
   ]
  },
  {
   "cell_type": "markdown",
   "metadata": {},
   "source": [
    "- Apparently I have about 8 GB of RAM.\n",
    "- A number typically takes up 8 bytes, so I can store around a billion numbers.\n",
    "  - Actually less, because I have other stuff going on, not just Python.\n",
    "  - Plus, there's overhead from within Python.\n",
    "- If my code needs to store a billion numbers _at the same time_, I can't run it on my laptop. \n",
    "- We also analyze space complexity using Big O notation."
   ]
  },
  {
   "cell_type": "markdown",
   "metadata": {},
   "source": [
    "\n",
    "- With _time complexity_, we tend to think more about the _algorithms_.\n",
    "- With _space complexity_, we tend to think more about the _data structures_.\n",
    "\n"
   ]
  },
  {
   "cell_type": "markdown",
   "metadata": {},
   "source": [
    "Example 1:\n",
    "\n",
    "```python\n",
    "x = np.zeros(n)\n",
    "```\n",
    "\n",
    "<br><br><br>\n",
    "<br><br><br>\n",
    "Space complexity: $O(n)$\n",
    "\n"
   ]
  },
  {
   "cell_type": "markdown",
   "metadata": {},
   "source": [
    "Example 2:\n",
    "\n",
    "```python\n",
    "x = np.zeros((n,n))\n",
    "```\n",
    "\n",
    "<br><br><br>\n",
    "<br><br><br>\n",
    "Space complexity: $O(n^2)$\n",
    "\n"
   ]
  },
  {
   "cell_type": "markdown",
   "metadata": {},
   "source": [
    "Example 3:\n",
    "\n",
    "```python\n",
    "x = zeros((n,n,5))\n",
    "```\n",
    "\n",
    "<br><br><br>\n",
    "<br><br><br>\n",
    "Space complexity: $O(n^2)$\n",
    "5 times n by n - \n"
   ]
  },
  {
   "cell_type": "markdown",
   "metadata": {},
   "source": [
    "Example 4:\n",
    "\n",
    "```python\n",
    "x = zeros((n,n,n))\n",
    "```\n",
    "\n",
    "<br><br><br>\n",
    "<br><br><br>\n",
    "Space complexity: $O(n^3)$"
   ]
  },
  {
   "cell_type": "code",
   "execution_count": 33,
   "metadata": {},
   "outputs": [],
   "source": [
    "x = np.random.rand(5,5,5)"
   ]
  },
  {
   "cell_type": "code",
   "execution_count": 34,
   "metadata": {},
   "outputs": [
    {
     "data": {
      "text/plain": [
       "0.7348899449522436"
      ]
     },
     "execution_count": 34,
     "metadata": {},
     "output_type": "execute_result"
    }
   ],
   "source": [
    "x[1,2,3]"
   ]
  },
  {
   "cell_type": "markdown",
   "metadata": {},
   "source": [
    "Example 5:\n",
    "\n",
    "```python\n",
    "x = np.zeros(5)\n",
    "```\n",
    "\n",
    "<br><br><br>\n",
    "<br><br><br>\n",
    "Space complexity: $O(1)$\n",
    "\n"
   ]
  },
  {
   "cell_type": "markdown",
   "metadata": {},
   "source": [
    "Example 6 (time permitting): \n",
    "\n",
    "You have $n$ users on your social network site, and you want to store a \"level of friendship\" between every pair of users.\n",
    "\n",
    "<br><br><br>\n",
    "<br><br><br>\n",
    "Space complexity: $O(n^2)$\n",
    "\n"
   ]
  },
  {
   "cell_type": "markdown",
   "metadata": {},
   "source": [
    "Example 7 (time permitting):\n",
    "\n",
    "You have $n$ users on your social network site, and you want to store who is friends who who.\n",
    "\n",
    "<br><br><br>\n",
    "<br><br><br>\n",
    "Space complexity: it depends! If each user only has a constant (independent of $n$) number of friends, then $O(n)$. But in the worst case it could be $O(n^2)$. \n",
    "\n",
    "More on this in week 3!\n",
    "\n"
   ]
  },
  {
   "cell_type": "markdown",
   "metadata": {},
   "source": [
    "## True/False questions (15 min)"
   ]
  },
  {
   "cell_type": "markdown",
   "metadata": {},
   "source": [
    "Assume Algorithm A runs in $O(n)$ time and Algorithm B runs in $O\\left(\\sqrt{n}\\right)$ time.\n",
    "\n",
    "1. Running Algorithm A will take longer than running Algorithm B.\n",
    "2. Running Algorithm A with $n=20000$ will probably take 2x as long as running it with $n=10000$.\n",
    "3. Running Algorithm A with $n=2$ will probably take 2x as long as running it with $n=1$.\n",
    "4. Running Algorithm B with $n=20000$ will probably take 4x as long as running it with $n=10000$.\n",
    "5. If Algorithm B is the best algorithm for a given task, then there is no way to further speed up one's code."
   ]
  }
 ],
 "metadata": {
  "kernelspec": {
   "display_name": "Python 3",
   "language": "python",
   "name": "python3"
  },
  "language_info": {
   "codemirror_mode": {
    "name": "ipython",
    "version": 3
   },
   "file_extension": ".py",
   "mimetype": "text/x-python",
   "name": "python",
   "nbconvert_exporter": "python",
   "pygments_lexer": "ipython3",
   "version": "3.8.5"
  }
 },
 "nbformat": 4,
 "nbformat_minor": 4
}
